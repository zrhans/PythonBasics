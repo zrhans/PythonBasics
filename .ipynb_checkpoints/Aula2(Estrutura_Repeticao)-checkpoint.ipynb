{
 "cells": [
  {
   "cell_type": "markdown",
   "id": "e72c4622",
   "metadata": {},
   "source": [
    "## Estrutura de Repetição¶\n",
    "FOR - Repete x vezes uma ação\n",
    "\n",
    "WHILE - Repete uma ação enquanto determinado fator for verdadeiro"
   ]
  },
  {
   "cell_type": "markdown",
   "id": "f638079c",
   "metadata": {},
   "source": [
    "## Laço FOR\n",
    "\n",
    "for x in variável:\n",
    "    \n",
    "    <faça algo>\n",
    "    \n",
    "Lembre-se sempre de identar a condição para que o código funcione (boas práticas obrigatórias rs)\n",
    "    "
   ]
  },
  {
   "cell_type": "code",
   "execution_count": 1,
   "id": "340bd499",
   "metadata": {},
   "outputs": [
    {
     "name": "stdout",
     "output_type": "stream",
     "text": [
      "0\n",
      "1\n",
      "2\n",
      "3\n",
      "4\n",
      "5\n",
      "6\n",
      "7\n",
      "8\n",
      "9\n"
     ]
    }
   ],
   "source": [
    "for i in range(10):\n",
    "    print(i)"
   ]
  },
  {
   "cell_type": "code",
   "execution_count": 2,
   "id": "a480e89e",
   "metadata": {},
   "outputs": [
    {
     "name": "stdout",
     "output_type": "stream",
     "text": [
      "G\n",
      "a\n",
      "b\n",
      "r\n",
      "i\n",
      "e\n",
      "l\n"
     ]
    }
   ],
   "source": [
    "for i in \"Gabriel\":\n",
    "    print(i)"
   ]
  },
  {
   "cell_type": "code",
   "execution_count": 4,
   "id": "d0a94e6f",
   "metadata": {},
   "outputs": [
    {
     "name": "stdout",
     "output_type": "stream",
     "text": [
      "i'm very beaultiful\n",
      "i'm very beaultiful\n",
      "i'm very beaultiful\n",
      "i'm very beaultiful\n",
      "i'm very beaultiful\n"
     ]
    }
   ],
   "source": [
    "for i in range(5):\n",
    "    print(\"i'm very beaultiful\")"
   ]
  },
  {
   "cell_type": "code",
   "execution_count": 5,
   "id": "bfe398b1",
   "metadata": {},
   "outputs": [
    {
     "name": "stdout",
     "output_type": "stream",
     "text": [
      "Água\n",
      "Arroz\n",
      "Feijão\n",
      "Carne\n",
      "Tempero\n",
      "Cerveja\n",
      "Vinagrete\n"
     ]
    }
   ],
   "source": [
    "lista_churras = ['Água', \"Arroz\", \"Feijão\", \"Carne\", \"Tempero\", \"Cerveja\", \"Vinagrete\"]\n",
    "\n",
    "for item in lista_churras:\n",
    "    print(item)"
   ]
  },
  {
   "cell_type": "code",
   "execution_count": 14,
   "id": "2a732373",
   "metadata": {},
   "outputs": [
    {
     "name": "stdout",
     "output_type": "stream",
     "text": [
      "Água\n",
      "Arroz\n",
      "Feijão\n",
      "Carne\n",
      "Tempero\n",
      "Cerveja\n",
      "Vinagrete\n"
     ]
    }
   ],
   "source": [
    "#Utilizando built-ins para iterar sobre a lista\n",
    "tamanho_lista = len(lista_churras)\n",
    "\n",
    "for i in range(tamanho_lista):\n",
    "    print(lista_churras[i])"
   ]
  },
  {
   "cell_type": "code",
   "execution_count": 7,
   "id": "6ceaf960",
   "metadata": {},
   "outputs": [
    {
     "name": "stdout",
     "output_type": "stream",
     "text": [
      "Item: 0 - Posição na lista: Água\n",
      "Item: 1 - Posição na lista: Arroz\n",
      "Item: 2 - Posição na lista: Feijão\n",
      "Item: 3 - Posição na lista: Carne\n",
      "Item: 4 - Posição na lista: Tempero\n",
      "Item: 5 - Posição na lista: Cerveja\n",
      "Item: 6 - Posição na lista: Vinagrete\n"
     ]
    }
   ],
   "source": [
    "#Utilize a built-in enumerate() quando quiser iterar sobre as posições da lista\n",
    "for item, i in enumerate(lista_churras):\n",
    "    print(f\"Item: {item} - Posição na lista: {i}\")"
   ]
  },
  {
   "cell_type": "code",
   "execution_count": 17,
   "id": "40fd32eb",
   "metadata": {},
   "outputs": [
    {
     "name": "stdout",
     "output_type": "stream",
     "text": [
      "Água\n",
      "Arroz\n",
      "Feijão\n",
      "Carne\n",
      "É picanha?\n",
      "Tempero\n",
      "Cerveja\n",
      "É Heineken?\n",
      "Vinagrete\n"
     ]
    }
   ],
   "source": [
    "for item in lista_churras:\n",
    "    if(item == \"Carne\"):\n",
    "        print(item)\n",
    "        print(\"É picanha?\")\n",
    "    elif (item == \"Cerveja\"):\n",
    "        print(item)\n",
    "        print(\"É Heineken?\")\n",
    "    else:\n",
    "        print(item)\n",
    "    "
   ]
  },
  {
   "cell_type": "code",
   "execution_count": 18,
   "id": "9ca2a03a",
   "metadata": {},
   "outputs": [
    {
     "name": "stdout",
     "output_type": "stream",
     "text": [
      "O produto Coca custa 5\n",
      "O produto Fanta custa 6\n",
      "O produto Soda custa 7\n",
      "O produto Batata custa 8\n",
      "O produto Cerveja custa 9\n",
      "O produto Salada custa 10\n"
     ]
    }
   ],
   "source": [
    "#Percorrendo duas listas ao mesmo tempo\n",
    "\n",
    "produto = [\"Coca\", \"Fanta\", \"Soda\", \"Batata\", \"Cerveja\", \"Salada\"]\n",
    "preco = [5, 6, 7, 8, 9, 10]\n",
    "\n",
    "for i, item in enumerate(produto):\n",
    "    print(f\"O produto {item} custa {preco[i]}\")"
   ]
  },
  {
   "cell_type": "code",
   "execution_count": null,
   "id": "a2dde607",
   "metadata": {},
   "outputs": [],
   "source": [
    "texto = \"\"\"\n",
    "A inserção de comentários no código do programa é uma prática normal.\n",
    "Em função disso, toda linguagem de programação tem alguma maneira de permitir que comentários sejam inseridos nos programas.\n",
    "O objetivo é adicionar descrições em partes do código, seja para documentá-lo ou para adicionar uma descrição do algoritmo implementado (BANIN, p. 45, 2018).\"\n",
    "\"\"\"\n",
    "vog_a = 0\n",
    "vog_e = 0\n",
    "\n",
    "for i, c in enumerate(texto):\n",
    "    if c == 'a':\n",
    "        print(f\"Vogal '{c}' encontrada, na posição {i}\")\n",
    "        vog_a += 1\n",
    "    elif c == 'e':\n",
    "        print(f\"Vogal '{c}' encontrada, na posição {i}\")\n",
    "        vog_e += 1\n",
    "    else:\n",
    "        continue\n",
    "\n",
    "print(\"A vogal 'a' foi encontrada \", vog_a, \" vezes\")\n",
    "print(\"A vogal 'e' foi encontrada \", vog_e, \" vezes\")"
   ]
  },
  {
   "cell_type": "markdown",
   "id": "6c4174ce",
   "metadata": {},
   "source": [
    "## Laço WHILE\n",
    "\n",
    "O laço while faz o loop infinitamente enquanto uma condição for verdadeira\n",
    "\n",
    "while condição:\n",
    "    \n",
    "    repita essa condição\n",
    "    \n",
    "Ao utilizar essa estrutura, **CERTIFIQUE-SE** que o loop irá parar em algum momento"
   ]
  },
  {
   "cell_type": "code",
   "execution_count": 19,
   "id": "427046ad",
   "metadata": {},
   "outputs": [
    {
     "name": "stdout",
     "output_type": "stream",
     "text": [
      "0\n",
      "1\n",
      "2\n",
      "3\n",
      "4\n",
      "5\n",
      "6\n",
      "7\n",
      "8\n",
      "9\n",
      "10\n"
     ]
    }
   ],
   "source": [
    "a = 0\n",
    "\n",
    "while a <= 10:\n",
    "    print(a)\n",
    "    a += 1"
   ]
  },
  {
   "cell_type": "code",
   "execution_count": 20,
   "id": "fd8cad9c",
   "metadata": {},
   "outputs": [
    {
     "name": "stdout",
     "output_type": "stream",
     "text": [
      "Digite um produto para ser cadastrado: Arroz\n",
      "Digite um produto para ser cadastrado: Feijão\n",
      "Digite um produto para ser cadastrado: Macarrão\n",
      "Digite um produto para ser cadastrado: Milho\n",
      "Digite um produto para ser cadastrado: Carne\n",
      "Digite um produto para ser cadastrado: Soja\n",
      "Digite um produto para ser cadastrado: Refrigerante\n",
      "Digite um produto para ser cadastrado: \n",
      "Quantidade de produtos cadastrados: 7\n",
      "Produtos cadastrados: ['Arroz', 'Feijão', 'Macarrão', 'Milho', 'Carne', 'Soja', 'Refrigerante']\n"
     ]
    }
   ],
   "source": [
    "venda = input(\"Digite um produto para ser cadastrado: \")\n",
    "vendas = []\n",
    "\n",
    "#Enquanto vendas for diferente de vazio\n",
    "while venda != \"\":\n",
    "    vendas.append(venda)\n",
    "    venda = input(\"Digite um produto para ser cadastrado: \")\n",
    "    \n",
    "print(f\"Quantidade de produtos cadastrados: {len(vendas)}\")\n",
    "print(f\"Produtos cadastrados: {vendas}\")"
   ]
  },
  {
   "cell_type": "code",
   "execution_count": null,
   "id": "e8abdeee",
   "metadata": {},
   "outputs": [],
   "source": []
  }
 ],
 "metadata": {
  "kernelspec": {
   "display_name": "Python 3 (ipykernel)",
   "language": "python",
   "name": "python3"
  },
  "language_info": {
   "codemirror_mode": {
    "name": "ipython",
    "version": 3
   },
   "file_extension": ".py",
   "mimetype": "text/x-python",
   "name": "python",
   "nbconvert_exporter": "python",
   "pygments_lexer": "ipython3",
   "version": "3.10.7"
  }
 },
 "nbformat": 4,
 "nbformat_minor": 5
}
