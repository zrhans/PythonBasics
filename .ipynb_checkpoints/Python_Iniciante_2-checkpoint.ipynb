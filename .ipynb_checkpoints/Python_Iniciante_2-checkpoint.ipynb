{
 "cells": [
  {
   "cell_type": "markdown",
   "id": "059970f6",
   "metadata": {},
   "source": [
    "# Validando CPF\n",
    "\n",
    "Vamos criar funções e classes para validação de CPF"
   ]
  },
  {
   "cell_type": "code",
   "execution_count": 20,
   "id": "4bf5291a",
   "metadata": {},
   "outputs": [],
   "source": [
    "from validate_docbr import CPF"
   ]
  },
  {
   "cell_type": "code",
   "execution_count": 21,
   "id": "b02c50ad",
   "metadata": {},
   "outputs": [],
   "source": [
    "class Valida_CPF:\n",
    "    def __init__(self, documento):\n",
    "        documento = str(documento)\n",
    "        if self.cpf_eh_valido(documento):\n",
    "            self.cpf = documento\n",
    "        else:\n",
    "            raise ValueError(\"CPF inválido!\")\n",
    "    \n",
    "    #Retorna uma string. Nesse caso, o valor do cpf formatado\n",
    "    def __str__(self):\n",
    "        return self.formata_cpf()\n",
    "    \n",
    "    #Verifica se o CPF é válido\n",
    "    def cpf_eh_valido(self, documento):\n",
    "        if len(documento) == 11:\n",
    "            validador = CPF()\n",
    "            return validador.validate(documento)\n",
    "        else:\n",
    "           raise ValueError(\"Quantidade de dígitos fora do padrão.\")\n",
    "        \n",
    "    #Formata o CPF    \n",
    "    def formata_cpf(self):\n",
    "        fatia_1 = self.cpf[:3]\n",
    "        fatia_2 = self.cpf[3:6]\n",
    "        fatia_3 = self.cpf[6:9]\n",
    "        fatia_4 = self.cpf[9:]\n",
    "        \n",
    "        cpf_formatado = \"{}.{}.{}-{}\".format(\n",
    "        fatia_1, fatia_2, fatia_3, fatia_4)\n",
    "        \n",
    "        return cpf_formatado\n",
    "        \n",
    "        "
   ]
  },
  {
   "cell_type": "code",
   "execution_count": 25,
   "id": "008c3b85",
   "metadata": {},
   "outputs": [
    {
     "name": "stdout",
     "output_type": "stream",
     "text": [
      "105.858.396-46\n"
     ]
    }
   ],
   "source": [
    "meu_cpf = \"10585839646\"\n",
    "objeto_cpf = Valida_CPF(meu_cpf)\n",
    "print(objeto_cpf)"
   ]
  },
  {
   "cell_type": "markdown",
   "id": "9d80180c",
   "metadata": {},
   "source": [
    "# Validando um CNPJ"
   ]
  },
  {
   "cell_type": "code",
   "execution_count": 54,
   "id": "3d3646e5",
   "metadata": {},
   "outputs": [],
   "source": [
    "from validate_docbr import CNPJ"
   ]
  },
  {
   "cell_type": "code",
   "execution_count": 67,
   "id": "9e7ea0c9",
   "metadata": {},
   "outputs": [],
   "source": [
    "class Valida_CNPJ:\n",
    "    def __init__(self, documento):\n",
    "        documento = str(documento)\n",
    "        if self.cnpj_eh_valido(documento):\n",
    "            self.cnpj = documento\n",
    "        else:\n",
    "            raise ValueError(\"CPF inválido!\")\n",
    "    \n",
    "    #Retorna uma string. Nesse caso, o valor do cnpj formatado\n",
    "    def __str__(self):\n",
    "        return self.formata_cnpj()\n",
    "    \n",
    "    #Verifica se o CNPJ é válido\n",
    "    def cnpj_eh_valido(self, documento):\n",
    "        if len(documento) == 14:\n",
    "            validador = CNPJ()\n",
    "            return validador.validate(documento)\n",
    "        else:\n",
    "           raise ValueError(\"Quantidade de dígitos fora do padrão.\")\n",
    "        \n",
    "    #Formata o CPF    \n",
    "    def formata_cnpj(self):\n",
    "        fatia_1 = cnpj[:2]\n",
    "        fatia_2 = cnpj[2:5]\n",
    "        fatia_3 = cnpj[5:8]\n",
    "        fatia_4 = cnpj[8:12]\n",
    "        fatia_5 = cnpj[12:]\n",
    "\n",
    "        cnpj_formatado = \"{}.{}.{}/{}-{}\".format(\n",
    "        fatia_1, fatia_2, fatia_3, fatia_4, fatia_5)\n",
    "        \n",
    "        return cnpj_formatado\n",
    "        "
   ]
  },
  {
   "cell_type": "code",
   "execution_count": 68,
   "id": "d13e65d3",
   "metadata": {},
   "outputs": [
    {
     "name": "stdout",
     "output_type": "stream",
     "text": [
      "27.665.044/0001-97\n"
     ]
    }
   ],
   "source": [
    "cnpj = \"27665044000197\"\n",
    "objeto_cnpj = Valida_CNPJ(cnpj)\n",
    "print(objeto_cnpj)"
   ]
  },
  {
   "cell_type": "markdown",
   "id": "768e93a9",
   "metadata": {},
   "source": [
    "## Juntando as duas classes numa só"
   ]
  },
  {
   "cell_type": "code",
   "execution_count": 81,
   "id": "f403c20c",
   "metadata": {},
   "outputs": [],
   "source": [
    "class Valida_CPJ_CPNJ:\n",
    "    def __init__(self, resp_user, documento):\n",
    "        self.documento = documento\n",
    "        if resp_user == 1:\n",
    "            objeto_cpf = Valida_CPF(self.documento)\n",
    "            print(objeto_cpf)\n",
    "        elif resp_user == 2:\n",
    "            objeto_cnpj = Valida_CNPJ(self.documento)\n",
    "            print(objeto_cnpj)\n",
    "        else:\n",
    "            ValueError(\"Entrada inválida.\")\n",
    "            \n",
    "            "
   ]
  },
  {
   "cell_type": "code",
   "execution_count": 82,
   "id": "e3167d2b",
   "metadata": {},
   "outputs": [
    {
     "name": "stdout",
     "output_type": "stream",
     "text": [
      "Escolha uma opção: 1 - CPF; 2 - CPNJ: 2\n",
      "Digite o número do documento: 27665044000197\n",
      "27.665.044/0001-97\n"
     ]
    },
    {
     "data": {
      "text/plain": [
       "<__main__.Valida_CPJ_CPNJ at 0x1e9f746b310>"
      ]
     },
     "execution_count": 82,
     "metadata": {},
     "output_type": "execute_result"
    }
   ],
   "source": [
    "resp_user = int(input(\"Escolha uma opção: 1 - CPF; 2 - CPNJ: \"))\n",
    "documento = str(input(\"Digite o número do documento: \"))\n",
    "Valida_CPJ_CPNJ(resp_user, documento)"
   ]
  },
  {
   "cell_type": "code",
   "execution_count": null,
   "id": "0db5ad12",
   "metadata": {},
   "outputs": [],
   "source": []
  }
 ],
 "metadata": {
  "kernelspec": {
   "display_name": "Python 3 (ipykernel)",
   "language": "python",
   "name": "python3"
  },
  "language_info": {
   "codemirror_mode": {
    "name": "ipython",
    "version": 3
   },
   "file_extension": ".py",
   "mimetype": "text/x-python",
   "name": "python",
   "nbconvert_exporter": "python",
   "pygments_lexer": "ipython3",
   "version": "3.9.12"
  }
 },
 "nbformat": 4,
 "nbformat_minor": 5
}
