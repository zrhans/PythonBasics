{
 "cells": [
  {
   "cell_type": "markdown",
   "id": "e7a724fe",
   "metadata": {},
   "source": [
    "# Módulo\n",
    "\n",
    "Um módulo pode ser uma biblioteca de códigos, o qual possui diversas funções (matemáticas, sistema operacional. etc.) as quais possibilitam a reutilização de código de uma forma elegante e eficiente. É um arquivo contendo definições e instruções Python. O nome do arquivo é o nome do módulo acrescido do sufixo .py.\n",
    "\n",
    "Alguns módulos estão embutidos no interpretador; estes possibilitam acesso a operações que não são parte do núcleo da linguagem, mas estão no interpretador seja por eficiência ou para permitir o acesso a chamadas do sistema operacional."
   ]
  },
  {
   "cell_type": "markdown",
   "id": "a8fac067",
   "metadata": {},
   "source": [
    "# Como utilizar um módulo?\n",
    "\n",
    "Para utilizar um módulo é preciso importá-lo para o arquivo. Essa importação pode ser feita de maneiras distintas:\n",
    "\n",
    "1) - import moduloXXText\n",
    "\n",
    "2) - import moduloXX as apelido\n",
    "\n",
    "3) - from moduloXX import itemA, itemB\n",
    "\n",
    "Todas as funcionalidades de um módulo são carregadas na memória. A diferença entre elas é que, na primeira, usamos o nome do módulo e, na segunda, atribuímos a este um apelido (as = alias)."
   ]
  },
  {
   "cell_type": "code",
   "execution_count": 1,
   "id": "aea8feb9",
   "metadata": {},
   "outputs": [
    {
     "data": {
      "text/plain": [
       "5.0"
      ]
     },
     "execution_count": 1,
     "metadata": {},
     "output_type": "execute_result"
    }
   ],
   "source": [
    "import math\n",
    "\n",
    "math.sqrt(25)\n",
    "math.log2(1024)\n",
    "math.cos(45)"
   ]
  },
  {
   "cell_type": "code",
   "execution_count": 4,
   "id": "13b82319",
   "metadata": {},
   "outputs": [
    {
     "data": {
      "text/plain": [
       "0.5253219888177297"
      ]
     },
     "execution_count": 4,
     "metadata": {},
     "output_type": "execute_result"
    }
   ],
   "source": [
    "import math as m\n",
    "\n",
    "m.sqrt(25)\n",
    "m.log2(1024)\n",
    "m.cos(45)"
   ]
  },
  {
   "cell_type": "code",
   "execution_count": 6,
   "id": "5a1b63cf",
   "metadata": {},
   "outputs": [
    {
     "data": {
      "text/plain": [
       "0.5253219888177297"
      ]
     },
     "execution_count": 6,
     "metadata": {},
     "output_type": "execute_result"
    }
   ],
   "source": [
    "from math import sqrt, log2, cos # Importação que carrega funções específicas na memória\n",
    "\n",
    "sqrt(25)\n",
    "log2(1024)\n",
    "cos(45)"
   ]
  },
  {
   "cell_type": "code",
   "execution_count": 7,
   "id": "478381b2",
   "metadata": {},
   "outputs": [
    {
     "name": "stdout",
     "output_type": "stream",
     "text": [
      "2\n",
      "100\n",
      "[92581, 61369, 10741, 38997, 39569, 750, 28532, 9799, 73992, 23854, 1459, 11728]\n"
     ]
    }
   ],
   "source": [
    "import random\n",
    "\n",
    "print(random.randint(0, 100))# retorna um valor inteiro aleatório, de modo que esse número esteja entre a, b.\n",
    "print(random.choice([1, 10, -1, 100]))# extrai um valor de forma aleatória de uma certa sequência.\n",
    "print(random.sample(range(100000), k=12))# retorna uma lista com k elementos, extraídos da população."
   ]
  },
  {
   "cell_type": "code",
   "execution_count": 10,
   "id": "92c940e0",
   "metadata": {},
   "outputs": [
    {
     "name": "stdout",
     "output_type": "stream",
     "text": [
      "4\n"
     ]
    },
    {
     "data": {
      "text/plain": [
       "8324"
      ]
     },
     "execution_count": 10,
     "metadata": {},
     "output_type": "execute_result"
    }
   ],
   "source": [
    "import os\n",
    "\n",
    "os.getcwd() #retorna uma string com o caminho do diretório de trabalho.\n",
    "os.listdir() #retorna uma lista com todas as entradas de um diretório. \n",
    "            #Se não for especificado um caminho, então a busca é realizada em outro diretório de trabalho.\n",
    "os.cpu_count()# retorna um inteiro com o número de CPUs do sistema.\n",
    "os.getlogin()# retorna o nome do usário logado.\n",
    "os.getenv(key='path')# retorna uma string com o conteúdo de uma variável de ambiente especificada na key.\n",
    "os.getpid()# retorna o id do processo atual."
   ]
  },
  {
   "cell_type": "markdown",
   "id": "9237e856",
   "metadata": {},
   "source": [
    "# MÓDULO RE\n",
    "\n",
    "O módulo re (regular expression) fornece funções para busca de padrões em um texto. Uma expressão regular especifica um conjunto de strings que corresponde a ela. As funções neste módulo permitem verificar se uma determinada string corresponde a uma determinada expressão regular. Essa técnica de programação é utilizada em diversas linguagens de programação, pois a construção de re depende do conhecimento de padrões. Vamos explorar as funções:\n",
    "\n",
    "re.search(pattern, string, flags=0): varre a string procurando o primeiro local onde o padrão de expressão regular produz uma correspondência e o retorna. Retorna None se nenhuma correspondência é achada.\n",
    "\n",
    "re.match(pattern, string, flags=0): procura por um padrão no começo da string. Retorna None se a sequência não corresponder ao padrão.\n",
    "\n",
    "re.split(pattern, string, maxsplit=0, flags=0): divide uma string pelas ocorrências do padrão."
   ]
  },
  {
   "cell_type": "code",
   "execution_count": 11,
   "id": "55db8d9c",
   "metadata": {},
   "outputs": [
    {
     "name": "stdout",
     "output_type": "stream",
     "text": [
      "meuArquivo\n",
      "meuArquivo\n",
      "meuArquivo\n"
     ]
    }
   ],
   "source": [
    "import re\n",
    "\n",
    "string = 'meuArquivo_20-01-2020.py'\n",
    "padrao = \"[a-zA-Z]*\" #Expressão regular para buscar por sequências de letras minúsculas e maiúsculas [a-zA-Z], \n",
    "                    #que pode variar de tamanho 0 até N (*)\n",
    "texto1 = re.search(padrao, string).group()\n",
    "texto2 = re.match(padrao, string).group()\n",
    "texto3 = re.split(\"_\", string)[0]\n",
    "\n",
    "print(texto1)\n",
    "print(texto2)\n",
    "print(texto3)"
   ]
  },
  {
   "cell_type": "code",
   "execution_count": 20,
   "id": "d3d2a979",
   "metadata": {},
   "outputs": [
    {
     "name": "stdout",
     "output_type": "stream",
     "text": [
      "2021-11-30 20:08:00\n"
     ]
    }
   ],
   "source": [
    "import datetime as dt\n",
    "\n",
    "# Operações com data e hora\n",
    "hoje = dt.datetime.today()\n",
    "ontem = hoje - dt.timedelta(days=1)\n",
    "uma_semana_atras = hoje - dt.timedelta(weeks=1)\n",
    "\n",
    "agora = dt.datetime.now()\n",
    "duas_horas_atras = agora - dt.timedelta(hours=2)\n",
    "\n",
    "# Formatação\n",
    "hoje_formatado = dt.datetime.strftime(hoje, \"%d-%m-%Y\") #https://docs.python.org/3/library/datetime.html#strftime-strptime-behavior\n",
    "ontem_formatado = dt.datetime.strftime(ontem, \"%d de %B de %Y\")\n",
    "\n",
    "# Converção de string para data\n",
    "data_string = '30/11/2021 20:08'\n",
    "data_dt = dt.datetime.strptime(data_string, \"%d/%m/%Y %H:%M\")\n",
    "print(data_dt)"
   ]
  },
  {
   "cell_type": "markdown",
   "id": "a9e7cc7c",
   "metadata": {},
   "source": [
    "Para utilizar uma biblioteca do repositório PyPI, é preciso instalá-la. Para isso, abra um terminal no sistema operacional e digite: pip install biblioteca [biblioteca é o nome do pacote que deseja instalar. Por exemplo: pip install numpy.]"
   ]
  },
  {
   "cell_type": "markdown",
   "id": "4aa715b5",
   "metadata": {},
   "source": [
    "# BIBLIOTECA REQUESTS\n",
    "\n",
    "A biblioteca requests habilita funcionalidades do procotolo HTTP, como o get e o post. Dentre seus métodos, o get() é o responsável por capturar informação da internet.Essa biblioteca foi construída com o intuito de substituir o módulo urllib2, que demanda muito trabalho para obter os resultados. \n",
    "\n",
    "O método get() permite que você informe a URL de que deseja obter informação. Sua sintaxe é: requests.get('https://XXXXXXX').\n",
    "\n",
    "Bib mais usada para Backend e Engenharia de Dados"
   ]
  },
  {
   "cell_type": "code",
   "execution_count": 33,
   "id": "ecf194d2",
   "metadata": {},
   "outputs": [
    {
     "data": {
      "text/plain": [
       "{'Server': 'GitHub.com', 'Date': 'Tue, 30 Nov 2021 23:51:26 GMT', 'Content-Type': 'application/json; charset=utf-8', 'Cache-Control': 'public, max-age=60, s-maxage=60', 'Vary': 'Accept, Accept-Encoding, Accept, X-Requested-With', 'ETag': 'W/\"19437c52db5f8c6343955af7fdf407fe68824388a4ca45f4edf5774e6294f6ab\"', 'Last-Modified': 'Tue, 30 Nov 2021 23:46:26 GMT', 'X-Poll-Interval': '60', 'X-GitHub-Media-Type': 'github.v3; format=json', 'Link': '<https://api.github.com/events?page=2>; rel=\"next\", <https://api.github.com/events?page=10>; rel=\"last\"', 'Access-Control-Expose-Headers': 'ETag, Link, Location, Retry-After, X-GitHub-OTP, X-RateLimit-Limit, X-RateLimit-Remaining, X-RateLimit-Used, X-RateLimit-Resource, X-RateLimit-Reset, X-OAuth-Scopes, X-Accepted-OAuth-Scopes, X-Poll-Interval, X-GitHub-Media-Type, Deprecation, Sunset', 'Access-Control-Allow-Origin': '*', 'Strict-Transport-Security': 'max-age=31536000; includeSubdomains; preload', 'X-Frame-Options': 'deny', 'X-Content-Type-Options': 'nosniff', 'X-XSS-Protection': '0', 'Referrer-Policy': 'origin-when-cross-origin, strict-origin-when-cross-origin', 'Content-Security-Policy': \"default-src 'none'\", 'Content-Encoding': 'gzip', 'X-RateLimit-Limit': '60', 'X-RateLimit-Remaining': '58', 'X-RateLimit-Reset': '1638317692', 'X-RateLimit-Resource': 'core', 'X-RateLimit-Used': '2', 'Accept-Ranges': 'bytes', 'Transfer-Encoding': 'chunked', 'X-GitHub-Request-Id': '25AE:7DAA:5A65B:B0337:61A6B8FE'}"
      ]
     },
     "execution_count": 33,
     "metadata": {},
     "output_type": "execute_result"
    }
   ],
   "source": [
    "import requests\n",
    "\n",
    "info = requests.get('https://api.github.com/events')\n",
    "info.headers"
   ]
  },
  {
   "cell_type": "code",
   "execution_count": 35,
   "id": "f9a8f471",
   "metadata": {},
   "outputs": [
    {
     "name": "stdout",
     "output_type": "stream",
     "text": [
      "Tue, 30 Nov 2021 23:51:26 GMT\n",
      "GitHub.com\n",
      "<https://api.github.com/events?page=2>; rel=\"next\", <https://api.github.com/events?page=10>; rel=\"last\"\n",
      "utf-8\n",
      "Tue, 30 Nov 2021 23:46:26 GMT\n"
     ]
    }
   ],
   "source": [
    "print(info.headers['date']) # Data de extração\n",
    "print(info.headers['server']) # Servidor de origem\n",
    "print(info.headers['link']) # Status HTTP da extração, 200 é ok\n",
    "print(info.encoding) # Encoding do texto\n",
    "print(info.headers['last-modified']) # Data da última modificação da informação"
   ]
  },
  {
   "cell_type": "code",
   "execution_count": 36,
   "id": "c756b783",
   "metadata": {},
   "outputs": [
    {
     "name": "stdout",
     "output_type": "stream",
     "text": [
      "<class 'str'>\n"
     ]
    },
    {
     "data": {
      "text/plain": [
       "'[{\"id\":\"19121671747\",\"type\":\"PushEvent\",\"actor\":{\"id\":2299951,\"login\":\"pietroalbini\",\"display_login\":\"pietroalbini\",\"gravatar_id\":\"\",\"url\":\"https://api.github.com/users/pietroalbini\",\"avatar_url\":\"https://avatars.githubusercontent.com/u/2299951?\"},\"repo\":{\"id\":26193547,\"name\":\"rust-lang/crates.io-in'"
      ]
     },
     "execution_count": 36,
     "metadata": {},
     "output_type": "execute_result"
    }
   ],
   "source": [
    "texto_str = info.text #A propriedade text, converte todo o conteúdo para uma string\n",
    "print(type(texto_str))\n",
    "texto_str[:300]"
   ]
  },
  {
   "cell_type": "code",
   "execution_count": 37,
   "id": "d7211df9",
   "metadata": {},
   "outputs": [
    {
     "name": "stdout",
     "output_type": "stream",
     "text": [
      "<class 'list'>\n"
     ]
    },
    {
     "data": {
      "text/plain": [
       "{'id': '19121671747',\n",
       " 'type': 'PushEvent',\n",
       " 'actor': {'id': 2299951,\n",
       "  'login': 'pietroalbini',\n",
       "  'display_login': 'pietroalbini',\n",
       "  'gravatar_id': '',\n",
       "  'url': 'https://api.github.com/users/pietroalbini',\n",
       "  'avatar_url': 'https://avatars.githubusercontent.com/u/2299951?'},\n",
       " 'repo': {'id': 26193547,\n",
       "  'name': 'rust-lang/crates.io-index',\n",
       "  'url': 'https://api.github.com/repos/rust-lang/crates.io-index'},\n",
       " 'payload': {'push_id': 8509287098,\n",
       "  'size': 1,\n",
       "  'distinct_size': 1,\n",
       "  'ref': 'refs/heads/master',\n",
       "  'head': 'e7b653c6f61fa9a0327c5d848be809801024c3b5',\n",
       "  'before': '0cdc87c4c04c4e0080b0a579f36763dfbe9bf1c8',\n",
       "  'commits': [{'sha': 'e7b653c6f61fa9a0327c5d848be809801024c3b5',\n",
       "    'author': {'email': 'bors@rust-lang.org', 'name': 'bors'},\n",
       "    'message': 'Updating crate `cargo-xcode#1.3.0`',\n",
       "    'distinct': True,\n",
       "    'url': 'https://api.github.com/repos/rust-lang/crates.io-index/commits/e7b653c6f61fa9a0327c5d848be809801024c3b5'}]},\n",
       " 'public': True,\n",
       " 'created_at': '2021-11-30T23:46:26Z',\n",
       " 'org': {'id': 5430905,\n",
       "  'login': 'rust-lang',\n",
       "  'gravatar_id': '',\n",
       "  'url': 'https://api.github.com/orgs/rust-lang',\n",
       "  'avatar_url': 'https://avatars.githubusercontent.com/u/5430905?'}}"
      ]
     },
     "execution_count": 37,
     "metadata": {},
     "output_type": "execute_result"
    }
   ],
   "source": [
    "texto_json = info.json()\n",
    "print(type(texto_json))\n",
    "texto_json[0]"
   ]
  },
  {
   "cell_type": "code",
   "execution_count": 38,
   "id": "b0f9e7ff",
   "metadata": {},
   "outputs": [
    {
     "name": "stdout",
     "output_type": "stream",
     "text": [
      "<class 'list'>\n"
     ]
    }
   ],
   "source": [
    "import requests\n",
    "import datetime as dt\n",
    "\n",
    "jogos = requests.get('http://worldcup.sfg.io/matches').json()\n",
    "print(type(jogos))"
   ]
  },
  {
   "cell_type": "code",
   "execution_count": 42,
   "id": "c5232a7f",
   "metadata": {},
   "outputs": [
    {
     "data": {
      "text/plain": [
       "['(07/06/2019) - France x Korea Republic = 4 a 0',\n",
       " '(08/06/2019) - Germany x China PR = 1 a 0',\n",
       " '(08/06/2019) - Spain x South Africa = 3 a 1',\n",
       " '(08/06/2019) - Norway x Nigeria = 3 a 0',\n",
       " '(09/06/2019) - Brazil x Jamaica = 3 a 0',\n",
       " '(09/06/2019) - England x Scotland = 2 a 1',\n",
       " '(09/06/2019) - Australia x Italy = 1 a 2',\n",
       " '(10/06/2019) - Argentina x Japan = 0 a 0',\n",
       " '(10/06/2019) - Canada x Cameroon = 1 a 0',\n",
       " '(11/06/2019) - New Zealand x Netherlands = 0 a 1',\n",
       " '(11/06/2019) - Chile x Sweden = 0 a 2',\n",
       " '(11/06/2019) - USA x Thailand = 13 a 0',\n",
       " '(12/06/2019) - Nigeria x Korea Republic = 2 a 0',\n",
       " '(12/06/2019) - Germany x Spain = 1 a 0',\n",
       " '(12/06/2019) - France x Norway = 2 a 1',\n",
       " '(13/06/2019) - Australia x Brazil = 3 a 2',\n",
       " '(13/06/2019) - South Africa x China PR = 0 a 1',\n",
       " '(14/06/2019) - Japan x Scotland = 2 a 1',\n",
       " '(14/06/2019) - Jamaica x Italy = 0 a 5',\n",
       " '(14/06/2019) - England x Argentina = 1 a 0']"
      ]
     },
     "execution_count": 42,
     "metadata": {},
     "output_type": "execute_result"
    }
   ],
   "source": [
    "# segundo passo: percorrer cada dicionário da lista (ou seja, cada jogo) extraindo as informações\n",
    "\n",
    "info_relatorio = []\n",
    "file = open('relatorio_jogos.txt', \"w\") # cria um arquivo txt na pasta em que está trabalhando.\n",
    "                                        #usamos a função built-in open() para criar um arquivo chamado relatorio_jogos.txt, no qual escreveremos informações\n",
    "                                        #por isso o parâmetro \"w(write)\"\n",
    "for jogo in jogos:\n",
    "    data = jogo['datetime'] # extrai a data\n",
    "    data = dt.datetime.strptime(data, \"%Y-%m-%dT%H:%M:%SZ\") # converte de string para data\n",
    "    data = data.strftime(\"%d/%m/%Y\") # formata\n",
    "    \n",
    "    nome_time1 = jogo['home_team_country']\n",
    "    nome_time2 = jogo['away_team_country']\n",
    "\n",
    "    gols_time1 = jogo['home_team']['goals']\n",
    "    gols_time2 = jogo['away_team']['goals']\n",
    "    \n",
    "    linha = f\"({data}) - {nome_time1} x {nome_time2} = {gols_time1} a {gols_time2}\"\n",
    "    file.write(linha + '\\n') # escreve a linha no arquivo txt\n",
    "    info_relatorio.append(linha)\n",
    "\n",
    "file.close() # é preciso fechar o arquivo\n",
    "info_relatorio[:20]"
   ]
  },
  {
   "cell_type": "markdown",
   "id": "292062ea",
   "metadata": {},
   "source": [
    "# MATPLOTLIB\n",
    "\n",
    "Matplotlib é uma biblioteca com funcionalidades para criar gráficos."
   ]
  },
  {
   "cell_type": "code",
   "execution_count": 41,
   "id": "1a04df6d",
   "metadata": {},
   "outputs": [
    {
     "name": "stdout",
     "output_type": "stream",
     "text": [
      "file =  <_io.TextIOWrapper name='relatorio_jogos.txt' mode='r' encoding='cp1252'> \n",
      "\n",
      "linha 1 =  (07/06/2019) - France x Korea Republic = 4 a 0\n",
      "\n"
     ]
    }
   ],
   "source": [
    "file = open('relatorio_jogos.txt', 'r') #'r' significa que queremos abrir o arquivo em modo leitura (r = read)\n",
    "print('file = ', file, '\\n')\n",
    "info_relatorio = file.readlines() #A função readlines(), cria uma lista, na qual cada elemento é uma linha do arquivo.\n",
    "file.close()\n",
    "\n",
    "print(\"linha 1 = \", info_relatorio[0])"
   ]
  },
  {
   "cell_type": "code",
   "execution_count": 43,
   "id": "8e094773",
   "metadata": {},
   "outputs": [
    {
     "name": "stdout",
     "output_type": "stream",
     "text": [
      "['02/07', '03/07', '06/07', '07/06', '07/07', '08/06', '08/06', '08/06', '09/06', '09/06', '09/06', '10/06', '10/06', '11/06', '11/06', '11/06', '12/06', '12/06', '12/06', '13/06', '13/06', '14/06', '14/06', '14/06', '15/06', '15/06', '16/06', '16/06', '17/06', '17/06', '17/06', '17/06', '18/06', '18/06', '19/06', '19/06', '20/06', '20/06', '20/06', '20/06', '22/06', '22/06', '23/06', '23/06', '24/06', '24/06', '25/06', '25/06', '27/06', '28/06', '29/06', '29/06']\n"
     ]
    }
   ],
   "source": [
    "datas = [linha[1:6] for linha in info_relatorio]\n",
    "print(sorted(datas))"
   ]
  },
  {
   "cell_type": "code",
   "execution_count": 44,
   "id": "fc4c6e79",
   "metadata": {},
   "outputs": [
    {
     "name": "stdout",
     "output_type": "stream",
     "text": [
      "[('20/06', 4), ('14/06', 3), ('03/07', 1), ('17/06', 4), ('11/06', 3), ('24/06', 2), ('15/06', 2), ('28/06', 1), ('19/06', 2), ('06/07', 1), ('27/06', 1), ('18/06', 2), ('29/06', 2), ('22/06', 2), ('16/06', 2), ('09/06', 3), ('10/06', 2), ('25/06', 2), ('07/07', 1), ('23/06', 2), ('13/06', 2), ('02/07', 1), ('08/06', 3), ('07/06', 1), ('12/06', 3)]\n"
     ]
    }
   ],
   "source": [
    "datas_count = [(data, datas.count(data)) for data in set(datas)]\n",
    "print(datas_count)"
   ]
  },
  {
   "cell_type": "code",
   "execution_count": 45,
   "id": "0131ffb6",
   "metadata": {},
   "outputs": [
    {
     "name": "stdout",
     "output_type": "stream",
     "text": [
      "{'20/06': 4, '14/06': 3, '03/07': 1, '17/06': 4, '11/06': 3, '24/06': 2, '15/06': 2, '28/06': 1, '19/06': 2, '06/07': 1, '27/06': 1, '18/06': 2, '29/06': 2, '22/06': 2, '16/06': 2, '09/06': 3, '10/06': 2, '25/06': 2, '07/07': 1, '23/06': 2, '13/06': 2, '02/07': 1, '08/06': 3, '07/06': 1, '12/06': 3}\n"
     ]
    }
   ],
   "source": [
    "datas_count = dict(datas_count)\n",
    "print(datas_count)"
   ]
  },
  {
   "cell_type": "markdown",
   "id": "13958ab1",
   "metadata": {},
   "source": [
    "# Introdução a Orientação a Objetos\n",
    "\n",
    "\n",
    "   ### Regras Gerais:\n",
    "\n",
    "- Tudo no Python é um objeto(possui métodos e atributos).\n",
    "    - String é objeto\n",
    "    - Lista é objeto\n",
    "    - Dicionários são objetos\n",
    "    ...\n",
    "\n",
    "### Comparação Clássica\n",
    "\n",
    "- Pense no Controle Remoto de uma Televisão.\n",
    "    - O Controle é um objeto\n",
    "    - Cada botão dele é um comando, um método.\n",
    "    - Cada método faz 1 ação específica\n",
    "        - Por trás de cada método (dentro do controle) podem acontecer milhares de coisas quando você aperta 1 botão, mas no fundo você tá cagando pra isso, só quer que o botão faça o que você mandou quando você clicar no botão."
   ]
  },
  {
   "cell_type": "markdown",
   "id": "d65170c9",
   "metadata": {},
   "source": [
    "### Em termos práticos no Python\n",
    "\n",
    "- Isso significa que todos eles tem métodos específicos, ou seja, já existe programado no Python várias coisas que você consegue fazer com ele.\n",
    "    - Exemplo: Strings\n",
    "        - Quando no Python criaram a string, eles programaram lá em algum lugar que texto[i] vai te dar o caracter na posição i do texto\n",
    "        - Também criaram o método texto.upper() que torna toda a string em letra maiúscula\n",
    "        - Também criaram o método texto.casefold() que coloca tudo em letra minúscula\n",
    "        - E assim vai para tudo que temos no Python\n",
    "\n",
    "- Em termos práticos, você já deve ter reparado que fazemos muito coisas do tipo variavel.método()\n",
    "    - 'Produto {}: {} unidades vendidas'.format(produto, quantidade)\n",
    "    - lista.append('ABC12304')\n",
    "    - texto.count()\n",
    "    - ..."
   ]
  },
  {
   "cell_type": "code",
   "execution_count": null,
   "id": "ac2227a7",
   "metadata": {},
   "outputs": [],
   "source": []
  }
 ],
 "metadata": {
  "kernelspec": {
   "display_name": "Python 3 (ipykernel)",
   "language": "python",
   "name": "python3"
  },
  "language_info": {
   "codemirror_mode": {
    "name": "ipython",
    "version": 3
   },
   "file_extension": ".py",
   "mimetype": "text/x-python",
   "name": "python",
   "nbconvert_exporter": "python",
   "pygments_lexer": "ipython3",
   "version": "3.10.7"
  }
 },
 "nbformat": 4,
 "nbformat_minor": 5
}
