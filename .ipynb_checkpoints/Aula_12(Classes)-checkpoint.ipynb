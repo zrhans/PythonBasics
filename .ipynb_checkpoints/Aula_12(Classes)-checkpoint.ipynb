{
 "cells": [
  {
   "cell_type": "markdown",
   "id": "94efa135",
   "metadata": {},
   "source": [
    "# INTRODUÇÃO A ORIENTAÇÃO A OBJETOS\n",
    "\n",
    "Uma linguagem é entendida como orientada a objetos se ela aplica o conceito de abstração e suporta a implementação do encapsulamento, da herança e do polimorfismo."
   ]
  },
  {
   "cell_type": "markdown",
   "id": "26c891c1",
   "metadata": {},
   "source": [
    "### Regras Gerais:\n",
    "\n",
    "- Tudo no Python é um objeto(possui métodos e atributos).\n",
    "    - String é objeto\n",
    "    - Lista é objeto\n",
    "    - Dicionários são objetos\n",
    "    ...\n",
    "\n",
    "### Comparação Clássica\n",
    "\n",
    "- Pense no Controle Remoto de uma Televisão.\n",
    "    - O Controle é um objeto\n",
    "    - Cada botão dele é um comando, um método.\n",
    "    - Cada método faz 1 ação específica\n",
    "        - Por trás de cada método (dentro do controle) podem acontecer milhares de coisas quando você aperta 1 botão, mas no fundo você tá cagando pra isso, só quer que o botão faça o que você mandou quando você clicar no botão."
   ]
  },
  {
   "cell_type": "markdown",
   "id": "f8cee35c",
   "metadata": {},
   "source": [
    "### Em termos práticos no Python\n",
    "\n",
    "- Isso significa que todos eles tem métodos específicos, ou seja, já existe programado no Python várias coisas que você consegue fazer com ele.\n",
    "    - Exemplo: Strings\n",
    "        - Quando no Python criaram a string, eles programaram lá em algum lugar que texto[i] vai te dar o caracter na posição i do texto\n",
    "        - Também criaram o método texto.upper() que torna toda a string em letra maiúscula\n",
    "        - Também criaram o método texto.casefold() que coloca tudo em letra minúscula\n",
    "        - E assim vai para tudo que temos no Python\n",
    "\n",
    "- Em termos práticos, você já deve ter reparado que fazemos muito coisas do tipo variavel.método()\n",
    "    - 'Produto {}: {} unidades vendidas'.format(produto, quantidade)\n",
    "    - lista.append('ABC12304')\n",
    "    - texto.count()\n",
    "    - ..."
   ]
  },
  {
   "cell_type": "raw",
   "id": "05cdb1bf",
   "metadata": {},
   "source": [
    "Cada Objeto é um Tipo. Dizemos: “É um objeto do Tipo String, é um objeto do\n",
    "tipo int, é um Objeto do Tipo DataFrame...”"
   ]
  },
  {
   "cell_type": "markdown",
   "id": "69753efe",
   "metadata": {},
   "source": [
    "# CLASSES \n",
    "\n",
    "Utiliza-se a palavra reservada class para indicar a criação de uma classe, seguida do nome e dois pontos. No bloco indentado devem ser implementados os atributos e métodos da classe.\n",
    "\n",
    "Classe = Objeto\n",
    "\n",
    "class ClassName:\n",
    "    \n",
    "    def __init__(self, parâmetros):\n",
    "        \n",
    "        statement \n",
    "\n",
    "        <statement 1>\n",
    "        ...\n",
    "        <statement N>\n",
    "    \n",
    "Todo método em uma classe deve receber como primeiro parâmetro uma variável que indica a referência à classe; por convenção, adota-se o parâmetro **self**. \n",
    "\n",
    "O parâmetro **self** será usado para acessar os atributos e métodos dentro da própria classe, permitindo também utilizar os métodos da classe fora dela\n",
    "\n",
    "O método '__init__' inicia a classe. É onde será colocar os atributos iniciais da classes.\n",
    "\n",
    "Para acessarmos os recursos (atributos e métodos) de um objeto, após instanciá-lo, precisamos usar a seguinte sintaxe: \n",
    "\n",
    "\"objeto.função.\""
   ]
  },
  {
   "cell_type": "markdown",
   "id": "eacca098",
   "metadata": {},
   "source": [
    "**Objetos** são os componentes de um programa OO. Um programa que usa a tecnologia OO é basicamente uma coleção de objetos. \n",
    "\n",
    "**Classe** é um modelo para um objeto. Podemos considerar uma classe uma forma de organizar os dados (de um objeto) e seus comportamentos.\n",
    "\n",
    "Vamos pensar na construção de uma casa: antes do \"objeto casa\" existir, um arquiteto fez a planta, determinando tudo que deveria fazer parte daquele objeto. Portanto, a classe é o modelo e o objeto é uma instância. Entende-se por **instância a existência física, em memória, do objeto.**\n",
    "\n",
    "**ATRIBUTOS** Os dados armazenados em um objeto representam o estado do objeto. Na terminologia de programação OO, esses dados são chamados de atributos. Os atributos contêm as informações que diferenciam os vários objetos.\n",
    "\n",
    "**MÉTODOS** O comportamento de um objeto representa o que este pode fazer. Nas linguagens procedurais, o comportamento é definido por procedimentos, funções e sub-rotinas. Na terminologia de programação OO, esses comportamentos estão contidos nos métodos, aos quais você envia uma mensagem para invocá-los. \n",
    "\n",
    "**ENCAPSULAMENTO** O ato de combinar os atributos e métodos na mesma entidade é, na linguagem OO, chamado de encapsulamento (Weisfeld, 2013), termo que também aparece na prática de tornar atributos privados, quando estes são encapsulados em métodos para guardar e acessar seus valores.\n",
    "\n",
    "**HERANÇA** Por meio desse mecanismo, é possível fazer o reúso de código, criando soluções mais organizadas. A herança permite que uma classe herde os atributos e métodos de outra classe.Em uma hierarquia de herança, todas as subclasses herdam as interfaces de sua superclasse. No entanto, como toda subclasse é uma entidade separada, cada uma delas pode exigir uma resposta separada para a mesma mensagem.\n",
    "\n",
    "**POLIFORMISMO** Polimorfismo é uma palavra grega que, literalmente, significa muitas formas. Embora o polimorfismo esteja fortemente associado à herança, é frequentemente citado separadamente como uma das vantagens mais poderosas das tecnologias orientadas a objetos."
   ]
  },
  {
   "cell_type": "raw",
   "id": "7ffd7d5c",
   "metadata": {},
   "source": [
    "nome = \"Gabriel\"\n",
    "nome.captalize()\n",
    "\n",
    "A variável \"Nome\" é um objeto da classe \"string\"\n",
    "Por ser um objeto, recebe métodos.\n",
    "\n",
    "o captalize() é um método da classe string."
   ]
  },
  {
   "cell_type": "code",
   "execution_count": 1,
   "id": "91ed39f7",
   "metadata": {},
   "outputs": [],
   "source": [
    "class primeiraClasse: #criando uma classe\n",
    "    \n",
    "    def imprimir_mensagem(self, nome): #criando um método\n",
    "        print(f\"Olá, meu nome é {nome}\")"
   ]
  },
  {
   "cell_type": "code",
   "execution_count": 2,
   "id": "ef85003e",
   "metadata": {},
   "outputs": [
    {
     "name": "stdout",
     "output_type": "stream",
     "text": [
      "Olá, meu nome é Gabriel\n"
     ]
    }
   ],
   "source": [
    "objeto = primeiraClasse() #Referencio a classe numa variável. Agora, a variável objeto é um objeto do tipo primeiraClasse\n",
    "objeto.imprimir_mensagem(\"Gabriel\") #ou, objeto.imprimir_mensagem(\"Gabriel\")"
   ]
  },
  {
   "cell_type": "code",
   "execution_count": 5,
   "id": "ff573b72",
   "metadata": {},
   "outputs": [
    {
     "name": "stdout",
     "output_type": "stream",
     "text": [
      "O nome é: Gabriel Neves\n"
     ]
    }
   ],
   "source": [
    "class segundaClasse:\n",
    "    #atributo global\n",
    "    nome = None\n",
    "    sobrenome = None\n",
    "    \n",
    "    def junta_nome(self, nome, sobrenome): #O parâmetro self é a própria instância da classe e é passado de forma implícita pelo objeto\n",
    "       print(f\"O nome é: {nome} {sobrenome}\")\n",
    "    \n",
    "objeto2 = segundaClasse()\n",
    "objeto2.nome = \"Gabriel\"\n",
    "objeto2.sobrenome = \"Neves\"\n",
    "\n",
    "objeto2.junta_nome(objeto2.nome, objeto2.sobrenome)"
   ]
  },
  {
   "cell_type": "markdown",
   "id": "ca6ba6ee",
   "metadata": {},
   "source": [
    "**Criando uma calculadora**"
   ]
  },
  {
   "cell_type": "code",
   "execution_count": 22,
   "id": "a216f5b7",
   "metadata": {},
   "outputs": [
    {
     "name": "stdout",
     "output_type": "stream",
     "text": [
      "A soma é: 4\n",
      "A subtração é: 0\n",
      "A multiplicação é: 4\n",
      "A divisão é: 1.0\n"
     ]
    }
   ],
   "source": [
    "class calculadora: #cria uma classe e coloca todos os parâmetros dentro (def's)\n",
    "    def soma(self, n1, n2):\n",
    "        return n1 + n2  \n",
    "    def subtrai(self, n1, n2):\n",
    "        return n1 - n2\n",
    "    def multiplica(self, n1, n2):\n",
    "        return n1 * n2\n",
    "    def divide(self, n1, n2):\n",
    "        return n1/n2\n",
    "\n",
    "calcula = calculadora()\n",
    "n1 = 2\n",
    "n2 = 2\n",
    "print(f\"A soma é: {calcula.soma(n1, n2)}\")\n",
    "print(f\"A subtração é: {calcula.subtrai(n1, n2)}\")\n",
    "print(f\"A multiplicação é: {calcula.multiplica(n1, n2)}\")\n",
    "print(f\"A divisão é: {calcula.divide(n1, n2)}\")"
   ]
  },
  {
   "cell_type": "markdown",
   "id": "cfe81193",
   "metadata": {},
   "source": [
    "# CONSTRUTOR DA CLASSE __INIT__()\n"
   ]
  },
  {
   "cell_type": "raw",
   "id": "abfc9749",
   "metadata": {},
   "source": [
    "Atributos de instância, também chamadas de variáveis de instâncias é capaz de receber um valor diferente para cada objeto. Um atributo de instância é uma variável precedida com o parâmetro self, ou seja, a sintaxe para criar e utilizar é self.nome_atributo."
   ]
  },
  {
   "cell_type": "code",
   "execution_count": 17,
   "id": "9f393fab",
   "metadata": {},
   "outputs": [],
   "source": [
    "class Televisao:\n",
    "    def __init__(self): #Valor(padrão) de incialização da classe. self.atributo = valor_incial\n",
    "        self.cor = \"preta\"\n",
    "        self.ligada = False\n",
    "        self.volume = 10\n",
    "        self.canal = \"Bloomberg\"\n",
    "    \n",
    "    def ligar_tv(self):\n",
    "        self.ligada = True\n",
    "        \n",
    "    def aumentar_volume(self):\n",
    "        self.volume += 1\n",
    "    \n",
    "    def diminuir_volume(self):\n",
    "        self.volume -= 1\n",
    "        \n",
    "    #Recebendo um parâmetro\n",
    "    def mudar_canal(self, nome_canal):\n",
    "        self.canal = nome_canal\n",
    "        "
   ]
  },
  {
   "cell_type": "markdown",
   "id": "78de4649",
   "metadata": {},
   "source": [
    "### Mostrando os valores padrão da classe"
   ]
  },
  {
   "cell_type": "code",
   "execution_count": 18,
   "id": "0ac9d4f9",
   "metadata": {},
   "outputs": [
    {
     "name": "stdout",
     "output_type": "stream",
     "text": [
      "preta\n",
      "False\n",
      "10\n",
      "Bloomberg\n"
     ]
    }
   ],
   "source": [
    "#Instanciando a classe\n",
    "tv = Televisao()\n",
    "\n",
    "print(tv.cor)\n",
    "print(tv.ligada)\n",
    "print(tv.volume)\n",
    "print(tv.canal)"
   ]
  },
  {
   "cell_type": "markdown",
   "id": "ba0e1106",
   "metadata": {},
   "source": [
    "### Alterando os valores utilizando os métodos criados"
   ]
  },
  {
   "cell_type": "code",
   "execution_count": 19,
   "id": "9e6a5f79",
   "metadata": {},
   "outputs": [
    {
     "name": "stdout",
     "output_type": "stream",
     "text": [
      "Volume ao ligar a tv:  10\n",
      "Volume atual:  11\n",
      "Volume ao diminuir:  10\n",
      "A TV está ligada?:  True\n",
      "O canal é:  YouTube\n"
     ]
    }
   ],
   "source": [
    "print(\"Volume ao ligar a tv: \", tv.volume)\n",
    "tv.aumentar_volume()\n",
    "print(\"Volume atual: \", tv.volume)\n",
    "tv.diminuir_volume()\n",
    "print(\"Volume ao diminuir: \", tv.volume)\n",
    "tv.ligar_tv()\n",
    "print(\"A TV está ligada?: \", tv.ligada)\n",
    "tv.mudar_canal(\"YouTube\")\n",
    "print(\"O canal é: \", tv.canal)"
   ]
  },
  {
   "cell_type": "markdown",
   "id": "5442d886",
   "metadata": {},
   "source": [
    "### Criando uma classe que possui parâmetros"
   ]
  },
  {
   "cell_type": "code",
   "execution_count": 32,
   "id": "787b7f4a",
   "metadata": {},
   "outputs": [],
   "source": [
    "class Televisao:\n",
    "    \n",
    "    #Atributo de classe. Utilize-o em casos bem específicos\n",
    "    #tamanho = 55\n",
    "    \n",
    "    #Docstring\n",
    "    \"\"\"\n",
    "        Esse é um exemplo de docstring, muito importante para documentar a função.\n",
    "        Mostrar para o usuário como utiliza-la\n",
    "        \n",
    "    \"\"\"\n",
    "    def __init__(self, tamanho: int): #Valor(padrão) de incialização da classe. self.atributo = valor_incial\n",
    "        self.cor = \"preta\"\n",
    "        self.ligada = False\n",
    "        self.volume = 10\n",
    "        self.canal = \"Bloomberg\"\n",
    "        self.tamanho = tamanho\n",
    "    \n",
    "    def ligar_tv(self):\n",
    "        self.ligada = True\n",
    "        \n",
    "    def aumentar_volume(self):\n",
    "        self.volume += 1\n",
    "    \n",
    "    def diminuir_volume(self):\n",
    "        self.volume -= 1\n",
    "        \n",
    "    #Recebendo um parâmetro\n",
    "    def mudar_canal(self, nome_canal):\n",
    "        self.canal = nome_canal\n",
    "        "
   ]
  },
  {
   "cell_type": "code",
   "execution_count": 33,
   "id": "69a3d5c3",
   "metadata": {},
   "outputs": [
    {
     "name": "stdout",
     "output_type": "stream",
     "text": [
      "55\n",
      "30\n"
     ]
    }
   ],
   "source": [
    "tv_da_sala = Televisao(55)\n",
    "print(tv_da_sala.tamanho)\n",
    "\n",
    "tv_do_quarto = Televisao(30)\n",
    "print(tv_do_quarto.tamanho)"
   ]
  },
  {
   "cell_type": "code",
   "execution_count": 162,
   "id": "9669abad",
   "metadata": {},
   "outputs": [],
   "source": [
    "class ContaCorrente:\n",
    "    \n",
    "    def __init__(self, saldo: int, nome: str, cpf: str, agencia: int, num_conta: int):\n",
    "        self.saldo = saldo\n",
    "        self.nome = nome\n",
    "        self.cpf = cpf\n",
    "        self.agencia = agencia\n",
    "        self.num_conta = num_conta\n",
    "        self.transacao = []\n",
    "    \n",
    "    def consultar_saldo(self):\n",
    "        print(f\"Seu saldo é: R${self.saldo}\")\n",
    "    \n",
    "    def depositar(self, valor):\n",
    "        self.saldo_inicial = self.saldo\n",
    "        self.saldo += valor\n",
    "        self.consultar_saldo()\n",
    "        self.transacao.append({'TransactType':'Deposit', 'InitialAmmount':self.saldo_inicial, \n",
    "                               'TransactValue': valor, 'TotalAmmount': self.saldo})\n",
    "    \n",
    "    def sacar(self, valor):\n",
    "        self.saldo_inicial = self.saldo\n",
    "        if (self.saldo < valor):\n",
    "            print(\"Saldo insuficiente\")\n",
    "            self.consultar_saldo()\n",
    "        else:\n",
    "            self.saldo -= valor\n",
    "            self.consultar_saldo()\n",
    "            self.transacao.append({'TransactType':'Withdraw', 'InitialAmmount':self.saldo_inicial, \n",
    "                               'TransactValue': valor, 'TotalAmmount': self.saldo})\n",
    "    \n",
    "    def mostra_hist_transacao(self):\n",
    "        print(\"Histórico de transações\")\n",
    "        print(self.transacao)\n",
    "\n",
    "conta = ContaCorrente(100, \"José\", \"13456\", \"0001\", 145)"
   ]
  },
  {
   "cell_type": "code",
   "execution_count": 163,
   "id": "3ece9598",
   "metadata": {},
   "outputs": [
    {
     "name": "stdout",
     "output_type": "stream",
     "text": [
      "Seu saldo é: R$100\n"
     ]
    }
   ],
   "source": [
    "conta.consultar_saldo()"
   ]
  },
  {
   "cell_type": "code",
   "execution_count": 164,
   "id": "be8616a8",
   "metadata": {},
   "outputs": [
    {
     "name": "stdout",
     "output_type": "stream",
     "text": [
      "Seu saldo é: R$200\n"
     ]
    }
   ],
   "source": [
    "conta.depositar(100)"
   ]
  },
  {
   "cell_type": "code",
   "execution_count": 165,
   "id": "9c2e592d",
   "metadata": {},
   "outputs": [
    {
     "name": "stdout",
     "output_type": "stream",
     "text": [
      "Histórico de transações\n",
      "[{'TransactType': 'Deposit', 'InitialAmmount': 100, 'TransactValue': 100, 'TotalAmmount': 200}]\n"
     ]
    }
   ],
   "source": [
    "conta.mostra_hist_transacao()"
   ]
  },
  {
   "cell_type": "code",
   "execution_count": 166,
   "id": "9b195852",
   "metadata": {},
   "outputs": [
    {
     "name": "stdout",
     "output_type": "stream",
     "text": [
      "Seu saldo é: R$150\n"
     ]
    }
   ],
   "source": [
    "conta.sacar(50)"
   ]
  },
  {
   "cell_type": "code",
   "execution_count": 167,
   "id": "6327410f",
   "metadata": {},
   "outputs": [
    {
     "name": "stdout",
     "output_type": "stream",
     "text": [
      "Saldo insuficiente\n",
      "Seu saldo é: R$150\n"
     ]
    }
   ],
   "source": [
    "conta.sacar(200)"
   ]
  },
  {
   "cell_type": "code",
   "execution_count": 168,
   "id": "caf74953",
   "metadata": {},
   "outputs": [
    {
     "name": "stdout",
     "output_type": "stream",
     "text": [
      "Histórico de transações\n",
      "[{'TransactType': 'Deposit', 'InitialAmmount': 100, 'TransactValue': 100, 'TotalAmmount': 200}, {'TransactType': 'Withdraw', 'InitialAmmount': 200, 'TransactValue': 50, 'TotalAmmount': 150}]\n"
     ]
    }
   ],
   "source": [
    "conta.mostra_hist_transacao()"
   ]
  },
  {
   "cell_type": "markdown",
   "id": "ecb92b5c",
   "metadata": {},
   "source": [
    "# MÉTODOS PRIVADOS (Modificadores de acesso)\n",
    "\n",
    "Em Python, não existem modificadores de acesso e todos os recursos são públicos. Para simbolizar que um atributo ou método é privado, por convenção, usa-se um sublinhado \"_\"  antes do nome; por exemplo, _cpf, _calcular_desconto().Dado que um atributo é privado, ele só pode ser acessado por membros da própria classe.\n",
    "\n",
    "Em orientação a objetos, é prática **quase que obrigatória** proteger seus atributos"
   ]
  },
  {
   "cell_type": "code",
   "execution_count": 170,
   "id": "24db9eeb",
   "metadata": {},
   "outputs": [],
   "source": [
    "class ContaCorrente2():\n",
    "    def __init__(self, saldo: int, nome: str, cpf: str):\n",
    "        #Privando(protegendo) os atributos para não serem alterados fora da classe\n",
    "        self._saldo = saldo\n",
    "        self._nome = nome\n",
    "        self._cpf = cpf\n",
    "        \n",
    "    def depositar(self, valor):\n",
    "        if self._saldo is None: #Validação necessária para não retornar erro de \"Unsupported operand NoneType and int\"\n",
    "            self._saldo = valor\n",
    "        else:\n",
    "            self._saldo += valor\n",
    "   \n",
    "    def retirar(self, valor):\n",
    "        if self._saldo is None:\n",
    "            print(\"Saldo insuficiente.\")\n",
    "        elif (self._saldo - valor) < 0:\n",
    "            print(\"Saldo insuficiente.\")\n",
    "        else:\n",
    "            self._saldo -= valor\n",
    "    \n",
    "    def consultar_saldo(self):\n",
    "        return self._saldo\n",
    "    \n",
    "    def _limite_cheque_especial(self):\n",
    "        self.limite = -1000\n",
    "        return self.limite\n",
    "    \n",
    "    def consultar_limite(self):\n",
    "        print(f\"Seu limite de cheque especial é: {self._limite_cheque_especial()}\")\n",
    "\n",
    "\n",
    "conta2 = ContaCorrente2(1000, \"José\", \"12456\")"
   ]
  },
  {
   "cell_type": "markdown",
   "id": "d0975605",
   "metadata": {},
   "source": [
    "### Tentando acessar um atributo privado"
   ]
  },
  {
   "cell_type": "code",
   "execution_count": 172,
   "id": "e22ee719",
   "metadata": {},
   "outputs": [
    {
     "data": {
      "text/plain": [
       "150"
      ]
     },
     "execution_count": 172,
     "metadata": {},
     "output_type": "execute_result"
    }
   ],
   "source": [
    "#Sem proteção\n",
    "conta.saldo"
   ]
  },
  {
   "cell_type": "code",
   "execution_count": 173,
   "id": "4cdc0d2f",
   "metadata": {},
   "outputs": [
    {
     "ename": "AttributeError",
     "evalue": "'ContaCorrente2' object has no attribute 'saldo'",
     "output_type": "error",
     "traceback": [
      "\u001b[1;31m---------------------------------------------------------------------------\u001b[0m",
      "\u001b[1;31mAttributeError\u001b[0m                            Traceback (most recent call last)",
      "Input \u001b[1;32mIn [173]\u001b[0m, in \u001b[0;36m<cell line: 2>\u001b[1;34m()\u001b[0m\n\u001b[0;32m      1\u001b[0m \u001b[38;5;66;03m#Com proteção\u001b[39;00m\n\u001b[1;32m----> 2\u001b[0m \u001b[43mconta2\u001b[49m\u001b[38;5;241;43m.\u001b[39;49m\u001b[43msaldo\u001b[49m\n",
      "\u001b[1;31mAttributeError\u001b[0m: 'ContaCorrente2' object has no attribute 'saldo'"
     ]
    }
   ],
   "source": [
    "#Com proteção\n",
    "conta2.saldo"
   ]
  },
  {
   "cell_type": "code",
   "execution_count": 52,
   "id": "d373f8fa",
   "metadata": {},
   "outputs": [
    {
     "name": "stdout",
     "output_type": "stream",
     "text": [
      "Seu limite de cheque especial é: -1000\n"
     ]
    }
   ],
   "source": [
    "conta2.consultar_limite()"
   ]
  },
  {
   "cell_type": "raw",
   "id": "cf4baf8b",
   "metadata": {},
   "source": [
    "Na verdade, no python não existe métodos realmente privados, já que podemos acessá-lo pelo seu nome 'desfigurado'. Qualquer pessoa pode acessar quaisquer métodos dentro da classe. Esses métodos privados alertam o programador que tal função não deve ser acessada diretamente. No geral, mas não é regra, os atributos são privados e quase todos os métodos são públicos."
   ]
  },
  {
   "cell_type": "markdown",
   "id": "739f9719",
   "metadata": {},
   "source": [
    "### Acessando um atributo privado"
   ]
  },
  {
   "cell_type": "code",
   "execution_count": 176,
   "id": "fa29add2",
   "metadata": {},
   "outputs": [
    {
     "data": {
      "text/plain": [
       "1000"
      ]
     },
     "execution_count": 176,
     "metadata": {},
     "output_type": "execute_result"
    }
   ],
   "source": [
    "conta2._saldo"
   ]
  },
  {
   "cell_type": "markdown",
   "id": "92ea7cef",
   "metadata": {},
   "source": [
    "# Método Estático\n",
    "\n",
    "O único objetivo é servir a classe para um fim específico, imutável. São declaradas como funções auxiliares privadas no escopo global da classe, por isso não usa nenhuma instância da classe.\n",
    "\n",
    "Acima da função estática, é boa prática declarar @staticmethod"
   ]
  },
  {
   "cell_type": "raw",
   "id": "68d99304",
   "metadata": {},
   "source": [
    "@staticmethod\n",
    "def _minha_funcao_estatica():\n",
    "    <código>"
   ]
  },
  {
   "cell_type": "code",
   "execution_count": 206,
   "id": "058c0f02",
   "metadata": {},
   "outputs": [],
   "source": [
    "import pytz #Essa bib faz o ajuste de fuso horário (pytz - python timezone)\n",
    "from datetime import datetime\n",
    "\n",
    "class ContaCorrente:\n",
    "    \n",
    "    #Função estática declarada no escopo global da classe para retornar a hora\n",
    "    @staticmethod\n",
    "    def _data_hora():\n",
    "        fuso_br = pytz.timezone('Brazil/East')\n",
    "        horario_br = datetime.now(fuso_br)\n",
    "        return horario_br.strftime(\"%d/%m/%Y %H:%M:%S\")\n",
    "    \n",
    "    def __init__(self, saldo: int, nome: str, cpf: str, agencia: int, num_conta: int):\n",
    "        self._saldo = saldo\n",
    "        self._nome = nome\n",
    "        self._cpf = cpf\n",
    "        self._agencia = agencia\n",
    "        self._num_conta = num_conta\n",
    "        self.transacao = []\n",
    "    \n",
    "    def consultar_saldo(self):\n",
    "        print(f\"Seu saldo é: R${self._saldo}\")\n",
    "    \n",
    "    def depositar(self, valor):\n",
    "        self.saldo_inicial = self._saldo\n",
    "        self._saldo += valor\n",
    "        self.consultar_saldo()\n",
    "        self.transacao.append({'TransactType':'Deposit', 'Datetime': ContaCorrente._data_hora(), \n",
    "                               'InitialAmmount':self.saldo_inicial, 'TransactValue': valor, 'TotalAmmount': self._saldo})\n",
    "    \n",
    "    def sacar(self, valor):\n",
    "        self.saldo_inicial = self._saldo\n",
    "        if (self._saldo < valor):\n",
    "            print(\"Saldo insuficiente\")\n",
    "            self.consultar_saldo()\n",
    "        else:\n",
    "            self._saldo -= valor\n",
    "            self.consultar_saldo()\n",
    "            self.transacao.append({'TransactType':'Withdraw', 'InitialAmmount':self.saldo_inicial, \n",
    "                               'TransactValue': valor, 'TotalAmmount': self._saldo})\n",
    "    \n",
    "    def mostra_hist_transacao(self):\n",
    "        print(\"Histórico de transações\")\n",
    "        for transacao in self.transacao:\n",
    "            print(self.transacao)\n",
    "\n",
    "conta = ContaCorrente(100, \"José\", \"13456\", \"0001\", 145)"
   ]
  },
  {
   "cell_type": "code",
   "execution_count": 207,
   "id": "6553add2",
   "metadata": {},
   "outputs": [
    {
     "name": "stdout",
     "output_type": "stream",
     "text": [
      "Seu saldo é: R$1100\n"
     ]
    }
   ],
   "source": [
    "conta.depositar(1000)"
   ]
  },
  {
   "cell_type": "code",
   "execution_count": 208,
   "id": "ab8d5c9a",
   "metadata": {},
   "outputs": [
    {
     "name": "stdout",
     "output_type": "stream",
     "text": [
      "Seu saldo é: R$850\n"
     ]
    }
   ],
   "source": [
    "conta.sacar(250)"
   ]
  },
  {
   "cell_type": "code",
   "execution_count": 209,
   "id": "711069a8",
   "metadata": {},
   "outputs": [
    {
     "name": "stdout",
     "output_type": "stream",
     "text": [
      "Seu saldo é: R$850\n"
     ]
    }
   ],
   "source": [
    "conta.consultar_saldo()"
   ]
  },
  {
   "cell_type": "code",
   "execution_count": 210,
   "id": "e12d5aa8",
   "metadata": {},
   "outputs": [
    {
     "name": "stdout",
     "output_type": "stream",
     "text": [
      "Histórico de transações\n",
      "[{'TransactType': 'Deposit', 'Datetime': '05/12/2022 11:22:57', 'InitialAmmount': 100, 'TransactValue': 1000, 'TotalAmmount': 1100}, {'TransactType': 'Withdraw', 'InitialAmmount': 1100, 'TransactValue': 250, 'TotalAmmount': 850}]\n",
      "[{'TransactType': 'Deposit', 'Datetime': '05/12/2022 11:22:57', 'InitialAmmount': 100, 'TransactValue': 1000, 'TotalAmmount': 1100}, {'TransactType': 'Withdraw', 'InitialAmmount': 1100, 'TransactValue': 250, 'TotalAmmount': 850}]\n"
     ]
    }
   ],
   "source": [
    "conta.mostra_hist_transacao()"
   ]
  },
  {
   "cell_type": "markdown",
   "id": "0a4a55d7",
   "metadata": {},
   "source": [
    "## Adicionando função de transferência entre contas"
   ]
  },
  {
   "cell_type": "code",
   "execution_count": 51,
   "id": "38b5fc5b",
   "metadata": {},
   "outputs": [],
   "source": [
    "import pytz #Essa bib faz o ajuste de fuso horário (pytz - python timezone)\n",
    "from datetime import datetime\n",
    "\n",
    "class ContaCorrente:\n",
    "    \n",
    "    #Função estática declarada no escopo global da classe para retornar a hora\n",
    "    @staticmethod\n",
    "    def _data_hora():\n",
    "        fuso_br = pytz.timezone('Brazil/East')\n",
    "        horario_br = datetime.now(fuso_br)\n",
    "        return horario_br.strftime(\"%d/%m/%Y %H:%M:%S\")\n",
    "    \n",
    "    def __init__(self, saldo: int, nome: str, cpf: str, agencia: int, num_conta: int):\n",
    "        self._saldo = saldo\n",
    "        self._nome = nome\n",
    "        self._cpf = cpf\n",
    "        self._agencia = agencia\n",
    "        self._num_conta = num_conta\n",
    "        self.transacao = []\n",
    "    \n",
    "    def consultar_saldo(self):\n",
    "        print(f\"Seu saldo é: R${self._saldo}\")\n",
    "        \n",
    "    def mostra_titular(self):\n",
    "        nome_conta = self._nome\n",
    "        return nome_conta\n",
    "    \n",
    "    def mostra_num_conta(self):\n",
    "       \n",
    "        return self._num_conta\n",
    "    \n",
    "    def depositar(self, valor):\n",
    "        self.saldo_inicial = self._saldo\n",
    "        self._saldo += valor\n",
    "        self.consultar_saldo()\n",
    "        self.transacao.append({'TransactType':'Deposit', 'Datetime': ContaCorrente._data_hora(), \n",
    "                               'InitialAmmount':self.saldo_inicial, 'TransactValue': valor, 'TotalAmmount': self._saldo})\n",
    "    \n",
    "    def sacar(self, valor):\n",
    "        self.saldo_inicial = self._saldo\n",
    "        if (self._saldo < valor):\n",
    "            print(\"Saldo insuficiente\")\n",
    "            self.consultar_saldo()\n",
    "        else:\n",
    "            self._saldo -= valor\n",
    "            self.consultar_saldo()\n",
    "            self.transacao.append({'TransactType':'Withdraw', 'InitialAmmount':self.saldo_inicial, \n",
    "                               'TransactValue': valor, 'TotalAmmount': self._saldo})\n",
    "    \n",
    "    def mostra_hist_transacao(self):\n",
    "        print(\"Histórico de transações\")\n",
    "        for transacao in self.transacao:\n",
    "            print(self.transacao)\n",
    "            \n",
    "    def transferir(self, valor, conta_destino):\n",
    "        self.saldo_inicial = self._saldo\n",
    "        if (self._saldo < valor):\n",
    "            print(\"Saldo insuficiente\")\n",
    "            self.consultar_saldo()\n",
    "        else:\n",
    "            #informações desta conta\n",
    "            print(\"Trasnferência realizada com sucesso!\")\n",
    "            self.consultar_saldo()\n",
    "            print(f\"Valor transferido: R${valor}\")\n",
    "            self._saldo -= valor\n",
    "            self.consultar_saldo()\n",
    "            self.transacao.append({'TransactType':'Withdraw', 'InitialAmmount':self.saldo_inicial, \n",
    "                               'TransactValue': valor, 'TotalAmmount': self._saldo})\n",
    "            #informações da conta destino\n",
    "            conta_destino._saldo =+ valor\n",
    "            conta_destino.transacao.append({'TransactType':'Withdraw', 'InitialAmmount':self.saldo_inicial, \n",
    "                               'TransactValue': valor, 'TotalAmmount': self._saldo})\n",
    "            \n",
    "\n",
    "#Instanciando as contas\n",
    "conta1 = ContaCorrente(100, \"José\", \"13456\", \"0001\", 145)\n",
    "conta2 = ContaCorrente(0, \"Gabriel\", \"78910\", \"0002\", 156)"
   ]
  },
  {
   "cell_type": "code",
   "execution_count": 11,
   "id": "5ce709f1",
   "metadata": {},
   "outputs": [
    {
     "name": "stdout",
     "output_type": "stream",
     "text": [
      "Seu saldo é: R$0\n"
     ]
    }
   ],
   "source": [
    "conta2.consultar_saldo()"
   ]
  },
  {
   "cell_type": "code",
   "execution_count": 12,
   "id": "50cb8ad2",
   "metadata": {},
   "outputs": [
    {
     "name": "stdout",
     "output_type": "stream",
     "text": [
      "Trasnferência realizada com sucesso!\n",
      "Seu saldo é: R$100\n",
      "Valor transferido: R$80\n",
      "Seu saldo é: R$20\n"
     ]
    }
   ],
   "source": [
    "conta1.transferir(80, conta2)"
   ]
  },
  {
   "cell_type": "code",
   "execution_count": 13,
   "id": "93f367d9",
   "metadata": {},
   "outputs": [
    {
     "name": "stdout",
     "output_type": "stream",
     "text": [
      "Seu saldo é: R$80\n"
     ]
    }
   ],
   "source": [
    "conta2.consultar_saldo()"
   ]
  },
  {
   "cell_type": "markdown",
   "id": "d05d8f9b",
   "metadata": {},
   "source": [
    "# Relacionamento entre classes (Ainda não é o conceito de herança)\n",
    "\n",
    "Criar uma classe para atribuir um cartão de crédito ao cliente"
   ]
  },
  {
   "cell_type": "code",
   "execution_count": 63,
   "id": "0f7c13d6",
   "metadata": {},
   "outputs": [],
   "source": [
    "class CartaoDeCredito():\n",
    "    def __init__(self, titular: str, conta_corrente: int):\n",
    "        self._titular = titular\n",
    "        self._conta_corrente = conta_corrente\n",
    "        self._num_cartao = \"5067 2200 3341 8017\"\n",
    "        self._validade = \"01/30\"\n",
    "        self._cod_seguranca = 123\n",
    "        self._limite = 5000\n",
    "        conta_corrente._cartoes.append(self)"
   ]
  },
  {
   "cell_type": "markdown",
   "id": "317dfd42",
   "metadata": {},
   "source": [
    "### Adicionando o atributo cartões para receber todos os cartões do cliente"
   ]
  },
  {
   "cell_type": "code",
   "execution_count": 64,
   "id": "00faf075",
   "metadata": {},
   "outputs": [],
   "source": [
    "import pytz #Essa bib faz o ajuste de fuso horário (pytz - python timezone)\n",
    "from datetime import datetime\n",
    "\n",
    "class ContaCorrente:\n",
    "    \n",
    "    #Função estática declarada no escopo global da classe para retornar a hora\n",
    "    @staticmethod\n",
    "    def _data_hora():\n",
    "        fuso_br = pytz.timezone('Brazil/East')\n",
    "        horario_br = datetime.now(fuso_br)\n",
    "        return horario_br.strftime(\"%d/%m/%Y %H:%M:%S\")\n",
    "    \n",
    "    def __init__(self, saldo: int, nome: str, cpf: str, agencia: int, num_conta: int):\n",
    "        self._saldo = saldo\n",
    "        self._nome = nome\n",
    "        self._cpf = cpf\n",
    "        self._agencia = agencia\n",
    "        self._num_conta = num_conta\n",
    "        self._transacao = []\n",
    "        self._cartoes = []\n",
    "    \n",
    "    def consultar_saldo(self):\n",
    "        print(f\"Seu saldo é: R${self._saldo}\")\n",
    "    \n",
    "    def depositar(self, valor):\n",
    "        self.saldo_inicial = self._saldo\n",
    "        self._saldo += valor\n",
    "        self.consultar_saldo()\n",
    "        self.transacao.append({'TransactType':'Deposit', 'Datetime': ContaCorrente._data_hora(), \n",
    "                               'InitialAmmount':self.saldo_inicial, 'TransactValue': valor, 'TotalAmmount': self._saldo})\n",
    "    \n",
    "    def sacar(self, valor):\n",
    "        self.saldo_inicial = self._saldo\n",
    "        if (self._saldo < valor):\n",
    "            print(\"Saldo insuficiente\")\n",
    "            self.consultar_saldo()\n",
    "        else:\n",
    "            self._saldo -= valor\n",
    "            self.consultar_saldo()\n",
    "            self.transacao.append({'TransactType':'Withdraw', 'InitialAmmount':self.saldo_inicial, \n",
    "                               'TransactValue': valor, 'TotalAmmount': self._saldo})\n",
    "    \n",
    "    def mostra_hist_transacao(self):\n",
    "        print(\"Histórico de transações\")\n",
    "        for transacao in self.transacao:\n",
    "            print(self.transacao)\n",
    "            \n",
    "    def transferir(self, valor, conta_destino):\n",
    "        self.saldo_inicial = self._saldo\n",
    "        if (self._saldo < valor):\n",
    "            print(\"Saldo insuficiente\")\n",
    "            self.consultar_saldo()\n",
    "        else:\n",
    "            #informações desta conta\n",
    "            print(\"Trasnferência realizada com sucesso!\")\n",
    "            self.consultar_saldo()\n",
    "            print(f\"Valor transferido: R${valor}\")\n",
    "            self._saldo -= valor\n",
    "            self.consultar_saldo()\n",
    "            self.transacao.append({'TransactType':'Withdraw', 'InitialAmmount':self.saldo_inicial, \n",
    "                               'TransactValue': valor, 'TotalAmmount': self._saldo})\n",
    "            #informações da conta destino\n",
    "            conta_destino._saldo =+ valor\n",
    "            conta_destino.transacao.append({'TransactType':'Withdraw', 'InitialAmmount':self.saldo_inicial, \n",
    "                               'TransactValue': valor, 'TotalAmmount': self._saldo})"
   ]
  },
  {
   "cell_type": "code",
   "execution_count": 65,
   "id": "a9756893",
   "metadata": {},
   "outputs": [],
   "source": [
    "minha_conta = ContaCorrente(1000, \"Gabriel\", \"12345678\", 123, 231096)"
   ]
  },
  {
   "cell_type": "code",
   "execution_count": 66,
   "id": "2ef95133",
   "metadata": {},
   "outputs": [],
   "source": [
    "meu_cartao = CartaoDeCredito(\"Gabriel\", minha_conta)"
   ]
  },
  {
   "cell_type": "code",
   "execution_count": 67,
   "id": "fad45aef",
   "metadata": {},
   "outputs": [
    {
     "name": "stdout",
     "output_type": "stream",
     "text": [
      "231096\n"
     ]
    }
   ],
   "source": [
    "print(meu_cartao._conta_corrente._num_conta)"
   ]
  },
  {
   "cell_type": "markdown",
   "id": "deda7c2d",
   "metadata": {},
   "source": [
    "### Acessando os parâmetros recebidos pelo atributo self._cartoes"
   ]
  },
  {
   "cell_type": "code",
   "execution_count": 74,
   "id": "d228a252",
   "metadata": {},
   "outputs": [
    {
     "name": "stdout",
     "output_type": "stream",
     "text": [
      "<__main__.CartaoDeCredito object at 0x000001FE8C357FD0>\n"
     ]
    }
   ],
   "source": [
    "print(minha_conta._cartoes[0])"
   ]
  },
  {
   "cell_type": "code",
   "execution_count": 79,
   "id": "ecf84534",
   "metadata": {},
   "outputs": [
    {
     "name": "stdout",
     "output_type": "stream",
     "text": [
      "5067 2200 3341 8017\n",
      "01/30\n",
      "123\n",
      "5000\n"
     ]
    }
   ],
   "source": [
    "print(minha_conta._cartoes[0]._num_cartao)\n",
    "print(minha_conta._cartoes[0]._validade)\n",
    "print(minha_conta._cartoes[0]._cod_seguranca)\n",
    "print(minha_conta._cartoes[0]._limite)"
   ]
  },
  {
   "cell_type": "markdown",
   "id": "cf8d470c",
   "metadata": {},
   "source": [
    "# HERANÇA\n",
    "\n",
    "Um dos pilares da OO é a reutilização de código por meio da herança, que permite que uma classe-filha herde os recursos da classe-pai. Em Python, uma classe aceita múltiplas heranças, ou seja, herda recursos de diversas classes. A sintaxe para criar a herança é feita com parênteses após o nome da classe: class NomeClasseFilha(NomeClassePai). Se for uma herança múltipla, cada superclasse deve ser separada por vírgula."
   ]
  },
  {
   "cell_type": "code",
   "execution_count": 55,
   "id": "d553c4d2",
   "metadata": {},
   "outputs": [
    {
     "name": "stdout",
     "output_type": "stream",
     "text": [
      "Seu nome é:  José Gabriel\n",
      "Sua matrícula é:  123456\n",
      "Ponto batido com sucesso!\n"
     ]
    }
   ],
   "source": [
    "class Pessoa:\n",
    "    def __init__(self): #Aqui define os atributos que mudarão de acordo com as classes\n",
    "        self.cpf = None\n",
    "        self.nome = None\n",
    "        self.endereco = None\n",
    "        \n",
    "class Funcionario(Pessoa):\n",
    "    def __init__(self):\n",
    "        self.matricula = None\n",
    "        self.salario = None\n",
    "    \n",
    "    def bater_ponto(self, identificar):\n",
    "        self.matricula = identificar\n",
    "        print(\"Seu nome é: \", self.nome)\n",
    "        print(\"Sua matrícula é: \", self.matricula)\n",
    "        print(\"Ponto batido com sucesso!\")\n",
    "\n",
    "func = Funcionario()\n",
    "func.nome = \"José Gabriel\"\n",
    "func.bater_ponto(123456)"
   ]
  },
  {
   "cell_type": "markdown",
   "id": "e1d6c78b",
   "metadata": {},
   "source": [
    "# MÉTODOS MÁGICOS EM PYTHON\n",
    "\n",
    "Quando uma classe é criada em Python, ela herda, mesmo que não declarado explicitamente, todos os recursos de uma classe-base chamada object. Veja o resultado da função dir(), que retorna uma lista com os recursos de um objeto"
   ]
  },
  {
   "cell_type": "code",
   "execution_count": 56,
   "id": "1e0ca35b",
   "metadata": {},
   "outputs": [
    {
     "data": {
      "text/plain": [
       "['__class__',\n",
       " '__delattr__',\n",
       " '__dict__',\n",
       " '__dir__',\n",
       " '__doc__',\n",
       " '__eq__',\n",
       " '__format__',\n",
       " '__ge__',\n",
       " '__getattribute__',\n",
       " '__gt__',\n",
       " '__hash__',\n",
       " '__init__',\n",
       " '__init_subclass__',\n",
       " '__le__',\n",
       " '__lt__',\n",
       " '__module__',\n",
       " '__ne__',\n",
       " '__new__',\n",
       " '__reduce__',\n",
       " '__reduce_ex__',\n",
       " '__repr__',\n",
       " '__setattr__',\n",
       " '__sizeof__',\n",
       " '__str__',\n",
       " '__subclasshook__',\n",
       " '__weakref__',\n",
       " 'cpf',\n",
       " 'endereco',\n",
       " 'nome']"
      ]
     },
     "execution_count": 56,
     "metadata": {},
     "output_type": "execute_result"
    }
   ],
   "source": [
    "dir(Pessoa())"
   ]
  },
  {
   "cell_type": "markdown",
   "id": "899387de",
   "metadata": {},
   "source": [
    "# MÉTODO CONSTRUTOR NA HERANÇA E SOBRESCRITA\n",
    "\n",
    "Na herança, quando adicionamos a função __init__(), a classe-filho não herdará o construtor dos pais. Ou seja, o construtor da classe-filho sobrescreve (override) o da classe-pai. Para utilizar o construtor da classe-base, é necessário invocá-lo explicitamente, dentro do construtor-filho, da seguinte forma: ClassePai.__init__()."
   ]
  },
  {
   "cell_type": "code",
   "execution_count": 60,
   "id": "66a564dc",
   "metadata": {},
   "outputs": [
    {
     "name": "stdout",
     "output_type": "stream",
     "text": [
      "42\n",
      "42\n",
      "42\n"
     ]
    }
   ],
   "source": [
    "class int42(int):\n",
    "    \n",
    "    def __init__(self, n):\n",
    "        int.__init__(n)\n",
    "    \n",
    "    def __add__(a, b):\n",
    "        return 42\n",
    "    \n",
    "    def __str__(n):\n",
    "        return '42'\n",
    "\n",
    "a = int42(7)\n",
    "b = int42(13)\n",
    "print(a + b)\n",
    "print(a)\n",
    "print(b)"
   ]
  },
  {
   "cell_type": "markdown",
   "id": "6155e861",
   "metadata": {},
   "source": [
    "Ao sobrescrever os métodos mágicos, utilizamos outra importante técnica da OO, o **polimorfismo**. Essa técnica, vale dizer, pode ser utilizada em qualquer método, não somente nos mágicos. Construir métodos com diferentes comportamentos pode ser feito sobrescrevendo (override) ou sobrecarregando (overload) métodos. No primeiro caso, a classe-filho sobrescreve um método da classe-base, por exemplo, o construtor, ou qualquer outro método. No segundo caso, da sobrecarga, um método é escrito com diferentes assinaturas para suportar diferentes comportamentos."
   ]
  },
  {
   "cell_type": "markdown",
   "id": "0d841fe3",
   "metadata": {},
   "source": [
    "# HERANÇA MÚLTIPLA\n",
    "\n",
    "Python permite que uma classe-filha herde recursos de mais de uma superclasse. Para isso, basta declarar cada classe a ser herdada separada por vírgula."
   ]
  },
  {
   "cell_type": "code",
   "execution_count": 61,
   "id": "5fa76fc6",
   "metadata": {},
   "outputs": [
    {
     "name": "stdout",
     "output_type": "stream",
     "text": [
      "PCIEthernet é uma PCI? True\n",
      "PCIEthernet é uma Ethernet? True\n",
      "PCIEthernet é uma USB? False\n",
      "\n",
      "USBWireless é uma USB? True\n",
      "USBWireless é uma Wireless? True\n",
      "USBWireless é uma Ethernet? True\n",
      "USBWireless é uma PCI? False\n"
     ]
    }
   ],
   "source": [
    "class Ethernet():\n",
    "    def __init__(self, name, mac_address):\n",
    "        self.name = name\n",
    "        self.mac_address = mac_address\n",
    "\n",
    "        \n",
    "class PCI():\n",
    "    def __init__(self, bus, vendor):\n",
    "        self.bus = bus\n",
    "        self.vendor = vendor\n",
    "\n",
    "        \n",
    "class USB():\n",
    "    def __init__(self, device):\n",
    "        self.device = device\n",
    "\n",
    "\n",
    "class Wireless(Ethernet):\n",
    "    def __init__(self, name, mac_address):\n",
    "        Ethernet.__init__(self, name, mac_address)\n",
    "        \n",
    "        \n",
    "class PCIEthernet(PCI, Ethernet):\n",
    "    def __init__(self, bus, vendor, name, mac_address):\n",
    "        PCI.__init__(self, bus, vendor)\n",
    "        Ethernet.__init__(self, name, mac_address)\n",
    "\n",
    "        \n",
    "class USBWireless(USB, Wireless):\n",
    "    def __init__(self, device, name, mac_address):\n",
    "        USB.__init__(self, device)\n",
    "        Wireless.__init__(self, name, mac_address)\n",
    "\n",
    "        \n",
    "eth0 = PCIEthernet('pci :0:0:1', 'realtek', 'eth0', '00:11:22:33:44')\n",
    "wlan0 = USBWireless('usb0', 'wlan0', '00:33:44:55:66')\n",
    "\n",
    "\n",
    "print('PCIEthernet é uma PCI?', isinstance(eth0, PCI))\n",
    "print('PCIEthernet é uma Ethernet?', isinstance(eth0, Ethernet))\n",
    "print('PCIEthernet é uma USB?', isinstance(eth0, USB))\n",
    "\n",
    "print('\\nUSBWireless é uma USB?', isinstance(wlan0, USB))\n",
    "print('USBWireless é uma Wireless?', isinstance(wlan0, Wireless))\n",
    "print('USBWireless é uma Ethernet?', isinstance(wlan0, Ethernet))\n",
    "print('USBWireless é uma PCI?', isinstance(wlan0, PCI))"
   ]
  },
  {
   "cell_type": "code",
   "execution_count": null,
   "id": "8626049e",
   "metadata": {},
   "outputs": [],
   "source": []
  }
 ],
 "metadata": {
  "kernelspec": {
   "display_name": "Python 3 (ipykernel)",
   "language": "python",
   "name": "python3"
  },
  "language_info": {
   "codemirror_mode": {
    "name": "ipython",
    "version": 3
   },
   "file_extension": ".py",
   "mimetype": "text/x-python",
   "name": "python",
   "nbconvert_exporter": "python",
   "pygments_lexer": "ipython3",
   "version": "3.10.7"
  }
 },
 "nbformat": 4,
 "nbformat_minor": 5
}
