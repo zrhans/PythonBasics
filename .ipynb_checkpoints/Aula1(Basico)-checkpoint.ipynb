{
 "cells": [
  {
   "cell_type": "markdown",
   "id": "8d2ff2bc",
   "metadata": {},
   "source": [
    "## Python\n",
    "\n",
    "O python é uma linguagem de programação orientada a objeto, de alto nível e de fácil compreensão.\n",
    "\n",
    "Principais IDE's: PyCharm e VSCode\n",
    "\n",
    "A construção de um algoritmo envolve **entrada, processamento e saída.**\n",
    "\n",
    "Uma variável é um **espaço alocado na memória RAM.**\n",
    "\n",
    "Não é necessário declarar a variável explicitamente\n",
    "\n",
    "A identação é **obrigatória**\n",
    "\n",
    "O Python executa o programa **de cima para baixo**\n",
    "\n",
    "\n"
   ]
  },
  {
   "cell_type": "markdown",
   "id": "90157c6d",
   "metadata": {},
   "source": [
    "## Manipulação básica de variáveis"
   ]
  },
  {
   "cell_type": "markdown",
   "id": "7319cb5f",
   "metadata": {},
   "source": [
    "Para criar uma variável, basta atribuir um valor a ela usando o sinal \"=\".\n",
    "\n",
    "Use o print(), para imprimir um valor na tela."
   ]
  },
  {
   "cell_type": "code",
   "execution_count": 1,
   "id": "51f7192c",
   "metadata": {},
   "outputs": [
    {
     "name": "stdout",
     "output_type": "stream",
     "text": [
      "Hello World!\n"
     ]
    }
   ],
   "source": [
    "print(\"Hello World!\")"
   ]
  },
  {
   "cell_type": "code",
   "execution_count": 4,
   "id": "3a97d704",
   "metadata": {},
   "outputs": [
    {
     "name": "stdout",
     "output_type": "stream",
     "text": [
      "Olá, eu sou um programador Python!\n"
     ]
    }
   ],
   "source": [
    "meu_texto = \"Olá, eu sou um programador Python!\"\n",
    "print(meu_texto)"
   ]
  },
  {
   "cell_type": "code",
   "execution_count": 12,
   "id": "d43e639b",
   "metadata": {},
   "outputs": [
    {
     "name": "stdout",
     "output_type": "stream",
     "text": [
      "Olá, eu sou programador\n"
     ]
    }
   ],
   "source": [
    "var1 = \"Olá\"\n",
    "var2 = \", eu sou programador\"\n",
    "print(var1 + var2)"
   ]
  },
  {
   "cell_type": "code",
   "execution_count": 18,
   "id": "8b0e3696",
   "metadata": {},
   "outputs": [
    {
     "name": "stdout",
     "output_type": "stream",
     "text": [
      "True\n"
     ]
    }
   ],
   "source": [
    "frase = \"Meu nome é Gabriel, sou um programador python\"\n",
    "print(\"Gabriel\" in frase)"
   ]
  },
  {
   "cell_type": "code",
   "execution_count": 19,
   "id": "44ad72bd",
   "metadata": {},
   "outputs": [
    {
     "name": "stdout",
     "output_type": "stream",
     "text": [
      "False\n"
     ]
    }
   ],
   "source": [
    "print(\"José\" in frase)"
   ]
  },
  {
   "cell_type": "code",
   "execution_count": 3,
   "id": "2773fac1",
   "metadata": {},
   "outputs": [
    {
     "name": "stdout",
     "output_type": "stream",
     "text": [
      "4\n"
     ]
    }
   ],
   "source": [
    "a = 2\n",
    "b = 2\n",
    "c = a + b\n",
    "print(c)"
   ]
  },
  {
   "cell_type": "code",
   "execution_count": 10,
   "id": "37ff347f",
   "metadata": {},
   "outputs": [
    {
     "name": "stdout",
     "output_type": "stream",
     "text": [
      "10.12345\n"
     ]
    }
   ],
   "source": [
    "tipo_float = 10.12345\n",
    "print(tipo_float)"
   ]
  },
  {
   "cell_type": "code",
   "execution_count": 14,
   "id": "b2daed07",
   "metadata": {},
   "outputs": [
    {
     "name": "stdout",
     "output_type": "stream",
     "text": [
      "True\n",
      "False\n"
     ]
    }
   ],
   "source": [
    "verdade = True\n",
    "falso = False\n",
    "print(verdade)\n",
    "print(falso)"
   ]
  },
  {
   "cell_type": "markdown",
   "id": "e80461a3",
   "metadata": {},
   "source": [
    "## Operadores lógicos\n",
    "\n",
    "\"=\" = atribuição. Atribui um valor a uma variável\n",
    "\n",
    "\"==\" = Comparador\n",
    "\n",
    "\"!=\" = diferente\n",
    "\n",
    "\">\" = maior\n",
    "\n",
    "\"<\" = menor\n",
    "\n",
    "\">=\" = maior ou igual\n",
    "\n",
    "\"<=\" = menor ou igual\n",
    "\n",
    "\"+\" = soma\n",
    "\n",
    "\"-\" = subtração\n",
    "\n",
    "\"/\" = divisão\n",
    "\n",
    "\"*\" = multiplicação\n",
    "\n",
    "\"**\" = exponenciação\n",
    "\n",
    "\"%\" = retorna o resto da divisão (módulo)\n",
    "\n",
    "\"//\" = retorna o numerador\n",
    "\n",
    "\"and\" = e\n",
    "\n",
    "\"or\" = ou"
   ]
  },
  {
   "cell_type": "code",
   "execution_count": 32,
   "id": "791c9107",
   "metadata": {},
   "outputs": [
    {
     "name": "stdout",
     "output_type": "stream",
     "text": [
      "4\n"
     ]
    }
   ],
   "source": [
    "print(2 + 2)"
   ]
  },
  {
   "cell_type": "code",
   "execution_count": 33,
   "id": "b691aa56",
   "metadata": {},
   "outputs": [
    {
     "name": "stdout",
     "output_type": "stream",
     "text": [
      "0\n"
     ]
    }
   ],
   "source": [
    "print(2 - 2)"
   ]
  },
  {
   "cell_type": "code",
   "execution_count": 38,
   "id": "d83774d6",
   "metadata": {},
   "outputs": [
    {
     "name": "stdout",
     "output_type": "stream",
     "text": [
      "10\n"
     ]
    }
   ],
   "source": [
    "print(5 * 2)"
   ]
  },
  {
   "cell_type": "code",
   "execution_count": 39,
   "id": "79c2c7f9",
   "metadata": {},
   "outputs": [
    {
     "name": "stdout",
     "output_type": "stream",
     "text": [
      "20.0\n"
     ]
    }
   ],
   "source": [
    "print(100 / 5)"
   ]
  },
  {
   "cell_type": "code",
   "execution_count": 35,
   "id": "83bb1de3",
   "metadata": {},
   "outputs": [
    {
     "name": "stdout",
     "output_type": "stream",
     "text": [
      "25\n"
     ]
    }
   ],
   "source": [
    "print(5 ** 2)"
   ]
  },
  {
   "cell_type": "code",
   "execution_count": 36,
   "id": "57dfa7ec",
   "metadata": {},
   "outputs": [
    {
     "name": "stdout",
     "output_type": "stream",
     "text": [
      "0\n"
     ]
    }
   ],
   "source": [
    "print(10 % 5)"
   ]
  },
  {
   "cell_type": "code",
   "execution_count": 37,
   "id": "8de8f4d3",
   "metadata": {},
   "outputs": [
    {
     "name": "stdout",
     "output_type": "stream",
     "text": [
      "1\n"
     ]
    }
   ],
   "source": [
    "print(11 % 2)"
   ]
  },
  {
   "cell_type": "code",
   "execution_count": 40,
   "id": "a07699d8",
   "metadata": {},
   "outputs": [
    {
     "name": "stdout",
     "output_type": "stream",
     "text": [
      "2\n"
     ]
    }
   ],
   "source": [
    "print(10 // 5)"
   ]
  },
  {
   "cell_type": "code",
   "execution_count": 41,
   "id": "f74b9a2f",
   "metadata": {},
   "outputs": [
    {
     "name": "stdout",
     "output_type": "stream",
     "text": [
      "4\n"
     ]
    }
   ],
   "source": [
    "resultado = 2 + 2\n",
    "print(resultado)"
   ]
  },
  {
   "cell_type": "code",
   "execution_count": 44,
   "id": "4be376c2",
   "metadata": {},
   "outputs": [
    {
     "name": "stdout",
     "output_type": "stream",
     "text": [
      "85\n"
     ]
    }
   ],
   "source": [
    "resultado1 = 10 + 5\n",
    "resultado2 = 20 * 5\n",
    "resultado3 = resultado2 - resultado1\n",
    "print(resultado3)"
   ]
  },
  {
   "cell_type": "code",
   "execution_count": 45,
   "id": "67df3b4c",
   "metadata": {},
   "outputs": [
    {
     "data": {
      "text/plain": [
       "True"
      ]
     },
     "execution_count": 45,
     "metadata": {},
     "output_type": "execute_result"
    }
   ],
   "source": [
    "10 > 2"
   ]
  },
  {
   "cell_type": "code",
   "execution_count": 46,
   "id": "bee5f417",
   "metadata": {},
   "outputs": [
    {
     "data": {
      "text/plain": [
       "False"
      ]
     },
     "execution_count": 46,
     "metadata": {},
     "output_type": "execute_result"
    }
   ],
   "source": [
    "3 < 1"
   ]
  },
  {
   "cell_type": "code",
   "execution_count": 47,
   "id": "9ab37f9d",
   "metadata": {},
   "outputs": [
    {
     "data": {
      "text/plain": [
       "True"
      ]
     },
     "execution_count": 47,
     "metadata": {},
     "output_type": "execute_result"
    }
   ],
   "source": [
    "a = 5\n",
    "b = 2\n",
    "a != b"
   ]
  },
  {
   "cell_type": "code",
   "execution_count": 48,
   "id": "43143d7d",
   "metadata": {},
   "outputs": [
    {
     "data": {
      "text/plain": [
       "False"
      ]
     },
     "execution_count": 48,
     "metadata": {},
     "output_type": "execute_result"
    }
   ],
   "source": [
    "a < b"
   ]
  },
  {
   "cell_type": "code",
   "execution_count": 49,
   "id": "943912d3",
   "metadata": {},
   "outputs": [
    {
     "data": {
      "text/plain": [
       "False"
      ]
     },
     "execution_count": 49,
     "metadata": {},
     "output_type": "execute_result"
    }
   ],
   "source": [
    "a <= b"
   ]
  },
  {
   "cell_type": "code",
   "execution_count": 50,
   "id": "e498e111",
   "metadata": {},
   "outputs": [
    {
     "data": {
      "text/plain": [
       "True"
      ]
     },
     "execution_count": 50,
     "metadata": {},
     "output_type": "execute_result"
    }
   ],
   "source": [
    "a >= b"
   ]
  },
  {
   "cell_type": "code",
   "execution_count": 51,
   "id": "4259fd0a",
   "metadata": {},
   "outputs": [
    {
     "data": {
      "text/plain": [
       "False"
      ]
     },
     "execution_count": 51,
     "metadata": {},
     "output_type": "execute_result"
    }
   ],
   "source": [
    "a == b"
   ]
  },
  {
   "cell_type": "markdown",
   "id": "9de65517",
   "metadata": {},
   "source": [
    "## Printando os tipos de variáveis\n",
    "\n",
    "Os tipos são:\n",
    "\n",
    "int = número inteiros\n",
    "\n",
    "float = número fracionais\n",
    "\n",
    "string(str) = texto\n",
    "\n",
    "bool = booleno (verdadeiro ou falso)"
   ]
  },
  {
   "cell_type": "code",
   "execution_count": 6,
   "id": "b956ccf9",
   "metadata": {},
   "outputs": [
    {
     "name": "stdout",
     "output_type": "stream",
     "text": [
      "<class 'str'>\n"
     ]
    }
   ],
   "source": [
    "print(type(meu_texto))"
   ]
  },
  {
   "cell_type": "code",
   "execution_count": 7,
   "id": "dbbd390e",
   "metadata": {},
   "outputs": [
    {
     "name": "stdout",
     "output_type": "stream",
     "text": [
      "<class 'int'>\n"
     ]
    }
   ],
   "source": [
    "print(type(a))"
   ]
  },
  {
   "cell_type": "code",
   "execution_count": 11,
   "id": "7370f4c2",
   "metadata": {},
   "outputs": [
    {
     "name": "stdout",
     "output_type": "stream",
     "text": [
      "<class 'float'>\n"
     ]
    }
   ],
   "source": [
    "print(type(tipo_float))"
   ]
  },
  {
   "cell_type": "code",
   "execution_count": 15,
   "id": "0af78d50",
   "metadata": {},
   "outputs": [
    {
     "name": "stdout",
     "output_type": "stream",
     "text": [
      "<class 'bool'>\n"
     ]
    }
   ],
   "source": [
    "print(type(verdade))"
   ]
  },
  {
   "cell_type": "code",
   "execution_count": 16,
   "id": "7c2d091f",
   "metadata": {},
   "outputs": [
    {
     "name": "stdout",
     "output_type": "stream",
     "text": [
      "<class 'bool'>\n"
     ]
    }
   ],
   "source": [
    "print(type(falso))"
   ]
  },
  {
   "cell_type": "markdown",
   "id": "f9981b40",
   "metadata": {},
   "source": [
    "## BUILT-IN\n",
    "\n",
    "Built-ins são funções criadas dentro do Python. São nativas da linguagem.\n",
    "\n",
    "Para saber a lista completa de built-in, acesse: https://docs.python.org/3/library/functions.html\n",
    "\n",
    "enumerate(), para retornar a posição de um valor em uma sequência.\n",
    "\n",
    "input(), para capturar um valor digitado no teclado.\n",
    "\n",
    "int() e float(), para converter um valor no tipo inteiro ou float.\n",
    "\n",
    "range(), para criar uma sequência numérica.\n",
    "\n",
    "type(), para saber qual o tipo de um objeto (variável).\n",
    "\n",
    "in, verifica se algo está contido em determinado objeto"
   ]
  },
  {
   "cell_type": "code",
   "execution_count": 23,
   "id": "bfc640a1",
   "metadata": {},
   "outputs": [
    {
     "name": "stdout",
     "output_type": "stream",
     "text": [
      "[0, 1, 2, 3, 4, 5, 6, 7, 8, 9]\n"
     ]
    }
   ],
   "source": [
    "print(list(range(10))) #Gera uma sequência de 0 à 9."
   ]
  },
  {
   "cell_type": "code",
   "execution_count": 26,
   "id": "a4c5a553",
   "metadata": {},
   "outputs": [
    {
     "name": "stdout",
     "output_type": "stream",
     "text": [
      "15\n"
     ]
    }
   ],
   "source": [
    "texto = \"Esse é um texto\"\n",
    "#mostrando o tamanho do texto com o built-in len()\n",
    "print(len(texto))"
   ]
  },
  {
   "cell_type": "code",
   "execution_count": 1,
   "id": "eaa70b3c",
   "metadata": {},
   "outputs": [
    {
     "name": "stdout",
     "output_type": "stream",
     "text": [
      "Digite uma frase: Olá, sou o Gabriel\n",
      "A frase digitada foi: Olá, sou o Gabriel\n"
     ]
    }
   ],
   "source": [
    "frase = input(\"Digite uma frase: \")\n",
    "print(f\"A frase digitada foi: {frase}\")"
   ]
  },
  {
   "cell_type": "markdown",
   "id": "81f5af85",
   "metadata": {},
   "source": [
    "## Formas de printar"
   ]
  },
  {
   "cell_type": "code",
   "execution_count": 31,
   "id": "516ccc7c",
   "metadata": {},
   "outputs": [
    {
     "name": "stdout",
     "output_type": "stream",
     "text": [
      "2 + 2 = 4\n"
     ]
    }
   ],
   "source": [
    "#Utilizando só as variáveis\n",
    "print(a, \"+\", b, \"=\", a + b)"
   ]
  },
  {
   "cell_type": "code",
   "execution_count": 29,
   "id": "8b30a270",
   "metadata": {},
   "outputs": [
    {
     "name": "stdout",
     "output_type": "stream",
     "text": [
      "2 + 2 = 4\n"
     ]
    }
   ],
   "source": [
    "#Utilizando o fstring. Inicia o print com o f e insere as variáveis dentro de chaves\n",
    "print(f\"{a} + {b} = {a+b}\")"
   ]
  },
  {
   "cell_type": "code",
   "execution_count": 30,
   "id": "cb28cac0",
   "metadata": {},
   "outputs": [
    {
     "name": "stdout",
     "output_type": "stream",
     "text": [
      "2 + 2 = 4\n"
     ]
    }
   ],
   "source": [
    "#Utilizando o format\n",
    "print(\"{} + {} = {}\".format(a, b, a+b))"
   ]
  },
  {
   "cell_type": "markdown",
   "id": "51bdf4c6",
   "metadata": {},
   "source": [
    "## Operadores Booleanos\n",
    "\n",
    "**And** - Retorna verdadeiro quando todas as condições são verdadeiras\n",
    "\n",
    "**Or** - Retorna verdadeiro quando uma ou mais condição é verdadeira\n",
    "\n",
    "**Not** - Inverte a condição. Verdadeiro = Falso; Falso = Verdadeiro\n"
   ]
  },
  {
   "cell_type": "code",
   "execution_count": 63,
   "id": "574e93df",
   "metadata": {},
   "outputs": [
    {
     "name": "stdout",
     "output_type": "stream",
     "text": [
      "False\n"
     ]
    }
   ],
   "source": [
    "a = True\n",
    "b = False"
   ]
  },
  {
   "cell_type": "code",
   "execution_count": 64,
   "id": "ae3c50df",
   "metadata": {},
   "outputs": [
    {
     "name": "stdout",
     "output_type": "stream",
     "text": [
      "True\n"
     ]
    }
   ],
   "source": [
    "print(a)"
   ]
  },
  {
   "cell_type": "code",
   "execution_count": 65,
   "id": "394504a9",
   "metadata": {},
   "outputs": [
    {
     "name": "stdout",
     "output_type": "stream",
     "text": [
      "False\n"
     ]
    }
   ],
   "source": [
    "print(not a)"
   ]
  },
  {
   "cell_type": "code",
   "execution_count": 66,
   "id": "352e4e85",
   "metadata": {},
   "outputs": [
    {
     "name": "stdout",
     "output_type": "stream",
     "text": [
      "False\n"
     ]
    }
   ],
   "source": [
    "print(a and b)"
   ]
  },
  {
   "cell_type": "code",
   "execution_count": 67,
   "id": "4e6d567d",
   "metadata": {},
   "outputs": [
    {
     "name": "stdout",
     "output_type": "stream",
     "text": [
      "True\n"
     ]
    }
   ],
   "source": [
    "print(a or b)"
   ]
  },
  {
   "cell_type": "markdown",
   "id": "8ee63118",
   "metadata": {},
   "source": [
    "# Estrutura Condicionais\n",
    "\n",
    "If (condição):\n",
    "    \n",
    "       <condição1>\n",
    "    \n",
    "elif (condição):\n",
    "   \n",
    "       <condição2>\n",
    "   \n",
    "else (condição):\n",
    "\n",
    "       <condição3>\n",
    "\n"
   ]
  },
  {
   "cell_type": "code",
   "execution_count": 52,
   "id": "8dc55c7e",
   "metadata": {},
   "outputs": [
    {
     "name": "stdout",
     "output_type": "stream",
     "text": [
      "Então meu nome é Gabriel\n"
     ]
    }
   ],
   "source": [
    "meu_nome = \"Gabriel\"\n",
    "\n",
    "if (meu_nome == \"Gabriel\"):\n",
    "    print(\"Então meu nome é Gabriel\")\n",
    "else:\n",
    "    print(\"Então meu nome não é Gabriel\")"
   ]
  },
  {
   "cell_type": "code",
   "execution_count": 56,
   "id": "392d5651",
   "metadata": {},
   "outputs": [
    {
     "name": "stdout",
     "output_type": "stream",
     "text": [
      "O número é par\n"
     ]
    }
   ],
   "source": [
    "a = 10\n",
    "b = 20\n",
    "c = a + b\n",
    "\n",
    "if (c % 2 == 0):\n",
    "    print(\"O número é par\")\n",
    "else:\n",
    "    print(\"O número é ímpar\")"
   ]
  },
  {
   "cell_type": "code",
   "execution_count": 62,
   "id": "9c8ad243",
   "metadata": {},
   "outputs": [
    {
     "name": "stdout",
     "output_type": "stream",
     "text": [
      "Velocidade dentro do limite\n"
     ]
    }
   ],
   "source": [
    "velocidade = 60\n",
    "\n",
    "if (velocidade <= 60):\n",
    "    print(\"Velocidade dentro do limite\")\n",
    "elif (velocidade > 60 and velocidade <= 80):\n",
    "    print(\"Velcoidade acima do limite\")\n",
    "else:\n",
    "    print(\"Carteira de motorista suspensa!\")"
   ]
  },
  {
   "cell_type": "code",
   "execution_count": 22,
   "id": "f5272967",
   "metadata": {},
   "outputs": [
    {
     "name": "stdout",
     "output_type": "stream",
     "text": [
      "Vogal 'e' encontrada, na posição 6\n",
      "Vogal 'e' encontrada, na posição 13\n",
      "Vogal 'e' encontrada, na posição 18\n",
      "Vogal 'a' encontrada, na posição 45\n",
      "Vogal 'a' encontrada, na posição 47\n",
      "Vogal 'a' encontrada, na posição 53\n",
      "Vogal 'a' encontrada, na posição 61\n",
      "Vogal 'a' encontrada, na posição 67\n",
      "Vogal 'a' encontrada, na posição 91\n",
      "Vogal 'a' encontrada, na posição 98\n",
      "Vogal 'e' encontrada, na posição 100\n",
      "Vogal 'e' encontrada, na posição 104\n",
      "Vogal 'a' encontrada, na posição 111\n",
      "Vogal 'a' encontrada, na posição 113\n",
      "Vogal 'e' encontrada, na posição 119\n",
      "Vogal 'a' encontrada, na posição 122\n",
      "Vogal 'a' encontrada, na posição 127\n",
      "Vogal 'a' encontrada, na posição 130\n",
      "Vogal 'e' encontrada, na posição 132\n",
      "Vogal 'a' encontrada, na posição 135\n",
      "Vogal 'e' encontrada, na posição 138\n",
      "Vogal 'e' encontrada, na posição 141\n",
      "Vogal 'e' encontrada, na posição 151\n",
      "Vogal 'e' encontrada, na posição 156\n",
      "Vogal 'e' encontrada, na posição 166\n",
      "Vogal 'a' encontrada, na posição 168\n",
      "Vogal 'e' encontrada, na posição 174\n",
      "Vogal 'a' encontrada, na posição 190\n",
      "Vogal 'a' encontrada, na posição 192\n",
      "Vogal 'e' encontrada, na posição 201\n",
      "Vogal 'a' encontrada, na posição 209\n",
      "Vogal 'a' encontrada, na posição 216\n",
      "Vogal 'e' encontrada, na posição 220\n",
      "Vogal 'e' encontrada, na posição 227\n",
      "Vogal 'e' encontrada, na posição 230\n",
      "Vogal 'a' encontrada, na posição 234\n",
      "Vogal 'e' encontrada, na posição 237\n",
      "Vogal 'e' encontrada, na posição 252\n",
      "Vogal 'a' encontrada, na posição 254\n",
      "Vogal 'a' encontrada, na posição 257\n",
      "Vogal 'a' encontrada, na posição 259\n",
      "Vogal 'e' encontrada, na posição 266\n",
      "Vogal 'a' encontrada, na posição 278\n",
      "Vogal 'a' encontrada, na posição 280\n",
      "Vogal 'a' encontrada, na posição 282\n",
      "Vogal 'a' encontrada, na posição 289\n",
      "Vogal 'a' encontrada, na posição 294\n",
      "Vogal 'e' encontrada, na posição 297\n",
      "Vogal 'a' encontrada, na posição 309\n",
      "Vogal 'e' encontrada, na posição 323\n",
      "Vogal 'e' encontrada, na posição 325\n",
      "Vogal 'a' encontrada, na posição 328\n",
      "A vogal 'a' foi encontrada  29  vezes\n",
      "A vogal 'e' foi encontrada  23  vezes\n"
     ]
    }
   ],
   "source": [
    "texto = \"\"\"\n",
    "A inserção de comentários no código do programa é uma prática normal.\n",
    "Em função disso, toda linguagem de programação tem alguma maneira de permitir que comentários sejam inseridos nos programas.\n",
    "O objetivo é adicionar descrições em partes do código, seja para documentá-lo ou para adicionar uma descrição do algoritmo implementado (BANIN, p. 45, 2018).\"\n",
    "\"\"\"\n",
    "vog_a = 0\n",
    "vog_e = 0\n",
    "\n",
    "for i, c in enumerate(texto):\n",
    "    if c == 'a':\n",
    "        print(f\"Vogal '{c}' encontrada, na posição {i}\")\n",
    "        vog_a += 1\n",
    "    elif c == 'e':\n",
    "        print(f\"Vogal '{c}' encontrada, na posição {i}\")\n",
    "        vog_e += 1\n",
    "    else:\n",
    "        continue\n",
    "\n",
    "print(\"A vogal 'a' foi encontrada \", vog_a, \" vezes\")\n",
    "print(\"A vogal 'e' foi encontrada \", vog_e, \" vezes\")"
   ]
  },
  {
   "cell_type": "markdown",
   "id": "1d9bca30",
   "metadata": {},
   "source": [
    "# Estrutura de Repetição\n",
    "\n",
    "FOR - Repete x vezes uma ação\n",
    "\n",
    "WHILE - Repete uma ação enquanto determinado fator for verdadeiro\n"
   ]
  },
  {
   "cell_type": "markdown",
   "id": "f47092d1",
   "metadata": {},
   "source": [
    "## Funções\n",
    "\n",
    "Uma função é uma forma de organização, usada para delimitar ou determinar quais tarefas podem ser realizadas por uma determinada divisão. Também conhecidas como subprogramas ou sub-rotinas, são pequenos blocos de código aos quais se dá um nome, desenvolvidos para resolver tarefas específicas\n",
    "\n",
    "**BUILT-IN** -> Uma função built-in é um objeto que está integrado ao núcleo do interpretador Python. Ou seja, não precisa ser feita nenhuma instalação adicional, já está pronto para uso. \n",
    "\n",
    "**Anônima** -> Expressões lambda (às vezes chamadas de formas lambda) são usadas para criar funções anônimas. Uma função anônima é uma função que não é construída com o \"def \" e que, por isso, não possui nome. Esse tipo de construção é útil quando a função faz somente uma ação e é usada uma única vez."
   ]
  },
  {
   "cell_type": "code",
   "execution_count": null,
   "id": "6af1b90f",
   "metadata": {},
   "outputs": [],
   "source": []
  }
 ],
 "metadata": {
  "kernelspec": {
   "display_name": "Python 3 (ipykernel)",
   "language": "python",
   "name": "python3"
  },
  "language_info": {
   "codemirror_mode": {
    "name": "ipython",
    "version": 3
   },
   "file_extension": ".py",
   "mimetype": "text/x-python",
   "name": "python",
   "nbconvert_exporter": "python",
   "pygments_lexer": "ipython3",
   "version": "3.10.7"
  }
 },
 "nbformat": 4,
 "nbformat_minor": 5
}
