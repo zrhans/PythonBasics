{
 "cells": [
  {
   "cell_type": "markdown",
   "id": "cf8d470c",
   "metadata": {},
   "source": [
    "# HERANÇA\n",
    "\n",
    "Um dos pilares da OO é a reutilização de código por meio da herança, que permite que uma classe-filha herde os recursos da classe-pai. Em Python, uma classe aceita múltiplas heranças, ou seja, herda recursos de diversas classes. A sintaxe para criar a herança é feita com parênteses após o nome da classe: class NomeClasseFilha(NomeClassePai). Se for uma herança múltipla, cada superclasse deve ser separada por vírgula."
   ]
  },
  {
   "cell_type": "code",
   "execution_count": 1,
   "id": "d553c4d2",
   "metadata": {},
   "outputs": [
    {
     "name": "stdout",
     "output_type": "stream",
     "text": [
      "Seu nome é:  José Gabriel\n",
      "Sua matrícula é:  123456\n",
      "Ponto batido com sucesso!\n"
     ]
    }
   ],
   "source": [
    "class Pessoa:\n",
    "    def __init__(self): #Aqui define os atributos que mudarão de acordo com as classes\n",
    "        self.cpf = None\n",
    "        self.nome = None\n",
    "        self.endereco = None\n",
    "        \n",
    "class Funcionario(Pessoa):\n",
    "    def __init__(self):\n",
    "        self.matricula = None\n",
    "        self.salario = None\n",
    "    \n",
    "    def bater_ponto(self, identificar):\n",
    "        self.matricula = identificar\n",
    "        print(\"Seu nome é: \", self.nome)\n",
    "        print(\"Sua matrícula é: \", self.matricula)\n",
    "        print(\"Ponto batido com sucesso!\")\n",
    "\n",
    "func = Funcionario()\n",
    "func.nome = \"José Gabriel\"\n",
    "func.bater_ponto(123456)"
   ]
  },
  {
   "cell_type": "markdown",
   "id": "899387de",
   "metadata": {},
   "source": [
    "# MÉTODO CONSTRUTOR NA HERANÇA E SOBRESCRITA\n",
    "\n",
    "Na herança, quando adicionamos a função __init__(), a classe-filho não herdará o construtor dos pais. Ou seja, o construtor da classe-filho sobrescreve (override) o da classe-pai. Para utilizar o construtor da classe-base, é necessário invocá-lo explicitamente, dentro do construtor-filho, da seguinte forma: ClassePai.__init__()."
   ]
  },
  {
   "cell_type": "code",
   "execution_count": 2,
   "id": "66a564dc",
   "metadata": {},
   "outputs": [
    {
     "name": "stdout",
     "output_type": "stream",
     "text": [
      "42\n",
      "42\n",
      "42\n"
     ]
    }
   ],
   "source": [
    "class int42(int):\n",
    "    \n",
    "    def __init__(self, n):\n",
    "        int.__init__(n)\n",
    "    \n",
    "    def __add__(a, b):\n",
    "        return 42\n",
    "    \n",
    "    def __str__(n):\n",
    "        return '42'\n",
    "\n",
    "a = int42(7)\n",
    "b = int42(13)\n",
    "print(a + b)\n",
    "print(a)\n",
    "print(b)"
   ]
  },
  {
   "cell_type": "markdown",
   "id": "6155e861",
   "metadata": {},
   "source": [
    "Ao sobrescrever os métodos mágicos, utilizamos outra importante técnica da OO, o **polimorfismo**. Essa técnica, vale dizer, pode ser utilizada em qualquer método, não somente nos mágicos. Construir métodos com diferentes comportamentos pode ser feito sobrescrevendo (override) ou sobrecarregando (overload) métodos. No primeiro caso, a classe-filho sobrescreve um método da classe-base, por exemplo, o construtor, ou qualquer outro método. No segundo caso, da sobrecarga, um método é escrito com diferentes assinaturas para suportar diferentes comportamentos."
   ]
  },
  {
   "cell_type": "markdown",
   "id": "0d841fe3",
   "metadata": {},
   "source": [
    "# HERANÇA MÚLTIPLA\n",
    "\n",
    "Python permite que uma classe-filha herde recursos de mais de uma superclasse. Para isso, basta declarar cada classe a ser herdada separada por vírgula."
   ]
  },
  {
   "cell_type": "code",
   "execution_count": 3,
   "id": "5fa76fc6",
   "metadata": {
    "scrolled": true
   },
   "outputs": [
    {
     "name": "stdout",
     "output_type": "stream",
     "text": [
      "PCIEthernet é uma PCI? True\n",
      "PCIEthernet é uma Ethernet? True\n",
      "PCIEthernet é uma USB? False\n",
      "\n",
      "USBWireless é uma USB? True\n",
      "USBWireless é uma Wireless? True\n",
      "USBWireless é uma Ethernet? True\n",
      "USBWireless é uma PCI? False\n"
     ]
    }
   ],
   "source": [
    "class Ethernet():\n",
    "    def __init__(self, name, mac_address):\n",
    "        self.name = name\n",
    "        self.mac_address = mac_address\n",
    "\n",
    "        \n",
    "class PCI():\n",
    "    def __init__(self, bus, vendor):\n",
    "        self.bus = bus\n",
    "        self.vendor = vendor\n",
    "\n",
    "        \n",
    "class USB():\n",
    "    def __init__(self, device):\n",
    "        self.device = device\n",
    "\n",
    "\n",
    "class Wireless(Ethernet):\n",
    "    def __init__(self, name, mac_address):\n",
    "        Ethernet.__init__(self, name, mac_address)\n",
    "        \n",
    "        \n",
    "class PCIEthernet(PCI, Ethernet):\n",
    "    def __init__(self, bus, vendor, name, mac_address):\n",
    "        PCI.__init__(self, bus, vendor)\n",
    "        Ethernet.__init__(self, name, mac_address)\n",
    "\n",
    "        \n",
    "class USBWireless(USB, Wireless):\n",
    "    def __init__(self, device, name, mac_address):\n",
    "        USB.__init__(self, device)\n",
    "        Wireless.__init__(self, name, mac_address)\n",
    "\n",
    "        \n",
    "eth0 = PCIEthernet('pci :0:0:1', 'realtek', 'eth0', '00:11:22:33:44')\n",
    "wlan0 = USBWireless('usb0', 'wlan0', '00:33:44:55:66')\n",
    "\n",
    "\n",
    "print('PCIEthernet é uma PCI?', isinstance(eth0, PCI))\n",
    "print('PCIEthernet é uma Ethernet?', isinstance(eth0, Ethernet))\n",
    "print('PCIEthernet é uma USB?', isinstance(eth0, USB))\n",
    "\n",
    "print('\\nUSBWireless é uma USB?', isinstance(wlan0, USB))\n",
    "print('USBWireless é uma Wireless?', isinstance(wlan0, Wireless))\n",
    "print('USBWireless é uma Ethernet?', isinstance(wlan0, Ethernet))\n",
    "print('USBWireless é uma PCI?', isinstance(wlan0, PCI))"
   ]
  }
 ],
 "metadata": {
  "kernelspec": {
   "display_name": "Python 3 (ipykernel)",
   "language": "python",
   "name": "python3"
  },
  "language_info": {
   "codemirror_mode": {
    "name": "ipython",
    "version": 3
   },
   "file_extension": ".py",
   "mimetype": "text/x-python",
   "name": "python",
   "nbconvert_exporter": "python",
   "pygments_lexer": "ipython3",
   "version": "3.10.7"
  }
 },
 "nbformat": 4,
 "nbformat_minor": 5
}
