{
 "cells": [
  {
   "cell_type": "markdown",
   "id": "285361fa",
   "metadata": {},
   "source": [
    "# Lista (estrutura de dados)\n",
    "\n",
    "Lista é um dos principais conceitos do python. Muitas informações disponíveis estãos sob a forma de listas.\n",
    "\n",
    "Listas são mutáveis e indexadas.\n",
    "\n",
    "Como boa prática, listas de texto e listas numéricas devem estar separadas.\n",
    "\n",
    "Listas podem conter listas dentro delas (lista aninhada)\n",
    "\n",
    "lista = [\"valor1\", \"Valor2\", ..., \"valorN\"]\n"
   ]
  },
  {
   "cell_type": "code",
   "execution_count": 5,
   "id": "9022de8d",
   "metadata": {},
   "outputs": [
    {
     "data": {
      "text/plain": [
       "['A', 'B', 'C', 'D', 'E']"
      ]
     },
     "execution_count": 5,
     "metadata": {},
     "output_type": "execute_result"
    }
   ],
   "source": [
    "lista1 = ['A', \"B\", 'C', 'D', 'E']\n",
    "lista"
   ]
  },
  {
   "cell_type": "code",
   "execution_count": 6,
   "id": "7a86b755",
   "metadata": {},
   "outputs": [
    {
     "data": {
      "text/plain": [
       "[1, 2, 3, 4, 5]"
      ]
     },
     "execution_count": 6,
     "metadata": {},
     "output_type": "execute_result"
    }
   ],
   "source": [
    "lista2 = [1,2,3,4,5]\n",
    "lista2"
   ]
  },
  {
   "cell_type": "code",
   "execution_count": 8,
   "id": "5e681481",
   "metadata": {},
   "outputs": [
    {
     "data": {
      "text/plain": [
       "[['A', 'B', 'C', 'D', 'E'], [1, 2, 3, 4, 5]]"
      ]
     },
     "execution_count": 8,
     "metadata": {},
     "output_type": "execute_result"
    }
   ],
   "source": [
    "lista3 = [lista1, lista2]\n",
    "lista3"
   ]
  },
  {
   "cell_type": "markdown",
   "id": "ec521322",
   "metadata": {},
   "source": [
    "## Lista de Listas"
   ]
  },
  {
   "cell_type": "code",
   "execution_count": 30,
   "id": "7719e5f5",
   "metadata": {},
   "outputs": [],
   "source": [
    "vendedores = [\"José\", \"Gabriel\", \"Ana\", \"Paula\"]\n",
    "produtos = [\"iPad\", \"iPhone\"]\n",
    "vendas = [\n",
    "    [5, 10],\n",
    "    [2, 8],\n",
    "    [7,3],\n",
    "    [5,5]\n",
    "    \n",
    "]"
   ]
  },
  {
   "cell_type": "code",
   "execution_count": 37,
   "id": "8adef2a6",
   "metadata": {},
   "outputs": [
    {
     "name": "stdout",
     "output_type": "stream",
     "text": [
      "Vendedor José vendeu 5 iPads\n",
      "Vendedor José vendeu 10 iPhones\n"
     ]
    }
   ],
   "source": [
    "#Vendas de iPad do José\n",
    "vendas_jose_ipad = vendas[0][0]\n",
    "vendas_jose_ipad\n",
    "\n",
    "print(f\"Vendedor {vendedores[0]} vendeu {vendas[0][0]} iPads\")\n",
    "print(f\"Vendedor {vendedores[0]} vendeu {vendas[0][1]} iPhones\")"
   ]
  },
  {
   "cell_type": "code",
   "execution_count": 39,
   "id": "35c92fe9",
   "metadata": {},
   "outputs": [
    {
     "name": "stdout",
     "output_type": "stream",
     "text": [
      "Vendedor José vendeu 5 iPads\n",
      "Vendedor José vendeu 20 iPhones\n"
     ]
    }
   ],
   "source": [
    "#Modificando as vendas de Iphone do José\n",
    "vendas[0][1] = 20\n",
    "\n",
    "print(f\"Vendedor {vendedores[0]} vendeu {vendas[0][0]} iPads\")\n",
    "print(f\"Vendedor {vendedores[0]} vendeu {vendas[0][1]} iPhones\")"
   ]
  },
  {
   "cell_type": "code",
   "execution_count": 41,
   "id": "d8b8da10",
   "metadata": {},
   "outputs": [
    {
     "name": "stdout",
     "output_type": "stream",
     "text": [
      "Vendedor José vendeu 5 iPads\n",
      "Vendedor José vendeu 20 iPhones\n",
      "Vendedor José vendeu 10 Macs\n"
     ]
    }
   ],
   "source": [
    "#Adicionando mais um produto aos vendedores\n",
    "venda_mac = [10, 20, 30]\n",
    "\n",
    "#Vendedor José\n",
    "vendas[0].append(venda_mac[0])\n",
    "\n",
    "print(f\"Vendedor {vendedores[0]} vendeu {vendas[0][0]} iPads\")\n",
    "print(f\"Vendedor {vendedores[0]} vendeu {vendas[0][1]} iPhones\")\n",
    "print(f\"Vendedor {vendedores[0]} vendeu {vendas[0][2]} Macs\")"
   ]
  },
  {
   "cell_type": "markdown",
   "id": "19baf3d9",
   "metadata": {},
   "source": [
    "## Índices de lista\n",
    "\n",
    "Os índices podem ser acessados via [ ] passando o número por parâmetro\n",
    "\n",
    "lista[1], lista[2], lista[n]"
   ]
  },
  {
   "cell_type": "code",
   "execution_count": 10,
   "id": "cbee3b5f",
   "metadata": {},
   "outputs": [
    {
     "data": {
      "text/plain": [
       "'B'"
      ]
     },
     "execution_count": 10,
     "metadata": {},
     "output_type": "execute_result"
    }
   ],
   "source": [
    "lista1[1]"
   ]
  },
  {
   "cell_type": "code",
   "execution_count": 11,
   "id": "55d13838",
   "metadata": {},
   "outputs": [
    {
     "data": {
      "text/plain": [
       "4"
      ]
     },
     "execution_count": 11,
     "metadata": {},
     "output_type": "execute_result"
    }
   ],
   "source": [
    "lista2[3]"
   ]
  },
  {
   "cell_type": "code",
   "execution_count": 12,
   "id": "bf485e3f",
   "metadata": {},
   "outputs": [
    {
     "data": {
      "text/plain": [
       "['A', 'B', 'C', 'D', 'E']"
      ]
     },
     "execution_count": 12,
     "metadata": {},
     "output_type": "execute_result"
    }
   ],
   "source": [
    "lista3[0]"
   ]
  },
  {
   "cell_type": "code",
   "execution_count": 13,
   "id": "cf83cf04",
   "metadata": {},
   "outputs": [
    {
     "data": {
      "text/plain": [
       "[1, 2, 3, 4, 5]"
      ]
     },
     "execution_count": 13,
     "metadata": {},
     "output_type": "execute_result"
    }
   ],
   "source": [
    "lista3[1]"
   ]
  },
  {
   "cell_type": "code",
   "execution_count": 14,
   "id": "4a708249",
   "metadata": {},
   "outputs": [
    {
     "data": {
      "text/plain": [
       "'A'"
      ]
     },
     "execution_count": 14,
     "metadata": {},
     "output_type": "execute_result"
    }
   ],
   "source": [
    "lista3[0][0]"
   ]
  },
  {
   "cell_type": "code",
   "execution_count": 15,
   "id": "0be39438",
   "metadata": {},
   "outputs": [
    {
     "data": {
      "text/plain": [
       "1"
      ]
     },
     "execution_count": 15,
     "metadata": {},
     "output_type": "execute_result"
    }
   ],
   "source": [
    "lista3[1][0]"
   ]
  },
  {
   "cell_type": "markdown",
   "id": "f0cb9b95",
   "metadata": {},
   "source": [
    "## Modificando item na lista\n",
    "\n",
    "lista[posicao] = valor"
   ]
  },
  {
   "cell_type": "code",
   "execution_count": 17,
   "id": "d059fb2a",
   "metadata": {},
   "outputs": [
    {
     "data": {
      "text/plain": [
       "['A', 111, 'C', 'D', 'E']"
      ]
     },
     "execution_count": 17,
     "metadata": {},
     "output_type": "execute_result"
    }
   ],
   "source": [
    "lista1[1] = 111\n",
    "lista1"
   ]
  },
  {
   "cell_type": "code",
   "execution_count": 18,
   "id": "3e5bc106",
   "metadata": {},
   "outputs": [
    {
     "data": {
      "text/plain": [
       "[1, 2, 3, 'BlaBla', 5]"
      ]
     },
     "execution_count": 18,
     "metadata": {},
     "output_type": "execute_result"
    }
   ],
   "source": [
    "lista2[3] = \"BlaBla\"\n",
    "lista2"
   ]
  },
  {
   "cell_type": "code",
   "execution_count": 19,
   "id": "c5d05f03",
   "metadata": {},
   "outputs": [
    {
     "data": {
      "text/plain": [
       "[['A', 111, 'C', 'D', 'E'], [1, 2, 3, 'BlaBla', 5]]"
      ]
     },
     "execution_count": 19,
     "metadata": {},
     "output_type": "execute_result"
    }
   ],
   "source": [
    "lista3"
   ]
  },
  {
   "cell_type": "markdown",
   "id": "4c317078",
   "metadata": {},
   "source": [
    "## Métodos de lista\n",
    "\n",
    "Exitem inúmeros métodos de lista, para saber mais, acesse: https://docs.python.org/3/tutorial/datastructures.html"
   ]
  },
  {
   "cell_type": "code",
   "execution_count": 21,
   "id": "270de344",
   "metadata": {},
   "outputs": [
    {
     "data": {
      "text/plain": [
       "['A', 111, 'C', 'D', 'E', 'F']"
      ]
     },
     "execution_count": 21,
     "metadata": {},
     "output_type": "execute_result"
    }
   ],
   "source": [
    "lista1.append(\"F\")\n",
    "lista1"
   ]
  },
  {
   "cell_type": "code",
   "execution_count": 22,
   "id": "f227eafd",
   "metadata": {},
   "outputs": [
    {
     "data": {
      "text/plain": [
       "[1, 2, 3, 'BlaBla', 5, 26]"
      ]
     },
     "execution_count": 22,
     "metadata": {},
     "output_type": "execute_result"
    }
   ],
   "source": [
    "lista2.append(26)\n",
    "lista2"
   ]
  },
  {
   "cell_type": "code",
   "execution_count": 23,
   "id": "1591c83d",
   "metadata": {},
   "outputs": [
    {
     "data": {
      "text/plain": [
       "[['A', 111, 'C', 'D', 'E', 'F'],\n",
       " [1, 2, 3, 'BlaBla', 5, 26],\n",
       " ['Python', 'Programação', '1996', 'Listas']]"
      ]
     },
     "execution_count": 23,
     "metadata": {},
     "output_type": "execute_result"
    }
   ],
   "source": [
    "lista3.append([\"Python\", \"Programação\", \"1996\", \"Listas\"])\n",
    "lista3"
   ]
  },
  {
   "cell_type": "code",
   "execution_count": 24,
   "id": "59a206bc",
   "metadata": {},
   "outputs": [
    {
     "name": "stdout",
     "output_type": "stream",
     "text": [
      "Tamanho da lista1: 6\n",
      "Tamanho da lista2: 6\n",
      "Tamanho da lista3: 3\n"
     ]
    }
   ],
   "source": [
    "print(f\"Tamanho da lista1: {len(lista1)}\")\n",
    "print(f\"Tamanho da lista2: {len(lista2)}\")\n",
    "print(f\"Tamanho da lista3: {len(lista3)}\")"
   ]
  },
  {
   "cell_type": "code",
   "execution_count": 27,
   "id": "83b37d8d",
   "metadata": {},
   "outputs": [
    {
     "data": {
      "text/plain": [
       "['A', 'C', 'D', 'E', 'F']"
      ]
     },
     "execution_count": 27,
     "metadata": {},
     "output_type": "execute_result"
    }
   ],
   "source": [
    "lista1.remove(111)\n",
    "lista1"
   ]
  },
  {
   "cell_type": "code",
   "execution_count": 29,
   "id": "3abc3837",
   "metadata": {},
   "outputs": [
    {
     "data": {
      "text/plain": [
       "[1, 2, 3, 5, 26]"
      ]
     },
     "execution_count": 29,
     "metadata": {},
     "output_type": "execute_result"
    }
   ],
   "source": [
    "lista2.remove(\"BlaBla\")\n",
    "lista2"
   ]
  },
  {
   "cell_type": "code",
   "execution_count": 30,
   "id": "38f422e8",
   "metadata": {},
   "outputs": [
    {
     "data": {
      "text/plain": [
       "['A', 'C', 'D', 'E']"
      ]
     },
     "execution_count": 30,
     "metadata": {},
     "output_type": "execute_result"
    }
   ],
   "source": [
    "lista1.pop()\n",
    "lista1"
   ]
  },
  {
   "cell_type": "code",
   "execution_count": 31,
   "id": "e2fcc70c",
   "metadata": {},
   "outputs": [
    {
     "data": {
      "text/plain": [
       "[1, 2, 3, 5]"
      ]
     },
     "execution_count": 31,
     "metadata": {},
     "output_type": "execute_result"
    }
   ],
   "source": [
    "lista2.pop()\n",
    "lista2"
   ]
  },
  {
   "cell_type": "code",
   "execution_count": 32,
   "id": "8cfe8028",
   "metadata": {},
   "outputs": [
    {
     "data": {
      "text/plain": [
       "'E'"
      ]
     },
     "execution_count": 32,
     "metadata": {},
     "output_type": "execute_result"
    }
   ],
   "source": [
    "max(lista1)"
   ]
  },
  {
   "cell_type": "code",
   "execution_count": 33,
   "id": "380b6e2e",
   "metadata": {},
   "outputs": [
    {
     "data": {
      "text/plain": [
       "5"
      ]
     },
     "execution_count": 33,
     "metadata": {},
     "output_type": "execute_result"
    }
   ],
   "source": [
    "max(lista2)"
   ]
  },
  {
   "cell_type": "code",
   "execution_count": 34,
   "id": "e5d8aa8d",
   "metadata": {},
   "outputs": [
    {
     "data": {
      "text/plain": [
       "'A'"
      ]
     },
     "execution_count": 34,
     "metadata": {},
     "output_type": "execute_result"
    }
   ],
   "source": [
    "min(lista1)"
   ]
  },
  {
   "cell_type": "code",
   "execution_count": 35,
   "id": "b0f45862",
   "metadata": {},
   "outputs": [
    {
     "data": {
      "text/plain": [
       "1"
      ]
     },
     "execution_count": 35,
     "metadata": {},
     "output_type": "execute_result"
    }
   ],
   "source": [
    "min(lista2)"
   ]
  },
  {
   "cell_type": "markdown",
   "id": "c1e75ba0",
   "metadata": {},
   "source": [
    "## Juntar e Ordernar"
   ]
  },
  {
   "cell_type": "raw",
   "id": "79b8a7fd",
   "metadata": {},
   "source": [
    "Existem 2 forma de fazê-lo:\n",
    "    Extend: lista1.extend(lista2) -> aqui há a possibilidade de editar a lista2\n",
    "    lista_nova = lista1 + lista2 -> aqui não tem como editar as listas\n",
    "    "
   ]
  },
  {
   "cell_type": "code",
   "execution_count": 1,
   "id": "fa2b3e5d",
   "metadata": {},
   "outputs": [
    {
     "data": {
      "text/plain": [
       "['A', 'B', 'C', 'D', 'E', 'F']"
      ]
     },
     "execution_count": 1,
     "metadata": {},
     "output_type": "execute_result"
    }
   ],
   "source": [
    "lista1 = [\"A\", \"B\", \"C\"]\n",
    "lista2 = [\"D\", \"E\", \"F\"]\n",
    "\n",
    "lista1.extend(lista2)\n",
    "lista1"
   ]
  },
  {
   "cell_type": "code",
   "execution_count": 2,
   "id": "d78a62f7",
   "metadata": {},
   "outputs": [
    {
     "data": {
      "text/plain": [
       "['A', 'B', 'C', 'D', 'E', 'F', 'D', 'E', 'F']"
      ]
     },
     "execution_count": 2,
     "metadata": {},
     "output_type": "execute_result"
    }
   ],
   "source": [
    "lista3 = lista1 + lista2\n",
    "lista3"
   ]
  },
  {
   "cell_type": "code",
   "execution_count": 3,
   "id": "bf5b2023",
   "metadata": {},
   "outputs": [
    {
     "data": {
      "text/plain": [
       "'F'"
      ]
     },
     "execution_count": 3,
     "metadata": {},
     "output_type": "execute_result"
    }
   ],
   "source": [
    "lista3[5]"
   ]
  },
  {
   "cell_type": "code",
   "execution_count": 4,
   "id": "d96c6a33",
   "metadata": {},
   "outputs": [
    {
     "data": {
      "text/plain": [
       "'A'"
      ]
     },
     "execution_count": 4,
     "metadata": {},
     "output_type": "execute_result"
    }
   ],
   "source": [
    "lista1[0]"
   ]
  },
  {
   "cell_type": "code",
   "execution_count": 10,
   "id": "bfba4307",
   "metadata": {},
   "outputs": [
    {
     "data": {
      "text/plain": [
       "[1, 4, 3, 2, 5, 9, 8, 7, 6]"
      ]
     },
     "execution_count": 10,
     "metadata": {},
     "output_type": "execute_result"
    }
   ],
   "source": [
    "numeros = [1,4,3,2,5,9,8,7,6]\n",
    "numeros"
   ]
  },
  {
   "cell_type": "code",
   "execution_count": 11,
   "id": "0504fa75",
   "metadata": {},
   "outputs": [
    {
     "data": {
      "text/plain": [
       "[1, 2, 3, 4, 5, 6, 7, 8, 9]"
      ]
     },
     "execution_count": 11,
     "metadata": {},
     "output_type": "execute_result"
    }
   ],
   "source": [
    "numeros.sort()\n",
    "numeros"
   ]
  },
  {
   "cell_type": "code",
   "execution_count": 12,
   "id": "e72dcaa4",
   "metadata": {},
   "outputs": [
    {
     "data": {
      "text/plain": [
       "[9, 8, 7, 6, 5, 4, 3, 2, 1]"
      ]
     },
     "execution_count": 12,
     "metadata": {},
     "output_type": "execute_result"
    }
   ],
   "source": [
    "numeros.sort(reverse=True)\n",
    "numeros"
   ]
  },
  {
   "cell_type": "code",
   "execution_count": 13,
   "id": "d46f236b",
   "metadata": {},
   "outputs": [
    {
     "name": "stdout",
     "output_type": "stream",
     "text": [
      "['A', 'B', 'C', 'D', 'E', 'F']\n"
     ]
    }
   ],
   "source": [
    "print(lista1)"
   ]
  },
  {
   "cell_type": "code",
   "execution_count": 14,
   "id": "75fde2dd",
   "metadata": {},
   "outputs": [
    {
     "data": {
      "text/plain": [
       "['G', 'H', 'I']"
      ]
     },
     "execution_count": 14,
     "metadata": {},
     "output_type": "execute_result"
    }
   ],
   "source": [
    "lista4 = ['G', 'H', 'I']\n",
    "lista4"
   ]
  },
  {
   "cell_type": "code",
   "execution_count": 15,
   "id": "32f2324b",
   "metadata": {},
   "outputs": [
    {
     "data": {
      "text/plain": [
       "['A', 'B', 'C', 'D', 'E', 'F', 'G', 'H', 'I']"
      ]
     },
     "execution_count": 15,
     "metadata": {},
     "output_type": "execute_result"
    }
   ],
   "source": [
    "lista1.extend(lista4)\n",
    "lista1"
   ]
  },
  {
   "cell_type": "code",
   "execution_count": 19,
   "id": "1d7969af",
   "metadata": {},
   "outputs": [
    {
     "name": "stdout",
     "output_type": "stream",
     "text": [
      "A, B, C, D, E, F, G, H, I\n"
     ]
    }
   ],
   "source": [
    "#Mostrando o conteúdo da lista separado por vírgula através do método Join()\n",
    "print(\", \".join(lista1))"
   ]
  },
  {
   "cell_type": "code",
   "execution_count": 21,
   "id": "73456861",
   "metadata": {},
   "outputs": [
    {
     "name": "stdout",
     "output_type": "stream",
     "text": [
      "A\n",
      "B\n",
      "C\n",
      "D\n",
      "E\n",
      "F\n",
      "G\n",
      "H\n",
      "I\n"
     ]
    }
   ],
   "source": [
    "print(\"\\n\".join(lista1))"
   ]
  },
  {
   "cell_type": "markdown",
   "id": "a6bebd3d",
   "metadata": {},
   "source": [
    "## Copiar Listas e Igualdade\n",
    "\n",
    "lista2 = lista1.copy()\n",
    "\n",
    "lista2 = lista1[:]\n",
    "\n",
    "Os dois métodos possuem o mesmo resultado"
   ]
  },
  {
   "cell_type": "code",
   "execution_count": 22,
   "id": "2ef15114",
   "metadata": {},
   "outputs": [
    {
     "data": {
      "text/plain": [
       "['A', 'B', 'C', 'D', 'E', 'F', 'G', 'H', 'I']"
      ]
     },
     "execution_count": 22,
     "metadata": {},
     "output_type": "execute_result"
    }
   ],
   "source": [
    "lista1"
   ]
  },
  {
   "cell_type": "code",
   "execution_count": 23,
   "id": "ec71952b",
   "metadata": {},
   "outputs": [
    {
     "data": {
      "text/plain": [
       "['A', 'B', 'C', 'D', 'E', 'F', 'G', 'H', 'I']"
      ]
     },
     "execution_count": 23,
     "metadata": {},
     "output_type": "execute_result"
    }
   ],
   "source": [
    "lista_nova = lista1.copy()\n",
    "lista_nova"
   ]
  },
  {
   "cell_type": "code",
   "execution_count": 24,
   "id": "103c4e5f",
   "metadata": {},
   "outputs": [
    {
     "data": {
      "text/plain": [
       "['A', 'B', 'C', 'D', 'E', 'F', 'G', 'H', 'I']"
      ]
     },
     "execution_count": 24,
     "metadata": {},
     "output_type": "execute_result"
    }
   ],
   "source": [
    "lista_nova2 = lista1[:]\n",
    "lista_nova2"
   ]
  },
  {
   "cell_type": "code",
   "execution_count": null,
   "id": "64b260df",
   "metadata": {},
   "outputs": [],
   "source": []
  }
 ],
 "metadata": {
  "kernelspec": {
   "display_name": "Python 3 (ipykernel)",
   "language": "python",
   "name": "python3"
  },
  "language_info": {
   "codemirror_mode": {
    "name": "ipython",
    "version": 3
   },
   "file_extension": ".py",
   "mimetype": "text/x-python",
   "name": "python",
   "nbconvert_exporter": "python",
   "pygments_lexer": "ipython3",
   "version": "3.10.7"
  }
 },
 "nbformat": 4,
 "nbformat_minor": 5
}
