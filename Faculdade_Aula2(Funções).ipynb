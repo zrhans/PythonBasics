{
 "cells": [
  {
   "cell_type": "markdown",
   "id": "63e85748",
   "metadata": {},
   "source": [
    "Função eval() - Procura uma equação na forma de string dentro de uma variável e retorna o valor dessa equação\n",
    "\n"
   ]
  },
  {
   "cell_type": "code",
   "execution_count": 3,
   "id": "a8afc8af",
   "metadata": {},
   "outputs": [
    {
     "name": "stdout",
     "output_type": "stream",
     "text": [
      "10\n",
      "8\n",
      "True\n"
     ]
    }
   ],
   "source": [
    "def busca_sequencial(lista, elemento):\n",
    "    pos = 0 \n",
    "    encontrado = False\n",
    "    \n",
    "    while pos < len(lista) and not encontrado:\n",
    "        if lista[pos] == elemento:\n",
    "            encontrado = True\n",
    "        else:\n",
    "            pos = pos + 1\n",
    "            print(lista[pos])\n",
    "                \n",
    "    return encontrado\n",
    "   \n",
    "testelista = [2, 10, 8, 15, 18, 20, 12, 1]\n",
    "print(busca_sequencial(testelista, 8))\n"
   ]
  },
  {
   "cell_type": "code",
   "execution_count": 27,
   "id": "e791ac6a",
   "metadata": {},
   "outputs": [
    {
     "name": "stdout",
     "output_type": "stream",
     "text": [
      "[3, 11, 9, 16, 19, 21, 13, 2]\n"
     ]
    }
   ],
   "source": [
    "testelista = [2, 10, 8, 15, 18, 20, 12, 1]\n",
    "pos = 0\n",
    "while pos < len(testelista):\n",
    "    testelista[pos] += 1\n",
    "    pos += 1\n",
    "    \n",
    "print(testelista)"
   ]
  },
  {
   "cell_type": "code",
   "execution_count": 37,
   "id": "fd6605a0",
   "metadata": {},
   "outputs": [
    {
     "name": "stdout",
     "output_type": "stream",
     "text": [
      "False\n",
      "True\n"
     ]
    }
   ],
   "source": [
    "#Busca elemento no meio da lista\n",
    "\n",
    "def busca_binaria(lista, elemento):\n",
    "    minimo = 0 \n",
    "    maximo = len(lista)-1\n",
    "    encontrado = False\n",
    "    \n",
    "    while minimo <= maximo and not encontrado:\n",
    "        meio_lista = (minimo + maximo)//2\n",
    "        if lista[meio_lista] == elemento:\n",
    "            encontrado = True\n",
    "        else:\n",
    "            if elemento < lista[meio_lista]:\n",
    "                maximo = meio_lista-1\n",
    "            else:\n",
    "                minimo = meio_lista+1\n",
    "    \n",
    "    return encontrado\n",
    "    \n",
    "testelista = [1, 2, 8, 10, 13, 15, 18, 20]\n",
    "print(busca_binaria(testelista, 5))\n",
    "print(busca_binaria(testelista, 15))"
   ]
  },
  {
   "cell_type": "code",
   "execution_count": 17,
   "id": "d3eeaa56",
   "metadata": {},
   "outputs": [
    {
     "name": "stdout",
     "output_type": "stream",
     "text": [
      "[1, 2, 3, 7, 8, 10]\n"
     ]
    }
   ],
   "source": [
    "#Ordenando valores\n",
    "def bubble_sort(lista):\n",
    "    #Encontra o tamanho da lista\n",
    "    n = len(lista)\n",
    "    #Percorre a lista\n",
    "    for j in range(n - 1): #não entendi pra que esse loop do j\n",
    "        for i in range(n - 1):\n",
    "            if lista[i] > lista[i+1]:\n",
    "                #auxiliar recebe o valor da posição atual\n",
    "                auxiliar = lista[i]\n",
    "                #posicao atual recebe a posição da frente\n",
    "                lista[i] = lista[i+1]\n",
    "                #posicao da frente recebe o valor da posição atual\n",
    "                lista[i+1] = auxiliar\n",
    "                \n",
    "                \n",
    "lista = [10, 8, 7, 3, 2, 1]\n",
    "bubble_sort(lista)\n",
    "print(lista)\n"
   ]
  },
  {
   "cell_type": "code",
   "execution_count": 8,
   "id": "e6c75453",
   "metadata": {},
   "outputs": [
    {
     "name": "stdout",
     "output_type": "stream",
     "text": [
      "Digite o valor da sua nota da prova 1: 3\n",
      "Digite o valor da sua nota da prova 2: 4\n",
      "Digite o valor da sua nota da prova 3: 7\n",
      "A sua média foi:  4.666666666666667\n"
     ]
    }
   ],
   "source": [
    "def ValorNota():\n",
    "    #Quero armazenar o valor de 2 notas\n",
    "    for i in range(1,4):\n",
    "        #Roda o input dentro da lista\n",
    "        lista.append(int(input(f'Digite o valor da sua nota da prova {i}: ')))\n",
    "\n",
    "def Media():\n",
    "    s = 0\n",
    "    #Percorre o tamanho da lista e soma os valores\n",
    "    for i in range(len(lista)):\n",
    "        s += lista[i]\n",
    "        m = s/len(lista)\n",
    "        \n",
    "    return m\n",
    "#Cria uma variável que vai armazenar as notas\n",
    "lista = []\n",
    "#Chama a função para o usuário inserir as notas\n",
    "ValorNota()\n",
    "#Mostra o resultado da função média\n",
    "print(\"A sua média foi: \", Media())"
   ]
  },
  {
   "cell_type": "code",
   "execution_count": 7,
   "id": "f3f5ddcb",
   "metadata": {},
   "outputs": [
    {
     "data": {
      "text/plain": [
       "False"
      ]
     },
     "execution_count": 7,
     "metadata": {},
     "output_type": "execute_result"
    }
   ],
   "source": [
    "def ordenacao_binaria(lista, elemento):\n",
    "    minimo = 0 #define o menor index\n",
    "    maximo = len(lista) - 1 #define o maior index\n",
    "    encontrado = False \n",
    "    \n",
    "    #aqui pecorre do mínimo = 0 até o tamanho final da lista\n",
    "    #and not encontrado = True\n",
    "    while minimo <= maximo and not encontrado:\n",
    "        meio_lista = (maximo+minimo)//2\n",
    "        if lista[meio_lista] == elemento:\n",
    "            encontrado = True\n",
    "        else:\n",
    "            if elemento < lista[meio_lista]:\n",
    "                maximo = meio_lista - 1\n",
    "            else:\n",
    "                minimo = meia_lista + 1\n",
    "                \n",
    "    return encontrado\n",
    "    \n",
    "lista = [1,2,3,4,5,6,7,8,9,10]\n",
    "ordenacao_binaria(lista, 4)"
   ]
  },
  {
   "cell_type": "markdown",
   "id": "33aef96b",
   "metadata": {},
   "source": [
    "***Dicionário***\n"
   ]
  },
  {
   "cell_type": "code",
   "execution_count": 24,
   "id": "9ae0214a",
   "metadata": {},
   "outputs": [
    {
     "name": "stdout",
     "output_type": "stream",
     "text": [
      "Digite quantos alunos quer cadastrar: 2\n",
      "Digite o nome do aluno: José\n",
      "Digite a média do aluno: 10\n",
      "Digite o nome do aluno: Laura\n",
      "Digite a média do aluno: 10\n",
      "nome é igual a Laura\n",
      "\f",
      "\n",
      "media é igual a 10.0\n",
      "\f",
      "\n",
      "situacao é igual a Aprovado\n",
      "\f",
      "\n",
      "dict_items([('nome', 'Laura'), ('media', 10.0), ('situacao', 'Aprovado')])\n",
      "dict_keys(['nome', 'media', 'situacao'])\n",
      "dict_values(['Laura', 10.0, 'Aprovado'])\n"
     ]
    }
   ],
   "source": [
    "aluno = dict()\n",
    "\n",
    "n = int(input(\"Digite quantos alunos quer cadastrar: \"))\n",
    "\n",
    "for i in range(n):\n",
    "    aluno['nome'] = str(input(\"Digite o nome do aluno: \"))\n",
    "    aluno['media'] = float(input(\"Digite a média do aluno: \"))\n",
    "\n",
    "    if aluno['media'] >= 7:\n",
    "        aluno['situacao'] = \"Aprovado\"\n",
    "    else:\n",
    "        aluno['situacao'] = \"Reprovado\"\n",
    "        \n",
    "for chave, valor in aluno.items(i):\n",
    "    print(f\"{chave} é igual a {valor}\")\n",
    "    print(\"\\f\")\n",
    "\n",
    "print(aluno.items())\n",
    "print(aluno.keys())\n",
    "print(aluno.values())\n",
    "    \n",
    "    "
   ]
  },
  {
   "cell_type": "code",
   "execution_count": 25,
   "id": "87e9a1e3",
   "metadata": {},
   "outputs": [
    {
     "name": "stdout",
     "output_type": "stream",
     "text": [
      "Insira uma palavra: Gabriel\n",
      "ELRBGAI\n"
     ]
    }
   ],
   "source": [
    "import random\n",
    "\n",
    "def text_randomic(text):\n",
    "    text=list(text.upper())\n",
    "    random.shuffle(text)\n",
    "    print(''.join(text))\n",
    "\n",
    "text=input(\"Insira uma palavra: \")\n",
    "\n",
    "text_randomic(text)"
   ]
  },
  {
   "cell_type": "code",
   "execution_count": 1,
   "id": "3404af82",
   "metadata": {},
   "outputs": [
    {
     "name": "stdout",
     "output_type": "stream",
     "text": [
      "10 de maio de 2021\n"
     ]
    }
   ],
   "source": [
    "def converter_mes_para_extenso(data):\n",
    "    mes = '''janeiro fevereiro março\n",
    "      abril maio junho julho agosto\n",
    "      setembro outubro novembro\n",
    "      dezembro'''.split()\n",
    "    d, m, a = data.split('/')\n",
    "    mes_extenso = mes[int(m) - 1] # O mês 1, estará na posição 0!\n",
    "    return f'{d} de {mes_extenso} de {a}'\n",
    "\n",
    "print(converter_mes_para_extenso('10/05/2021'))"
   ]
  },
  {
   "cell_type": "code",
   "execution_count": 17,
   "id": "e08cf5e7",
   "metadata": {},
   "outputs": [
    {
     "name": "stdout",
     "output_type": "stream",
     "text": [
      "['janeiro', 'fevereiro', 'março', 'abril', 'maio', 'junho', 'julho', 'agosto', 'setembro', 'outubro', 'novembro', 'dezembro']\n"
     ]
    }
   ],
   "source": [
    "mes = '''janeiro fevereiro março\n",
    "      abril maio junho julho agosto\n",
    "      setembro outubro novembro\n",
    "      dezembro'''\n",
    "a = mes.split()\n",
    "print(a)\n",
    "\n",
    "# Se quiser extrair cada letra \n",
    "# a = []\n",
    "# for i in mes:\n",
    "#     a.append(i.split())\n",
    "#     print(a)"
   ]
  },
  {
   "cell_type": "markdown",
   "id": "d2fd032b",
   "metadata": {},
   "source": [
    "1 - Parâmetro posicional, obrigatório, sem valor default (padrão)."
   ]
  },
  {
   "cell_type": "code",
   "execution_count": 18,
   "id": "52f2476c",
   "metadata": {},
   "outputs": [
    {
     "data": {
      "text/plain": [
       "4"
      ]
     },
     "execution_count": 18,
     "metadata": {},
     "output_type": "execute_result"
    }
   ],
   "source": [
    "def somar(a, b):\n",
    "    return a + b\n",
    "\n",
    "somar(2, 2)"
   ]
  },
  {
   "cell_type": "markdown",
   "id": "e5e92670",
   "metadata": {},
   "source": [
    "2 - Parâmetro posicional, obrigatório, com valor default (padrão)."
   ]
  },
  {
   "cell_type": "code",
   "execution_count": 19,
   "id": "a40c2c7f",
   "metadata": {},
   "outputs": [
    {
     "name": "stdout",
     "output_type": "stream",
     "text": [
      "\n",
      "Primeiro valor a ser pago = 100\n",
      "\n",
      "Segundo valor a ser pago = 75.0\n"
     ]
    }
   ],
   "source": [
    "def calcular_desconto(valor, desconto=0): # O parâmetro desconto possui zero valor default\n",
    "    valor_com_desconto = valor - (valor * desconto)\n",
    "    return valor_com_desconto\n",
    "\n",
    "valor1 = calcular_desconto(100) # Não aplicar nenhum desconto\n",
    "valor2 = calcular_desconto(100, 0.25) # Aplicar desconto de 25%\n",
    "\n",
    "print(f\"\\nPrimeiro valor a ser pago = {valor1}\")\n",
    "print(f\"\\nSegundo valor a ser pago = {valor2}\")"
   ]
  },
  {
   "cell_type": "markdown",
   "id": "42b43b35",
   "metadata": {},
   "source": [
    "3 - Parâmetro nominal, obrigatório, sem valor default (padrão).\n",
    "\n",
    "Perceba que a chamada foi feita de modo nominal, ou seja, atribuindo os valores às variáveis da função e, nesse caso, a atribuição não é feita de modo posicional (linha 9)\n"
   ]
  },
  {
   "cell_type": "code",
   "execution_count": 20,
   "id": "96dfdb3a",
   "metadata": {},
   "outputs": [
    {
     "name": "stdout",
     "output_type": "stream",
     "text": [
      "JOSÉ\n"
     ]
    }
   ],
   "source": [
    "def converter_maiuscula(texto, flag_maiuscula):\n",
    "    if flag_maiuscula: # Já entende que a flag_maiúscula deve ser true\n",
    "        return texto.upper()\n",
    "    else:\n",
    "        return texto.lower()\n",
    "\n",
    "\n",
    "texto = converter_maiuscula(flag_maiuscula=True, texto=\"José\") # Passagem nominal de parâmetros\n",
    "print(texto)"
   ]
  },
  {
   "cell_type": "markdown",
   "id": "c0f47c80",
   "metadata": {},
   "source": [
    "4 - Parâmetro nominal, obrigatório, com valor default (padrão).\n"
   ]
  },
  {
   "cell_type": "code",
   "execution_count": 21,
   "id": "d038978e",
   "metadata": {},
   "outputs": [
    {
     "name": "stdout",
     "output_type": "stream",
     "text": [
      "\n",
      "Texto 1 = linguagem de programação\n",
      "\n",
      "Texto 2 = linguagem de programação\n"
     ]
    }
   ],
   "source": [
    "def converter_minuscula(texto, flag_minuscula=True): # O parâmetro flag_minuscula possui True como valor default\n",
    "    if flag_minuscula:\n",
    "        return texto.lower()\n",
    "    else:\n",
    "        return texto.upper()\n",
    "\n",
    "\n",
    "texto1 = converter_minuscula(flag_minuscula=True, texto=\"LINGUAGEM de Programação\")\n",
    "texto2 = converter_minuscula(texto=\"LINGUAGEM de Programação\")\n",
    "\n",
    "print(f\"\\nTexto 1 = {texto1}\")\n",
    "print(f\"\\nTexto 2 = {texto2}\")"
   ]
  },
  {
   "cell_type": "markdown",
   "id": "979c9aa7",
   "metadata": {},
   "source": [
    "5 - Parâmetro posicional e não obrigatório (args).\n",
    "\n",
    "No grupo 5, temos parâmetros posicionais indefinidos, ou seja, a passagem de valores é feita de modo posicional, porém a quantidade não é conhecida. O parâmetro **não precisa ser chamado de args**, mas é uma boa prática. **Já o asterisco antes do parâmetro é obrigatório**\n",
    "\n",
    "Perceba que não é declarada nenhuma variável dentro dos parâmetros"
   ]
  },
  {
   "cell_type": "code",
   "execution_count": null,
   "id": "4e4c58eb",
   "metadata": {},
   "outputs": [],
   "source": [
    "def imprimir_parametros(*args):\n",
    "    qtde_parametros = len(args)\n",
    "    print(f\"Quantidade de parâmetros = {qtde_parametros}\")\n",
    "    \n",
    "    for i, valor in enumerate(args):\n",
    "        print(f\"Posição = {i}, valor = {valor}\")\n",
    "\n",
    "        \n",
    "print(\"\\nChamada 1\")        \n",
    "imprimir_parametros(\"São Paulo\", 10, 23.78, \"João\")\n",
    "\n",
    "print(\"\\nChamada 2\")        \n",
    "imprimir_parametros(10, \"São Paulo\")"
   ]
  },
  {
   "cell_type": "code",
   "execution_count": 39,
   "id": "b86dfb86",
   "metadata": {},
   "outputs": [
    {
     "name": "stdout",
     "output_type": "stream",
     "text": [
      "José Gabriel está na posição 0\n",
      "25 está na posição 1\n",
      "Neves Bueno está na posição 2\n",
      "96 está na posição 3\n",
      "\n",
      "\n",
      "1 está na posição 0\n",
      "2 está na posição 1\n",
      "3 está na posição 2\n",
      "4 está na posição 3\n",
      "5 está na posição 4\n",
      "6 está na posição 5\n"
     ]
    }
   ],
   "source": [
    "#Duas formas de se conseguir a posição de cada item numa lista\n",
    "texto = ['José Gabriel', 25, 'Neves Bueno', 96]\n",
    "\n",
    "    #Nas variáveis de controle, primeiro vem o número e depois o texto\n",
    "    #Nesse caso, primeiro vem o valor do index(posição do item na lista) e depois o item\n",
    "    \n",
    "for txt, posicao in enumerate(texto):\n",
    "    print(f'{posicao} está na posição {txt}')\n",
    "    \n",
    "numeral = [1, 2, 3, 4, 5, 6]\n",
    "\n",
    "print('\\n')\n",
    "for text in numeral:\n",
    "    print(f'{text} está na posição {numeral.index(text)}')\n"
   ]
  },
  {
   "cell_type": "markdown",
   "id": "28b8debd",
   "metadata": {},
   "source": [
    "6 - Parâmetro nominal e não obrigatório (kwargs).\n",
    "\n",
    "Os parâmetros nominais arbitrários são construídos passando o parâmetro **kwargs**. O parâmetro não precisa ser chamado de kwargs, mas é uma boa prática. Já os dois asteriscos antes do parâmetro é obrigatório"
   ]
  },
  {
   "cell_type": "code",
   "execution_count": 44,
   "id": "1dbdd4d9",
   "metadata": {},
   "outputs": [
    {
     "name": "stdout",
     "output_type": "stream",
     "text": [
      "\n",
      "Chamada 1\n",
      "Tipo de objeto recebido = <class 'dict'>\n",
      "\n",
      "Quantidade de parâmetros = 3\n",
      "variável = cidade, valor = São Paulo\n",
      "variável = idade, valor = 33\n",
      "variável = nome, valor = João\n",
      "\n",
      "Chamada 2\n",
      "Tipo de objeto recebido = <class 'dict'>\n",
      "\n",
      "Quantidade de parâmetros = 2\n",
      "variável = desconto, valor = 10\n",
      "variável = valor, valor = 100\n"
     ]
    }
   ],
   "source": [
    "def imprimir_parametros(**kwargs):\n",
    "    print(f\"Tipo de objeto recebido = {type(kwargs)}\\n\")\n",
    "    qtde_parametros = len(kwargs)\n",
    "    print(f\"Quantidade de parâmetros = {qtde_parametros}\")\n",
    "    \n",
    "    for chave, valor in kwargs.items():# função items não é built-in, ela pertence aos objetos do tipo dicionário, por isso a chamada é feita como \"kwargs.items\n",
    "        print(f\"variável = {chave}, valor = {valor}\")\n",
    "\n",
    "        \n",
    "print(\"\\nChamada 1\")        \n",
    "imprimir_parametros(cidade=\"São Paulo\", idade=33, nome=\"João\")\n",
    "\n",
    "print(\"\\nChamada 2\")        \n",
    "imprimir_parametros(desconto=10, valor=100)"
   ]
  },
  {
   "cell_type": "markdown",
   "id": "4bf27bcd",
   "metadata": {},
   "source": [
    "FUNÇÕES ANÔNIMAS (LAMBDA)\n",
    "\n",
    "Expressões lambda (às vezes chamadas de formas lambda) são usadas para criar funções anônimas https://docs.python.org/3/reference/expressions.html#lambda. Uma função anônima é uma função que não é construída com o \"def\" e, por isso, não possui nome. Esse tipo de construção é útil, quando a função faz somente uma ação e é usada uma única vez"
   ]
  },
  {
   "cell_type": "code",
   "execution_count": 45,
   "id": "6f0c01ca",
   "metadata": {},
   "outputs": [
    {
     "data": {
      "text/plain": [
       "4"
      ]
     },
     "execution_count": 45,
     "metadata": {},
     "output_type": "execute_result"
    }
   ],
   "source": [
    "(lambda x: x + 1)(x=3)"
   ]
  },
  {
   "cell_type": "code",
   "execution_count": 47,
   "id": "308c9080",
   "metadata": {},
   "outputs": [
    {
     "data": {
      "text/plain": [
       "5"
      ]
     },
     "execution_count": 47,
     "metadata": {},
     "output_type": "execute_result"
    }
   ],
   "source": [
    "(lambda x, y: x + y)(x=3, y=2)"
   ]
  },
  {
   "cell_type": "code",
   "execution_count": 48,
   "id": "7323e52d",
   "metadata": {},
   "outputs": [
    {
     "data": {
      "text/plain": [
       "8"
      ]
     },
     "execution_count": 48,
     "metadata": {},
     "output_type": "execute_result"
    }
   ],
   "source": [
    "somar = lambda x, y: x + y\n",
    "somar(x=5, y=3)"
   ]
  },
  {
   "cell_type": "code",
   "execution_count": null,
   "id": "552d369d",
   "metadata": {},
   "outputs": [],
   "source": []
  }
 ],
 "metadata": {
  "kernelspec": {
   "display_name": "Python 3",
   "language": "python",
   "name": "python3"
  },
  "language_info": {
   "codemirror_mode": {
    "name": "ipython",
    "version": 3
   },
   "file_extension": ".py",
   "mimetype": "text/x-python",
   "name": "python",
   "nbconvert_exporter": "python",
   "pygments_lexer": "ipython3",
   "version": "3.8.8"
  }
 },
 "nbformat": 4,
 "nbformat_minor": 5
}
