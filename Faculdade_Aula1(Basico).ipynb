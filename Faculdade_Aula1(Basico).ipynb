{
 "cells": [
  {
   "cell_type": "markdown",
   "id": "8d2ff2bc",
   "metadata": {},
   "source": [
    "## Python\n",
    "\n",
    "O python é uma linguagem de programação orientada a objeto, de alto nível e de fácil compreensão.\n",
    "\n",
    "Principais IDE's: PyCharm e VSCode\n",
    "\n",
    "A construção de um algoritmo envolve **entrada, processamento e saída.**\n",
    "\n",
    "Uma variável é um **espaço alocado na memória RAM.**\n",
    "\n",
    "A identação é **obrigatória**\n",
    "\n",
    "\n"
   ]
  },
  {
   "cell_type": "markdown",
   "id": "7319cb5f",
   "metadata": {},
   "source": [
    "print(), para imprimir um valor na tela.\n",
    "\n",
    "enumerate(), para retornar a posição de um valor em uma sequência.\n",
    "\n",
    "input(), para capturar um valor digitado no teclado.\n",
    "\n",
    "int() e float(), para converter um valor no tipo inteiro ou float.\n",
    "\n",
    "range(), para criar uma sequência numérica.\n",
    "\n",
    "type(), para saber qual o tipo de um objeto (variável)."
   ]
  },
  {
   "cell_type": "markdown",
   "id": "8ee63118",
   "metadata": {},
   "source": [
    "# Estrutura Condicionais\n",
    "\n",
    "If, else, elif\n",
    "\n"
   ]
  },
  {
   "cell_type": "markdown",
   "id": "1d9bca30",
   "metadata": {},
   "source": [
    "# Estrutura de Repetição\n",
    "\n",
    "FOR - Repete x vezes uma ação\n",
    "\n",
    "WHILE - Repete uma ação enquanto determinado fator for verdadeiro\n"
   ]
  },
  {
   "cell_type": "markdown",
   "id": "f9981b40",
   "metadata": {},
   "source": [
    "## BUILT-IN\n",
    "\n",
    "O buil-in Range() retorna uma série de dados entre num determinado intervalo"
   ]
  },
  {
   "cell_type": "code",
   "execution_count": 12,
   "id": "bfc640a1",
   "metadata": {},
   "outputs": [
    {
     "data": {
      "text/plain": [
       "[]"
      ]
     },
     "execution_count": 12,
     "metadata": {},
     "output_type": "execute_result"
    }
   ],
   "source": [
    "list(range(10)) #Gera uma sequência de 0 à 9.\n",
    "#list(range(1)(11) #Gera uma sequência de 1 à 11.\n",
    "list(range(0,30,5)) #Gera uma sequência de 0 à 30 com step = 5.\n",
    "list(range(0,-10,-1)) #Gera uma sequência numérica negativa.\n",
    "list(range(0)) #Gera uma lista vazia."
   ]
  },
  {
   "cell_type": "markdown",
   "id": "51bdf4c6",
   "metadata": {},
   "source": [
    "## Operadores Booleanos\n",
    "\n",
    "**And** - Retorna verdadeiro quando todas as condições são verdadeiras\n",
    "\n",
    "**Or** - Retorna verdadeiro quando uma ou mais condição é verdadeira\n",
    "\n",
    "**Not** - Inverte a condição. Verdadeiro = Falso; Falso = Verdadeiro\n"
   ]
  },
  {
   "cell_type": "markdown",
   "id": "f47092d1",
   "metadata": {},
   "source": [
    "## Funções\n",
    "\n",
    "Uma função é uma forma de organização, usada para delimitar ou determinar quais tarefas podem ser realizadas por uma determinada divisão. Também conhecidas como subprogramas ou sub-rotinas, são pequenos blocos de código aos quais se dá um nome, desenvolvidos para resolver tarefas específicas\n",
    "\n",
    "**BUILT-IN** -> Uma função built-in é um objeto que está integrado ao núcleo do interpretador Python. Ou seja, não precisa ser feita nenhuma instalação adicional, já está pronto para uso. \n",
    "\n",
    "**Anônima** -> Expressões lambda (às vezes chamadas de formas lambda) são usadas para criar funções anônimas. Uma função anônima é uma função que não é construída com o \"def \" e que, por isso, não possui nome. Esse tipo de construção é útil quando a função faz somente uma ação e é usada uma única vez."
   ]
  },
  {
   "cell_type": "code",
   "execution_count": 22,
   "id": "f5272967",
   "metadata": {},
   "outputs": [
    {
     "name": "stdout",
     "output_type": "stream",
     "text": [
      "Vogal 'e' encontrada, na posição 6\n",
      "Vogal 'e' encontrada, na posição 13\n",
      "Vogal 'e' encontrada, na posição 18\n",
      "Vogal 'a' encontrada, na posição 45\n",
      "Vogal 'a' encontrada, na posição 47\n",
      "Vogal 'a' encontrada, na posição 53\n",
      "Vogal 'a' encontrada, na posição 61\n",
      "Vogal 'a' encontrada, na posição 67\n",
      "Vogal 'a' encontrada, na posição 91\n",
      "Vogal 'a' encontrada, na posição 98\n",
      "Vogal 'e' encontrada, na posição 100\n",
      "Vogal 'e' encontrada, na posição 104\n",
      "Vogal 'a' encontrada, na posição 111\n",
      "Vogal 'a' encontrada, na posição 113\n",
      "Vogal 'e' encontrada, na posição 119\n",
      "Vogal 'a' encontrada, na posição 122\n",
      "Vogal 'a' encontrada, na posição 127\n",
      "Vogal 'a' encontrada, na posição 130\n",
      "Vogal 'e' encontrada, na posição 132\n",
      "Vogal 'a' encontrada, na posição 135\n",
      "Vogal 'e' encontrada, na posição 138\n",
      "Vogal 'e' encontrada, na posição 141\n",
      "Vogal 'e' encontrada, na posição 151\n",
      "Vogal 'e' encontrada, na posição 156\n",
      "Vogal 'e' encontrada, na posição 166\n",
      "Vogal 'a' encontrada, na posição 168\n",
      "Vogal 'e' encontrada, na posição 174\n",
      "Vogal 'a' encontrada, na posição 190\n",
      "Vogal 'a' encontrada, na posição 192\n",
      "Vogal 'e' encontrada, na posição 201\n",
      "Vogal 'a' encontrada, na posição 209\n",
      "Vogal 'a' encontrada, na posição 216\n",
      "Vogal 'e' encontrada, na posição 220\n",
      "Vogal 'e' encontrada, na posição 227\n",
      "Vogal 'e' encontrada, na posição 230\n",
      "Vogal 'a' encontrada, na posição 234\n",
      "Vogal 'e' encontrada, na posição 237\n",
      "Vogal 'e' encontrada, na posição 252\n",
      "Vogal 'a' encontrada, na posição 254\n",
      "Vogal 'a' encontrada, na posição 257\n",
      "Vogal 'a' encontrada, na posição 259\n",
      "Vogal 'e' encontrada, na posição 266\n",
      "Vogal 'a' encontrada, na posição 278\n",
      "Vogal 'a' encontrada, na posição 280\n",
      "Vogal 'a' encontrada, na posição 282\n",
      "Vogal 'a' encontrada, na posição 289\n",
      "Vogal 'a' encontrada, na posição 294\n",
      "Vogal 'e' encontrada, na posição 297\n",
      "Vogal 'a' encontrada, na posição 309\n",
      "Vogal 'e' encontrada, na posição 323\n",
      "Vogal 'e' encontrada, na posição 325\n",
      "Vogal 'a' encontrada, na posição 328\n",
      "A vogal 'a' foi encontrada  29  vezes\n",
      "A vogal 'e' foi encontrada  23  vezes\n"
     ]
    }
   ],
   "source": [
    "texto = \"\"\"\n",
    "A inserção de comentários no código do programa é uma prática normal.\n",
    "Em função disso, toda linguagem de programação tem alguma maneira de permitir que comentários sejam inseridos nos programas.\n",
    "O objetivo é adicionar descrições em partes do código, seja para documentá-lo ou para adicionar uma descrição do algoritmo implementado (BANIN, p. 45, 2018).\"\n",
    "\"\"\"\n",
    "vog_a = 0\n",
    "vog_e = 0\n",
    "\n",
    "for i, c in enumerate(texto):\n",
    "    if c == 'a':\n",
    "        print(f\"Vogal '{c}' encontrada, na posição {i}\")\n",
    "        vog_a += 1\n",
    "    elif c == 'e':\n",
    "        print(f\"Vogal '{c}' encontrada, na posição {i}\")\n",
    "        vog_e += 1\n",
    "    else:\n",
    "        continue\n",
    "\n",
    "print(\"A vogal 'a' foi encontrada \", vog_a, \" vezes\")\n",
    "print(\"A vogal 'e' foi encontrada \", vog_e, \" vezes\")"
   ]
  },
  {
   "cell_type": "code",
   "execution_count": null,
   "id": "6af1b90f",
   "metadata": {},
   "outputs": [],
   "source": []
  }
 ],
 "metadata": {
  "kernelspec": {
   "display_name": "Python 3",
   "language": "python",
   "name": "python3"
  },
  "language_info": {
   "codemirror_mode": {
    "name": "ipython",
    "version": 3
   },
   "file_extension": ".py",
   "mimetype": "text/x-python",
   "name": "python",
   "nbconvert_exporter": "python",
   "pygments_lexer": "ipython3",
   "version": "3.8.8"
  }
 },
 "nbformat": 4,
 "nbformat_minor": 5
}
