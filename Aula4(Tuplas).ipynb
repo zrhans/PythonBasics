{
 "cells": [
  {
   "cell_type": "markdown",
   "id": "e125b800",
   "metadata": {},
   "source": [
    "# Tuplas\n",
    "\n",
    "\n",
    "A estrutura de uma tupla é bem parecida com a lista, com algumas diferenças:\n",
    "\n",
    "Utiliza-se parênteses () ao invés de colchetes: **tupla = (valor1, valor2, valor3,..., valorn)**\n",
    "\n",
    "Os dados da tupla não podem ser alterados **(imutáveis)**\n",
    "\n",
    "É mais eficiente\n",
    "\n",
    "É muito utilizado para base de dados (proteção por ser imutável)\n",
    "\n",
    "Muito utilizado para **dados heterogêneos**\n"
   ]
  },
  {
   "cell_type": "code",
   "execution_count": 1,
   "id": "327c2755",
   "metadata": {},
   "outputs": [],
   "source": [
    "funcionario = (\"Gabriel\", \"23/10/1996\", \"Programador SR\", 30000)"
   ]
  },
  {
   "cell_type": "code",
   "execution_count": 4,
   "id": "e40f1669",
   "metadata": {},
   "outputs": [
    {
     "name": "stdout",
     "output_type": "stream",
     "text": [
      "Nome do funcionário: Gabriel\n",
      "Idade: 23/10/1996\n",
      "Função: Programador SR\n",
      "Salário: R$30000\n"
     ]
    }
   ],
   "source": [
    "print(f\"Nome do funcionário: {funcionario[0]}\")\n",
    "print(f\"Idade: {funcionario[1]}\")\n",
    "print(f\"Função: {funcionario[2]}\")\n",
    "print(f\"Salário: R${funcionario[3]}\")"
   ]
  },
  {
   "cell_type": "code",
   "execution_count": 5,
   "id": "af1cd769",
   "metadata": {},
   "outputs": [
    {
     "ename": "TypeError",
     "evalue": "'tuple' object does not support item assignment",
     "output_type": "error",
     "traceback": [
      "\u001b[1;31m---------------------------------------------------------------------------\u001b[0m",
      "\u001b[1;31mTypeError\u001b[0m                                 Traceback (most recent call last)",
      "Input \u001b[1;32mIn [5]\u001b[0m, in \u001b[0;36m<cell line: 1>\u001b[1;34m()\u001b[0m\n\u001b[1;32m----> 1\u001b[0m funcionario[\u001b[38;5;241m0\u001b[39m] \u001b[38;5;241m=\u001b[39m \u001b[38;5;124m\"\u001b[39m\u001b[38;5;124mJosé\u001b[39m\u001b[38;5;124m\"\u001b[39m\n",
      "\u001b[1;31mTypeError\u001b[0m: 'tuple' object does not support item assignment"
     ]
    }
   ],
   "source": [
    "#Mensagem de erro ao tentar alterar um valor na tupla\n",
    "funcionario[0] = \"José\""
   ]
  },
  {
   "cell_type": "markdown",
   "id": "898d948f",
   "metadata": {},
   "source": [
    "### Forma diferente de indexar os itens de uma tupla"
   ]
  },
  {
   "cell_type": "code",
   "execution_count": 6,
   "id": "bdacbd68",
   "metadata": {},
   "outputs": [],
   "source": [
    "nome = funcionario[0]\n",
    "idade = funcionario[1]\n",
    "funcao = funcionario[2]\n",
    "salario = funcionario[3]"
   ]
  },
  {
   "cell_type": "code",
   "execution_count": 8,
   "id": "cd6e6d82",
   "metadata": {},
   "outputs": [],
   "source": [
    "nome, idade, funcao, salario = funcionario"
   ]
  },
  {
   "cell_type": "code",
   "execution_count": 9,
   "id": "ef4126ff",
   "metadata": {},
   "outputs": [
    {
     "data": {
      "text/plain": [
       "'Gabriel'"
      ]
     },
     "execution_count": 9,
     "metadata": {},
     "output_type": "execute_result"
    }
   ],
   "source": [
    "nome"
   ]
  },
  {
   "cell_type": "code",
   "execution_count": 10,
   "id": "c7ec78f0",
   "metadata": {},
   "outputs": [
    {
     "data": {
      "text/plain": [
       "'23/10/1996'"
      ]
     },
     "execution_count": 10,
     "metadata": {},
     "output_type": "execute_result"
    }
   ],
   "source": [
    "idade"
   ]
  },
  {
   "cell_type": "code",
   "execution_count": 11,
   "id": "954e72db",
   "metadata": {},
   "outputs": [
    {
     "data": {
      "text/plain": [
       "'Programador SR'"
      ]
     },
     "execution_count": 11,
     "metadata": {},
     "output_type": "execute_result"
    }
   ],
   "source": [
    "funcao"
   ]
  },
  {
   "cell_type": "code",
   "execution_count": 12,
   "id": "e8faab0c",
   "metadata": {},
   "outputs": [
    {
     "data": {
      "text/plain": [
       "30000"
      ]
     },
     "execution_count": 12,
     "metadata": {},
     "output_type": "execute_result"
    }
   ],
   "source": [
    "salario"
   ]
  },
  {
   "cell_type": "code",
   "execution_count": null,
   "id": "be50a6d9",
   "metadata": {},
   "outputs": [],
   "source": []
  }
 ],
 "metadata": {
  "kernelspec": {
   "display_name": "Python 3 (ipykernel)",
   "language": "python",
   "name": "python3"
  },
  "language_info": {
   "codemirror_mode": {
    "name": "ipython",
    "version": 3
   },
   "file_extension": ".py",
   "mimetype": "text/x-python",
   "name": "python",
   "nbconvert_exporter": "python",
   "pygments_lexer": "ipython3",
   "version": "3.10.7"
  }
 },
 "nbformat": 4,
 "nbformat_minor": 5
}
