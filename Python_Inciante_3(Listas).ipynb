{
 "cells": [
  {
   "cell_type": "markdown",
   "id": "f03f9764",
   "metadata": {},
   "source": [
    "## Listas em Python"
   ]
  },
  {
   "cell_type": "markdown",
   "id": "538d207b",
   "metadata": {},
   "source": [
    "Listas são um dos objetos mais importantes do Python, e sempre será utilizado nos programas.\n",
    "\n",
    "lista = [valor1, valor2, valor3..., valorn]\n",
    "\n",
    "Listas são indexadas, ou seja, pode acessar o valor de seus elementos"
   ]
  },
  {
   "cell_type": "markdown",
   "id": "b9cdfb89",
   "metadata": {},
   "source": [
    "### Lista simples"
   ]
  },
  {
   "cell_type": "code",
   "execution_count": 2,
   "id": "7d3da2d8",
   "metadata": {},
   "outputs": [
    {
     "name": "stdout",
     "output_type": "stream",
     "text": [
      "['monitor', 'mouse', 'teclado', 'cpu', 'processador']\n"
     ]
    }
   ],
   "source": [
    "produtos = [\"monitor\", \"mouse\", \"teclado\", \"cpu\", \"processador\"]\n",
    "print(produtos)"
   ]
  },
  {
   "cell_type": "markdown",
   "id": "2641404d",
   "metadata": {},
   "source": [
    "###  Índice da lista"
   ]
  },
  {
   "cell_type": "code",
   "execution_count": 8,
   "id": "ff079877",
   "metadata": {},
   "outputs": [
    {
     "name": "stdout",
     "output_type": "stream",
     "text": [
      "monitor\n",
      "mouse\n",
      "teclado\n",
      "cpu\n",
      "processador\n"
     ]
    }
   ],
   "source": [
    "print(produtos[0])\n",
    "print(produtos[1])\n",
    "print(produtos[2])\n",
    "print(produtos[3])\n",
    "print(produtos[4])"
   ]
  },
  {
   "cell_type": "code",
   "execution_count": 7,
   "id": "7919d70d",
   "metadata": {},
   "outputs": [
    {
     "name": "stdout",
     "output_type": "stream",
     "text": [
      "monitor\n",
      "mouse\n",
      "teclado\n",
      "cpu\n",
      "processador\n"
     ]
    }
   ],
   "source": [
    "#Utilizando um iterador\n",
    "for i in produtos:\n",
    "    print(i)"
   ]
  },
  {
   "cell_type": "markdown",
   "id": "fbd16d29",
   "metadata": {},
   "source": [
    "### Descobrindo o índice da lista"
   ]
  },
  {
   "cell_type": "code",
   "execution_count": 9,
   "id": "10b65495",
   "metadata": {},
   "outputs": [
    {
     "name": "stdout",
     "output_type": "stream",
     "text": [
      "0\n"
     ]
    }
   ],
   "source": [
    "i = produtos.index(\"monitor\")\n",
    "print(i)"
   ]
  },
  {
   "cell_type": "code",
   "execution_count": null,
   "id": "3d4237d9",
   "metadata": {},
   "outputs": [],
   "source": []
  }
 ],
 "metadata": {
  "kernelspec": {
   "display_name": "Python 3 (ipykernel)",
   "language": "python",
   "name": "python3"
  },
  "language_info": {
   "codemirror_mode": {
    "name": "ipython",
    "version": 3
   },
   "file_extension": ".py",
   "mimetype": "text/x-python",
   "name": "python",
   "nbconvert_exporter": "python",
   "pygments_lexer": "ipython3",
   "version": "3.10.7"
  }
 },
 "nbformat": 4,
 "nbformat_minor": 5
}
