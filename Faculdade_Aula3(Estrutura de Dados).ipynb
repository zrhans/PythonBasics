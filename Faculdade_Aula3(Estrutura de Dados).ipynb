{
 "cells": [
  {
   "cell_type": "markdown",
   "id": "fb6ef625",
   "metadata": {},
   "source": [
    "# Tipos de Estrutura em Python\n",
    "\n",
    "listas, tuplas, conjuntos, dicionário e matriz.\n",
    "\n",
    "São usados para armazenar mais de um valor, também chamados de estruturas de dados.\n",
    "\n",
    "\n",
    "Objetos do tipo sequência: texto, listas e tuplas.\n",
    "\n",
    "Objetos do tipo set (conjunto).\n",
    "\n",
    "Objetos do tipo mapping (dicionário).\n",
    "\n",
    "Objetos do tipo array NumPy\n"
   ]
  },
  {
   "cell_type": "markdown",
   "id": "6d8110b0",
   "metadata": {},
   "source": [
    "# 1 - Objetos do tipo sequência: texto, listas e tuplas.\n",
    "\n",
    "Os objetos do tipo sequência são estruturas de dados capazes de armazenar mais de um valor. Essas estruturas de dados representam sequências finitas indexadas por números não negativos. O primeiro elemento de uma sequência ocupa o índice 0; o segundo, 1; o último elemento, a posição n - 1, em que n é capacidade de armazenamento da sequência."
   ]
  },
  {
   "cell_type": "markdown",
   "id": "18885f5e",
   "metadata": {},
   "source": [
    "**TEXTOS**\n"
   ]
  },
  {
   "cell_type": "code",
   "execution_count": 1,
   "id": "63d69747",
   "metadata": {},
   "outputs": [
    {
     "name": "stdout",
     "output_type": "stream",
     "text": [
      "Tamanho do texto = 60\n",
      "Python in texto = True\n",
      "Quantidade de y no texto = 1\n",
      "As 5 primeiras letras são: Aprend\n"
     ]
    }
   ],
   "source": [
    "texto = \"Aprendendo Python na disciplina de linguagem de programação.\"\n",
    "\n",
    "print(f\"Tamanho do texto = {len(texto)}\") #o len permite saber o tamanho da sequência\n",
    "print(f\"Python in texto = {'Python' in texto}\") #O operador 'in', por sua vez, permite saber se um determinado valor está ou não na sequência\n",
    "print(f\"Quantidade de y no texto = {texto.count('y')}\") #count permite contar a quantidade de ocorrências de um valor\n",
    "print(f\"As 5 primeiras letras são: {texto[0:6]}\") #E a notação com colchetes permite fatiar a sequência, exibindo somente partes dela"
   ]
  },
  {
   "cell_type": "code",
   "execution_count": 26,
   "id": "681c5a0d",
   "metadata": {},
   "outputs": [
    {
     "name": "stdout",
     "output_type": "stream",
     "text": [
      "APRENDENDO PYTHON NA DISCIPLINA DE LINGUAGEM DE PROGRAMAÇÃO.\n",
      "Aprendendo Python na dXXscXXplXXna de lXXnguagem de programação.\n"
     ]
    }
   ],
   "source": [
    "texto = \"Aprendendo Python na disciplina de linguagem de programação.\"\n",
    "\n",
    "print(texto.upper())\n",
    "print(texto.replace(\"i\", 'XX'))"
   ]
  },
  {
   "cell_type": "code",
   "execution_count": 9,
   "id": "87ffa836",
   "metadata": {},
   "outputs": [
    {
     "name": "stdout",
     "output_type": "stream",
     "text": [
      "Texto: Aprendendo Python na disciplina de linguagem de programação.\n",
      "Texto: 60\n",
      "\n",
      "Texto: ['Aprendendo', 'Python', 'na', 'disciplina', 'de', 'linguagem', 'de', 'programação.']\n",
      "Texto: 8\n"
     ]
    }
   ],
   "source": [
    "texto = \"Aprendendo Python na disciplina de linguagem de programação.\"\n",
    "\n",
    "print(f\"Texto: {texto}\")\n",
    "print(f\"Texto: {len(texto)}\\n\")\n",
    "      \n",
    "palavras = texto.split()\n",
    "print(f\"Texto: {palavras}\")\n",
    "print(f\"Texto: {len(palavras)}\")\n"
   ]
  },
  {
   "cell_type": "code",
   "execution_count": 30,
   "id": "ed244be5",
   "metadata": {},
   "outputs": [
    {
     "name": "stdout",
     "output_type": "stream",
     "text": [
      "Tamanho do texto: 348\n",
      "\n",
      "operadores de string\n",
      "python oferece operadores para processar texto (ou seja, valores de string).\n",
      "assim como os números, as strings podem ser comparadas usando operadores de comparação:\n",
      "==, !=, <, > e assim por diante.\n",
      "o operador ==, por exemplo, retorna true se as strings nos dois lados do operador tiverem o mesmo valor (perkovic, p. 23, 2016).\n",
      "\n",
      "Tamanho da lista de palavras: 58\n",
      "Quantidade de strings: 4\n",
      "Quantidade de string: 2\n",
      "Total de palavras 'string' e 'strings': 6\n"
     ]
    }
   ],
   "source": [
    "texto = \"\"\"Operadores de String\n",
    "Python oferece operadores para processar texto (ou seja, valores de string).\n",
    "Assim como os números, as strings podem ser comparadas usando operadores de comparação:\n",
    "==, !=, <, > e assim por diante.\n",
    "O operador ==, por exemplo, retorna True se as strings nos dois lados do operador tiverem o mesmo valor (Perkovic, p. 23, 2016).\n",
    "\"\"\"\n",
    "print(f\"Tamanho do texto: {len(texto)}\\n\")\n",
    "texto = texto.lower()\n",
    "lista_palavras = texto.split()\n",
    "print(texto)\n",
    "valString = texto.count('string')\n",
    "valStrings = texto.count('strings')\n",
    "\n",
    "print(f\"Tamanho da lista de palavras: {len(lista_palavras)}\")\n",
    "print(f\"Quantidade de strings: {texto.count('string')}\")\n",
    "print(f\"Quantidade de string: {texto.count('strings')}\")\n",
    "print(f\"Total de palavras 'string' e 'strings': {valString + valStrings}\")"
   ]
  },
  {
   "cell_type": "markdown",
   "id": "6a4a3147",
   "metadata": {},
   "source": [
    "**LISTAS**\n",
    "\n",
    "Lista é uma estrutura de dados do tipo sequencial que possui como principal característica ser mutável. Ou seja, novos valores podem ser adicionados ou removidos da sequência. Os objetos do tipo sequência são indexados, o que significa que cada elemento ocupa uma posição que começa em 0\n",
    "\n",
    "**enumerate()**, é usada para percorrer um objeto iterável retornando a posição e o valor"
   ]
  },
  {
   "cell_type": "code",
   "execution_count": 34,
   "id": "7c1364fd",
   "metadata": {},
   "outputs": [
    {
     "name": "stdout",
     "output_type": "stream",
     "text": [
      "Posição da vogal a na lista: 0\n",
      "Posição da vogal e na lista: 1\n",
      "Posição da vogal i na lista: 2\n",
      "Posição da vogal o na lista: 3\n",
      "Posição da vogal u na lista: 4\n"
     ]
    }
   ],
   "source": [
    "vogais = ['a', 'e', 'i', 'o', 'u']\n",
    "\n",
    "for vogal in vogais:\n",
    "    print(f'Posição da vogal {vogal} na lista: {vogais.index(vogal)}')\n",
    "    "
   ]
  },
  {
   "cell_type": "code",
   "execution_count": 52,
   "id": "efd9e809",
   "metadata": {},
   "outputs": [
    {
     "name": "stdout",
     "output_type": "stream",
     "text": [
      "Tipo da variável vogais: <class 'list'>\n",
      "Posição da vogal a: 0\n",
      "Posição da vogal e: 1\n",
      "Posição da vogal i: 2\n",
      "Posição da vogal o: 3\n",
      "Posição da vogal u: 4\n",
      "\n",
      "['e', 'i', 'o', 'u']\n",
      "\n",
      "\n",
      "Posição da vogal a: 0\n",
      "Posição da vogal e: 1\n",
      "Posição da vogal i: 2\n",
      "Posição da vogal o: 3\n",
      "Posição da vogal u: 4\n"
     ]
    }
   ],
   "source": [
    "#Mesma coisa de modo diferente\n",
    "vogais = []\n",
    "print(f'Tipo da variável vogais: {type(vogais)}')\n",
    "\n",
    "vogais.append('a')\n",
    "vogais.append('e')\n",
    "vogais.append('i')\n",
    "vogais.append('o')\n",
    "vogais.append('u')\n",
    "\n",
    "for vogal in vogais:\n",
    "    print(f'Posição da vogal {vogal}: {vogais.index(vogal)}')\n",
    "    \n",
    "print(f\"\\n{vogais[1:5]}\")\n",
    "\n",
    "print(\"\\n\")\n",
    "\n",
    "#ou\n",
    "\n",
    "for index_vogal, volga in enumerate(vogais):\n",
    "    print(f\"Posição da vogal {volga}: {index_vogal}\")"
   ]
  },
  {
   "cell_type": "code",
   "execution_count": 13,
   "id": "59d10c1c",
   "metadata": {},
   "outputs": [
    {
     "name": "stdout",
     "output_type": "stream",
     "text": [
      "True\n",
      "False\n",
      "True\n",
      "True\n",
      "2\n",
      "Banana\n",
      "4.5\n",
      "['Maçã', 'Banana', 'Uva', 'Melancia', 'Goiaba', 'Maçã', 8.7, 9.0, 9.1, 4.5, 7.8]\n",
      "['Maçã', 'Banana', 'Uva', 'Melancia', 'Goiaba', 'Maçã', 'Maçã', 'Banana', 'Uva', 'Melancia', 'Goiaba', 'Maçã']\n",
      "[8.7, 9.0, 9.1, 4.5, 7.8, 8.7, 9.0, 9.1, 4.5, 7.8]\n"
     ]
    }
   ],
   "source": [
    "frutas = ['Maçã', 'Banana', 'Uva', 'Melancia', 'Goiaba', 'Maçã']\n",
    "notas = [8.7, 9.0, 9.1, 4.5, 7.8]\n",
    "\n",
    "print('Maçã' in frutas)\n",
    "print('Limão' in frutas)\n",
    "print('Banana' in frutas)\n",
    "print('Pera' not in frutas)\n",
    "print(frutas.count('Maçã'))\n",
    "print(min(frutas)) #O mínimo de uma lista de palavras é feito sobre a ordem alfabética.\n",
    "print(min(notas))\n",
    "print(frutas + notas)\n",
    "print(2 * frutas)\n",
    "print(2 * notas)"
   ]
  },
  {
   "cell_type": "code",
   "execution_count": 31,
   "id": "b8f83eca",
   "metadata": {},
   "outputs": [
    {
     "name": "stdout",
     "output_type": "stream",
     "text": [
      "Tamaho da lista:  6\n",
      "Posição: 0; Item: Python; Tipo do item: <class 'str'>\n",
      "Posição: 1; Item: 30.61; Tipo do item: <class 'float'>\n",
      "Posição: 2; Item: Java; Tipo do item: <class 'str'>\n",
      "Posição: 3; Item: 51; Tipo do item: <class 'int'>\n",
      "Posição: 4; Item: ['a', 'b', 20]; Tipo do item: <class 'list'>\n",
      "Posição: 5; Item: maça; Tipo do item: <class 'str'>\n",
      "\n",
      "\n",
      "Posição: 0; Item: Python; Tipo do item: <class 'str'>\n",
      "Posição: 1; Item: 30.61; Tipo do item: <class 'float'>\n",
      "Posição: 2; Item: Java; Tipo do item: <class 'str'>\n",
      "Posição: 3; Item: 51; Tipo do item: <class 'int'>\n",
      "Posição: 4; Item: ['a', 'b', 20]; Tipo do item: <class 'list'>\n",
      "Posição: 5; Item: maça; Tipo do item: <class 'str'>\n",
      "\n",
      "\n",
      "lista[1] =  30.61\n",
      "lista[0:2] =  ['Python', 30.61]\n",
      "lista[:2] =  ['Python', 30.61]\n",
      "lista[3:5] =  [51, ['a', 'b', 20]]\n",
      "lista[3:6] =  [51, ['a', 'b', 20], 'maça']\n",
      "lista[3:] =  [51, ['a', 'b', 20], 'maça']\n",
      "lista[-2] =  ['a', 'b', 20]\n",
      "lista[-1] =  maça\n",
      "lista[4][1] =  b\n"
     ]
    }
   ],
   "source": [
    "lista = ['Python', 30.61, \"Java\", 51 , ['a', 'b', 20], \"maça\"]\n",
    "\n",
    "print(\"Tamaho da lista: \", len(lista))\n",
    "\n",
    "for i, item in enumerate(lista):\n",
    "    print(f\"Posição: {i}; Item: {item}; Tipo do item: {type(item)}\")\n",
    "    \n",
    "#ou\n",
    "print(\"\\n\")\n",
    "\n",
    "for item in lista:\n",
    "    print(f\"Posição: {lista.index(item)}; Item: {item}; Tipo do item: {type(item)}\")\n",
    "\n",
    "print(\"\\n\")\n",
    "\n",
    "print(\"lista[1] = \", lista[1])\n",
    "print(\"lista[0:2] = \", lista[0:2])\n",
    "print(\"lista[:2] = \", lista[:2])\n",
    "print(\"lista[3:5] = \", lista[3:5])\n",
    "print(\"lista[3:6] = \", lista[3:6])\n",
    "print(\"lista[3:] = \", lista[3:])\n",
    "print(\"lista[-2] = \", lista[-2])\n",
    "print(\"lista[-1] = \", lista[-1])\n",
    "print(\"lista[4][1] = \", lista[4][1])\n"
   ]
  },
  {
   "cell_type": "markdown",
   "id": "838eb568",
   "metadata": {},
   "source": [
    "**LIST COMPREHENSION (COMPREENSÕES DE LISTA/LISTCOMP)**\n",
    "\n",
    "A list comprehension, também chamada de listcomp, é uma forma pythônica de criar uma lista com base em um objeto iterável.  Esse tipo de técnica é utilizada quando, dada uma sequência, deseja-se criar uma nova sequência, porém com as informações originais transformadas ou filtradas por um critério"
   ]
  },
  {
   "cell_type": "code",
   "execution_count": 44,
   "id": "fad02d71",
   "metadata": {},
   "outputs": [
    {
     "name": "stdout",
     "output_type": "stream",
     "text": [
      "Lista antes da iteração:  ['Python', 'Java', 'JavaScript', 'C', 'C#', 'C++', 'Swift', 'Go', 'Kotlin']\n",
      "Lista depois da iteração:  ['python', 'java', 'javascript', 'c', 'c#', 'c++', 'swift', 'go', 'kotlin']\n"
     ]
    }
   ],
   "source": [
    "linguagens = [\"Python\", \"Java\", \"JavaScript\", \"C\", \"C#\", \"C++\", \"Swift\", \"Go\", \"Kotlin\"]\n",
    "\n",
    "print(\"Lista antes da iteração: \", linguagens)\n",
    "\n",
    "linguagens = [item.lower() for item in linguagens]\n",
    "\n",
    "print(\"Lista depois da iteração: \", linguagens)"
   ]
  },
  {
   "cell_type": "code",
   "execution_count": 51,
   "id": "a1636e07",
   "metadata": {},
   "outputs": [
    {
     "name": "stdout",
     "output_type": "stream",
     "text": [
      "['Python', 'Java', 'JavaScript', 'C', 'C#', 'C++', 'Swift', 'Go', 'Kotlin']\n",
      "['Java', 'JavaScript']\n"
     ]
    }
   ],
   "source": [
    "linguagens = '''Python Java JavaScript C C# C++ Swift Go Kotlin'''\n",
    "linguagens = linguagens.split()\n",
    "print(linguagens)\n",
    "\n",
    "linguagens_java = [item for item in linguagens if 'Java' in item] #se houver 'Java' no item\n",
    "print(linguagens_java)"
   ]
  },
  {
   "cell_type": "markdown",
   "id": "a596f94b",
   "metadata": {},
   "source": [
    "FUNÇÕES MAP()\n",
    "\n",
    "A função map() é utilizada para aplicar uma determinada função em cada item de um objeto iterável. A função map() exige que sejam passados dois parâmetros: a função e o objeto iterável"
   ]
  },
  {
   "cell_type": "code",
   "execution_count": 58,
   "id": "5cbafe8c",
   "metadata": {},
   "outputs": [
    {
     "name": "stdout",
     "output_type": "stream",
     "text": [
      "['python', 'java', 'javascript', 'c', 'c#', 'c++', 'swift', 'go', 'kotlin']\n"
     ]
    }
   ],
   "source": [
    "linguagens = '''Python Java JavaScript C C# C++ Swift Go Kotlin'''.split()\n",
    "\n",
    "nova_lista = list(map(lambda x: x.lower(), linguagens))\n",
    "# O list() transforma o objeto em uma lista\n",
    "print(nova_lista)"
   ]
  },
  {
   "cell_type": "code",
   "execution_count": 60,
   "id": "0c30fd90",
   "metadata": {},
   "outputs": [
    {
     "name": "stdout",
     "output_type": "stream",
     "text": [
      "Lista antiga:  [1, 2, 3, 4, 5]\n",
      "Lista nova:  [2, 3, 4, 5, 6]\n"
     ]
    }
   ],
   "source": [
    "numero = [1, 2, 3, 4, 5]\n",
    "\n",
    "print(\"Lista antiga: \", numero)\n",
    "numero = list(map(lambda x: x + 1, numero))\n",
    "print(\"Lista nova: \", numero)"
   ]
  },
  {
   "cell_type": "markdown",
   "id": "b10151a0",
   "metadata": {},
   "source": [
    "FUNÇÃO FILTER()\n",
    "\n",
    "A função filter() tem as mesmas características da função map(), mas, em vez de usarmos uma função para transformar os valores da lista, nós a usamos para filtrar."
   ]
  },
  {
   "cell_type": "code",
   "execution_count": 69,
   "id": "2305653f",
   "metadata": {},
   "outputs": [
    {
     "name": "stdout",
     "output_type": "stream",
     "text": [
      "<class 'list'>\n"
     ]
    },
    {
     "data": {
      "text/plain": [
       "[0, 2, 4, 6, 8, 10, 12, 14, 16, 18, 20]"
      ]
     },
     "execution_count": 69,
     "metadata": {},
     "output_type": "execute_result"
    }
   ],
   "source": [
    "numero = list(range(0, 21)) #assim mostra os valores do range\n",
    "#Objetos iteráveis precisam do list() para mostrar os valores\n",
    "print(type(numero))\n",
    "numero = list(filter(lambda x: x%2 == 0, numero))#filtrando\n",
    "numero"
   ]
  },
  {
   "cell_type": "markdown",
   "id": "612c3196",
   "metadata": {},
   "source": [
    "**TUPLAS**\n",
    "\n",
    "A grande diferença entre listas e tuplas é que as primeiras são mutáveis, razão pela qual, com elas, conseguimos fazer atribuições a posições específicas: por exemplo, lista[2] = 'maça'. Por sua vez, nas tuplas isso não é possível, uma vez que são objetos imutáveis.\n",
    "\n",
    "Como a tupla é imutável, sua utilização ocorre em casos nos quais a ordem dos elementos é importante e não pode ser alterada, já que o objeto tuple garante essa característica."
   ]
  },
  {
   "cell_type": "code",
   "execution_count": 70,
   "id": "7f726ea1",
   "metadata": {},
   "outputs": [
    {
     "name": "stdout",
     "output_type": "stream",
     "text": [
      "('a', 'b', 'c', 'd')\n",
      "<class 'tuple'>\n"
     ]
    }
   ],
   "source": [
    "a = ('a', 'b', 'c', 'd')\n",
    "print(a)\n",
    "print(type(a))"
   ]
  },
  {
   "cell_type": "markdown",
   "id": "86522b45",
   "metadata": {},
   "source": [
    "# 2 - Objetos do tipo set (conjunto).\n",
    "\n",
    "Um objeto do tipo set habilita operações matemáticas de conjuntos, tais como: união, intersecção, diferenteça, etc. Esse tipo de estrutura pode ser usado, portanto, em testes de associação e remoção de valores duplicados de uma sequência"
   ]
  },
  {
   "cell_type": "code",
   "execution_count": 1,
   "id": "da5c230e",
   "metadata": {},
   "outputs": [
    {
     "name": "stdout",
     "output_type": "stream",
     "text": [
      "<class 'set'> {'aeiou'}\n",
      "<class 'set'> {'u', 'i', 'a', 'e', 'o'}\n",
      "<class 'set'> {'u', 'i', 'a', 'e', 'o'}\n",
      "<class 'set'> {'u', 'i', 'a', 'e', 'o'}\n",
      "{'b', 'n', 'a'}\n"
     ]
    }
   ],
   "source": [
    "vogais_1 = {'aeiou'} # sem uso do construtor\n",
    "print(type(vogais_1), vogais_1)\n",
    "\n",
    "vogais_2 = set('aeiouaaaaaa') # construtor com string\n",
    "print(type(vogais_2), vogais_2)\n",
    "\n",
    "vogais_3 = set(['a', 'e', 'i', 'o', 'u']) # construtor com lista\n",
    "print(type(vogais_3), vogais_3)\n",
    "\n",
    "vogais_4 = set(('a', 'e', 'i', 'o', 'u')) # construtor com tupla\n",
    "print(type(vogais_4), vogais_4)\n",
    "\n",
    "print(set('banana'))"
   ]
  },
  {
   "cell_type": "code",
   "execution_count": 4,
   "id": "3296291e",
   "metadata": {},
   "outputs": [
    {
     "name": "stdout",
     "output_type": "stream",
     "text": [
      "Foram verificados 23 componentes.\n",
      "\n",
      "4 componentes apresentaram defeito.\n",
      "\n",
      "Os componentes que podem ser vendidos são:\n",
      "joystick\n",
      "modem\n",
      "placa de vídeo\n",
      "mouse\n",
      "estabilizador\n",
      "hub\n",
      "no-break\n",
      "dissipador de calor\n",
      "gabinete\n",
      "webcam\n",
      "impressora\n",
      "microfone\n",
      "cooler\n",
      "placa mãe\n",
      "caixas de som\n",
      "placa de captura\n",
      "memória ram\n",
      "cpu\n",
      "teclado\n"
     ]
    }
   ],
   "source": [
    "def create_report():\n",
    "    componentes_verificados = set(['caixas de som', 'cooler', 'dissipador de calor', 'cpu', 'hd', 'estabilizador', 'gabinete', 'hub', 'impressora', 'joystick', 'memória ram', 'microfone', 'modem', 'monitor', 'mouse', 'no-break', 'placa de captura', 'placa de som', 'placa de vídeo', 'placa mãe', 'scanner', 'teclado', 'webcam'])\n",
    "    componentes_com_defeito = set(['hd', 'monitor', 'placa de som', 'scanner'])\n",
    "    \n",
    "    qtde_componentes_verificados = len(componentes_verificados)\n",
    "    qtde_componentes_com_defeito = len(componentes_com_defeito)\n",
    "    \n",
    "    componentes_ok = componentes_verificados.difference(componentes_com_defeito)\n",
    "    \n",
    "    print(f\"Foram verificados {qtde_componentes_verificados} componentes.\\n\")\n",
    "    print(f\"{qtde_componentes_com_defeito} componentes apresentaram defeito.\\n\")\n",
    "    \n",
    "    print(\"Os componentes que podem ser vendidos são:\")\n",
    "    for item in componentes_ok:\n",
    "        print(item)\n",
    "\n",
    "\n",
    "create_report()"
   ]
  },
  {
   "cell_type": "code",
   "execution_count": 17,
   "id": "2a8e4422",
   "metadata": {},
   "outputs": [
    {
     "name": "stdout",
     "output_type": "stream",
     "text": [
      "Quem me deve: \n",
      "\n",
      "['Gustavo', 'Laura', 'José']\n",
      "Os que pagaram foram: \n",
      "\n",
      "Maria\n",
      "Vincius\n",
      "Bárbara\n",
      "Gabriel\n",
      "Pedro\n",
      "Ana\n",
      "João\n",
      "Felipe\n",
      "Quantos % ainda faltam para me pagar:  3.6666666666666665\n"
     ]
    }
   ],
   "source": [
    "def verifica_pagadores():\n",
    "    quem_comprou = set(['José', 'Gabriel', 'João', 'Pedro', 'Laura', 'Vincius', 'Bárbara', 'Ana', 'Felipe', 'Gustavo', 'Maria'])\n",
    "    quem_me_deve = set(['José', 'Laura', 'Gustavo'])\n",
    "    lista_devedor = []\n",
    "    \n",
    "    quem_pagou = quem_comprou.difference(quem_me_deve) #aqui faz a interseção\n",
    "    \n",
    "    #porcentagem de quem ainde me deve\n",
    "    tamanho_quem_comprou = len(quem_comprou)\n",
    "    tamanho_quem_me_deve = len(quem_me_deve)\n",
    "    \n",
    "    falta_pagar_porcentagem = tamanho_quem_comprou / tamanho_quem_me_deve\n",
    "    \n",
    "    print(\"Quem me deve: \\n\")\n",
    "    for deve in quem_me_deve:\n",
    "        lista_devedor.append(deve)\n",
    "    \n",
    "    print(lista_devedor)    \n",
    "    \n",
    "    print(\"Os que pagaram foram: \\n\")\n",
    "    for pagaram in quem_pagou:\n",
    "        print(pagaram)\n",
    "    \n",
    "    print(\"Quantos % ainda faltam para me pagar: \", falta_pagar_porcentagem)\n",
    "\n",
    "verifica_pagadores()"
   ]
  },
  {
   "cell_type": "markdown",
   "id": "fc7dadd4",
   "metadata": {},
   "source": [
    "# 3 - OBJETOS DO TIPO MAPPING\n",
    "\n",
    "As estruturas de dados que possuem um mapeamento entre uma chave e um valor são consideradas objetos do tipo mapping. Em Python, o objeto que possui essa propriedade é o dict (dicionário). Uma vez que esse objeto é mutável,  conseguimos atribuir um novo valor a uma chave já existente.\n"
   ]
  },
  {
   "cell_type": "code",
   "execution_count": 18,
   "id": "82e59638",
   "metadata": {},
   "outputs": [
    {
     "name": "stdout",
     "output_type": "stream",
     "text": [
      "True\n"
     ]
    }
   ],
   "source": [
    "# Exemplo 1 - Criação de dicionário vazio, com atribuição posterior de chave e valor \n",
    "dici_1 = {}\n",
    "dici_1['nome'] = \"João\"\n",
    "dici_1['idade'] = 30\n",
    "\n",
    "# Exemplo 2 - Criação de dicionário usando um par elementos na forma, chave : valor\n",
    "dici_2 = {'nome': 'João', 'idade': 30}\n",
    "\n",
    "# Exemplo 3 - Criação de dicionário com uma lista de tuplas. Cada tupla representa um par chave : valor\n",
    "dici_3 = dict([('nome', \"João\"), ('idade', 30)])\n",
    "\n",
    "# Exemplo 4 - Criação de dicionário com a função built-in zip() e duas listas, uma com as chaves, outra com os valores.\n",
    "dici_4 = dict(zip(['nome', 'idade'], [\"João\", 30]))\n",
    "#zip() é usada para combinar valores de diferentes sequências e retorna um iterável de tuplas, \n",
    "#em que o primeiro elemento é referente ao primeiro elemento da sequência 1, e assim por diante\n",
    "\n",
    "print(dici_1 == dici_2 == dici_3 == dici_4) # Testando se as diferentes construções resultamo em objetos iguais."
   ]
  },
  {
   "cell_type": "code",
   "execution_count": 19,
   "id": "1488d834",
   "metadata": {},
   "outputs": [
    {
     "name": "stdout",
     "output_type": "stream",
     "text": [
      "len(cadastro) =  3\n",
      "\n",
      " cadastro.keys() = \n",
      " dict_keys(['nome', 'cidade', 'idade'])\n",
      "\n",
      " cadastro.values() = \n",
      " dict_values([['João', 'Ana', 'Pedro', 'Marcela'], ['São Paulo', 'São Paulo', 'Rio de Janeiro', 'Curitiba'], [25, 33, 37, 18]])\n",
      "\n",
      " cadastro.items() = \n",
      " dict_items([('nome', ['João', 'Ana', 'Pedro', 'Marcela']), ('cidade', ['São Paulo', 'São Paulo', 'Rio de Janeiro', 'Curitiba']), ('idade', [25, 33, 37, 18])])\n",
      "\n",
      " cadastro['nome'] =  ['João', 'Ana', 'Pedro', 'Marcela']\n",
      "\n",
      " cadastro['nome'][2] =  Pedro\n",
      "\n",
      " cadastro['idade'][2:] =  [37, 18]\n"
     ]
    }
   ],
   "source": [
    "cadastro = {\n",
    "            'nome' : ['João', 'Ana', 'Pedro', 'Marcela'],\n",
    "            'cidade' : ['São Paulo', 'São Paulo', 'Rio de Janeiro', 'Curitiba'],\n",
    "            'idade' : [25, 33, 37, 18]\n",
    "            }\n",
    "\n",
    "print(\"len(cadastro) = \", len(cadastro))\n",
    "\n",
    "print(\"\\n cadastro.keys() = \\n\", cadastro.keys()) #Retorna uma lista com todas as chaves no dicionário.\n",
    "print(\"\\n cadastro.values() = \\n\", cadastro.values())#Retorna uma lista com os valores. Como os valores também são listas, temos uma lista de listas.\n",
    "print(\"\\n cadastro.items() = \\n\", cadastro.items())#Retorna uma lista de tuplas, cada uma das quais é composta pela chave e pelo valor.\n",
    "\n",
    "print(\"\\n cadastro['nome'] = \", cadastro['nome'])\n",
    "print(\"\\n cadastro['nome'][2] = \", cadastro['nome'][2])\n",
    "print(\"\\n cadastro['idade'][2:] = \", cadastro['idade'][2:])\n"
   ]
  },
  {
   "cell_type": "code",
   "execution_count": 27,
   "id": "9eb70dd5",
   "metadata": {},
   "outputs": [
    {
     "name": "stdout",
     "output_type": "stream",
     "text": [
      "4\n",
      "4\n",
      "4\n",
      "12\n",
      "12\n"
     ]
    }
   ],
   "source": [
    "#Descobrir qual a quantidade de itens que há na chave\n",
    "print(len(cadastro['nome']))\n",
    "print(len(cadastro['cidade']))\n",
    "print(len(cadastro['idade']))\n",
    "\n",
    "print(len(cadastro['nome']) + len(cadastro['cidade']) + len(cadastro['idade']))\n",
    "\n",
    "#ou\n",
    "#Para cada chave, uso a função len(), criando assim uma lista de valores inteiros\n",
    "qnt_valores = sum([len(cadastro[chave]) for chave in cadastro])\n",
    "print(qnt_valores)\n"
   ]
  },
  {
   "cell_type": "markdown",
   "id": "8c7922b0",
   "metadata": {},
   "source": [
    "# 4 - OBJETOS DO TIPO ARRAY NUMPY\n",
    "\n",
    "A biblioteca NumPy, foi criada especificamente para a computação científica com Python. NumPy é a biblioteca mais poderosa para trabalhar com dados tabulares (matrizes), além de ser um recurso essencial para os desenvolvedores científicos, como os que desenvolvem soluções de inteligência artificial para imagens."
   ]
  },
  {
   "cell_type": "code",
   "execution_count": 28,
   "id": "60f1687a",
   "metadata": {},
   "outputs": [
    {
     "name": "stdout",
     "output_type": "stream",
     "text": [
      "<class 'numpy.ndarray'>\n",
      "\n",
      " matriz_1_1 =  [1 2 3]\n",
      "\n",
      " matriz_2_2 = \n",
      " [[1 2]\n",
      " [3 4]]\n",
      "\n",
      " matriz_3_2 = \n",
      " [[1 2]\n",
      " [3 4]\n",
      " [5 6]]\n",
      "\n",
      " matriz_2_3 = \n",
      " [[1 2 3]\n",
      " [4 5 6]]\n"
     ]
    }
   ],
   "source": [
    "import numpy\n",
    "#Ou import numpy as np\n",
    "\n",
    "matriz_1_1 = numpy.array([1, 2, 3]) # Cria matriz 1 linha e 1 coluna\n",
    "matriz_2_2 = numpy.array([[1, 2], [3, 4]]) # Cria matriz 2 linhas e 2 colunas\n",
    "matriz_3_2 = numpy.array([[1, 2], [3, 4], [5, 6]]) # Cria matriz 3 linhas e 2 colunas\n",
    "matriz_2_3 = numpy.array([[1, 2, 3], [4, 5, 6]]) # Cria matriz 2 linhas e 3 colunas\n",
    "\n",
    "print(type(matriz_1_1))\n",
    "\n",
    "print('\\n matriz_1_1 = ', matriz_1_1)\n",
    "print('\\n matriz_2_2 = \\n', matriz_2_2)\n",
    "print('\\n matriz_3_2 = \\n', matriz_3_2)\n",
    "print('\\n matriz_2_3 = \\n', matriz_2_3)"
   ]
  },
  {
   "cell_type": "code",
   "execution_count": 33,
   "id": "26e200fe",
   "metadata": {},
   "outputs": [
    {
     "name": "stdout",
     "output_type": "stream",
     "text": [
      "\n",
      " numpy.zeros((3, 3)) = \n",
      " [[0. 0. 0.]\n",
      " [0. 0. 0.]\n",
      " [0. 0. 0.]]\n",
      "\n",
      " numpy.ones((2,2)) = \n",
      " [[1. 1.]\n",
      " [1. 1.]]\n",
      "\n",
      " numpy.eye(4) = \n",
      " [[1. 0. 0. 0.]\n",
      " [0. 1. 0. 0.]\n",
      " [0. 0. 1. 0.]\n",
      " [0. 0. 0. 1.]]\n",
      "\n",
      " m4 = \n",
      " [[42 81 80 67 13]\n",
      " [65  2 25 92 79]]\n",
      "Soma dos valores em m4 = 546\n",
      "Valor mínimo em m4 = 2\n",
      "Valor máximo em m4 = 92\n",
      "Média dos valores em m4 = 54.6\n"
     ]
    }
   ],
   "source": [
    "m1 = numpy.zeros((3, 3)) # Cria matriz 3 x 3 somente com zero\n",
    "m2 = numpy.ones((2,2)) # Cria matriz 2 x 2 somente com um\n",
    "m3 = numpy.eye(4) # Cria matriz 4 x 4 identidade\n",
    "m4 = numpy.random.randint(low=0, high=100, size=10).reshape(2, 5) # A função reshape() cria matriz 2 X 5 com números inteiros\n",
    "\n",
    "print('\\n numpy.zeros((3, 3)) = \\n', numpy.zeros((3, 3)))\n",
    "print('\\n numpy.ones((2,2)) = \\n', numpy.ones((2,2)))\n",
    "print('\\n numpy.eye(4) = \\n', numpy.eye(4))\n",
    "print('\\n m4 = \\n', m4)\n",
    "\n",
    "print(f\"Soma dos valores em m4 = {m4.sum()}\")\n",
    "print(f\"Valor mínimo em m4 = {m4.min()}\")\n",
    "print(f\"Valor máximo em m4 = {m4.max()}\")\n",
    "print(f\"Média dos valores em m4 = {m4.mean()}\")"
   ]
  },
  {
   "cell_type": "code",
   "execution_count": 54,
   "id": "a8356899",
   "metadata": {},
   "outputs": [
    {
     "name": "stdout",
     "output_type": "stream",
     "text": [
      "\n",
      " [[0. 0. 0.]\n",
      " [0. 0. 0.]\n",
      " [0. 0. 0.]]\n",
      "\n",
      " [[1. 1. 1.]\n",
      " [1. 1. 1.]\n",
      " [1. 1. 1.]]\n",
      "\n",
      " [[1. 0. 0. 0. 0.]\n",
      " [0. 1. 0. 0. 0.]\n",
      " [0. 0. 1. 0. 0.]\n",
      " [0. 0. 0. 1. 0.]\n",
      " [0. 0. 0. 0. 1.]]\n",
      "\n",
      " [[56 53 77 31 42]\n",
      " [41  6 95 43  0]]\n",
      "\n",
      " 0\n",
      "\n",
      " 95\n",
      "\n",
      " 444\n",
      "\n",
      " 44.4\n"
     ]
    }
   ],
   "source": [
    "m1 = numpy.zeros((3, 3))\n",
    "m2 = numpy.ones((3, 3))\n",
    "m3 = numpy.eye(5)\n",
    "m4 = numpy.random.randint(low = 0, high = 100, size = 10).reshape(2, 5)\n",
    "print(\"\\n\", m1)\n",
    "print(\"\\n\", m2)\n",
    "print(\"\\n\", m3)\n",
    "print(\"\\n\", m4)\n",
    "print(\"\\n\", m4.min())\n",
    "print(\"\\n\", m4.max())\n",
    "print(\"\\n\", m4.sum())\n",
    "print(\"\\n\", m4.mean())"
   ]
  },
  {
   "cell_type": "code",
   "execution_count": null,
   "id": "bb9fe474",
   "metadata": {},
   "outputs": [],
   "source": []
  }
 ],
 "metadata": {
  "kernelspec": {
   "display_name": "Python 3",
   "language": "python",
   "name": "python3"
  },
  "language_info": {
   "codemirror_mode": {
    "name": "ipython",
    "version": 3
   },
   "file_extension": ".py",
   "mimetype": "text/x-python",
   "name": "python",
   "nbconvert_exporter": "python",
   "pygments_lexer": "ipython3",
   "version": "3.8.8"
  }
 },
 "nbformat": 4,
 "nbformat_minor": 5
}
