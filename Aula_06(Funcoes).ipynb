{
 "cells": [
  {
   "cell_type": "markdown",
   "id": "dc600271",
   "metadata": {},
   "source": [
    "# Funções\n",
    "\n",
    "Funções são blocos de códigos que servem para uma função específica\n",
    "\n",
    "Utiliza a palavra reservada \"def\" para declarar uma função\n",
    "\n",
    "A função pode ou não ter argumentos\n",
    "\n",
    "Pode retornar algo utilizando o \"return\"\n",
    "\n"
   ]
  },
  {
   "cell_type": "raw",
   "id": "037d5ab2",
   "metadata": {},
   "source": [
    "def nome_funcao():\n",
    "    <comandos>\n",
    "    return <alguma_coisa>"
   ]
  },
  {
   "cell_type": "code",
   "execution_count": 69,
   "id": "415f0f26",
   "metadata": {},
   "outputs": [
    {
     "data": {
      "text/plain": [
       "2"
      ]
     },
     "execution_count": 69,
     "metadata": {},
     "output_type": "execute_result"
    }
   ],
   "source": [
    "def somar():\n",
    "    return 1 + 1\n",
    "\n",
    "somar()"
   ]
  },
  {
   "cell_type": "code",
   "execution_count": 70,
   "id": "91076727",
   "metadata": {},
   "outputs": [
    {
     "name": "stdout",
     "output_type": "stream",
     "text": [
      "2\n"
     ]
    }
   ],
   "source": [
    "soma = somar()\n",
    "print(soma)"
   ]
  },
  {
   "cell_type": "code",
   "execution_count": 71,
   "id": "66284555",
   "metadata": {},
   "outputs": [
    {
     "name": "stdout",
     "output_type": "stream",
     "text": [
      "Digite quantos produtos deseja cadastrar: 2\n",
      "Digite o nome do produto 0: Arroz\n",
      "Digite o nome do produto 1: Feijão\n"
     ]
    },
    {
     "data": {
      "text/plain": [
       "['Arroz', 'Feijão']"
      ]
     },
     "execution_count": 71,
     "metadata": {},
     "output_type": "execute_result"
    }
   ],
   "source": [
    "def cadastro_produto():\n",
    "    n = int(input(\"Digite quantos produtos deseja cadastrar: \"))\n",
    "    lista_produtos = []\n",
    "    for i in range(n):\n",
    "        produto = input(f\"Digite o nome do produto {i}: \")\n",
    "        lista_produtos.append(produto)\n",
    "        \n",
    "    return lista_produtos\n",
    "\n",
    "\n",
    "cadastro_produto()"
   ]
  },
  {
   "cell_type": "markdown",
   "id": "20c50ef6",
   "metadata": {},
   "source": [
    "## Argumentos/Parâmetros\n",
    "\n",
    "As funções aceitam argumentos para realizarem algum tipo de ação"
   ]
  },
  {
   "cell_type": "raw",
   "id": "2cda5216",
   "metadata": {},
   "source": [
    "def minha_funao(parametro1, parametro2, ..., parametroN)\n",
    "    <comandos>"
   ]
  },
  {
   "cell_type": "code",
   "execution_count": 72,
   "id": "ef2c98bc",
   "metadata": {},
   "outputs": [
    {
     "data": {
      "text/plain": [
       "3"
      ]
     },
     "execution_count": 72,
     "metadata": {},
     "output_type": "execute_result"
    }
   ],
   "source": [
    "def soma(n1, n2):\n",
    "    return n1 + n2\n",
    "\n",
    "soma(1, 2)"
   ]
  },
  {
   "cell_type": "code",
   "execution_count": 73,
   "id": "93541ef7",
   "metadata": {},
   "outputs": [
    {
     "name": "stdout",
     "output_type": "stream",
     "text": [
      "Meu nome é: José Gabriel\n"
     ]
    }
   ],
   "source": [
    "def meu_nome(nome, sobrenome):\n",
    "    print(f\"Meu nome é: {nome} {sobrenome}\")\n",
    "    \n",
    "meu_nome(\"José\", \"Gabriel\")"
   ]
  },
  {
   "cell_type": "markdown",
   "id": "95500e9f",
   "metadata": {},
   "source": [
    "## Retornando mais de uma informação\n"
   ]
  },
  {
   "cell_type": "code",
   "execution_count": 74,
   "id": "2b696968",
   "metadata": {},
   "outputs": [
    {
     "data": {
      "text/plain": [
       "(2, 0, 5.0, 4)"
      ]
     },
     "execution_count": 74,
     "metadata": {},
     "output_type": "execute_result"
    }
   ],
   "source": [
    "#Forma 1\n",
    "def operacao():\n",
    "    soma = 1 + 1\n",
    "    subtracao = 1 - 1\n",
    "    divisao = 10 / 2\n",
    "    multiplicacao = 2 * 2\n",
    "    return soma, subtracao, divisao, multiplicacao\n",
    "\n",
    "operacao()"
   ]
  },
  {
   "cell_type": "code",
   "execution_count": 75,
   "id": "f3cc5159",
   "metadata": {},
   "outputs": [
    {
     "data": {
      "text/plain": [
       "(2, 0, 5.0, 4)"
      ]
     },
     "execution_count": 75,
     "metadata": {},
     "output_type": "execute_result"
    }
   ],
   "source": [
    "#Forma 2\n",
    "def operacao():\n",
    "    soma = 1 + 1\n",
    "    subtracao = 1 - 1\n",
    "    divisao = 10 / 2\n",
    "    multiplicacao = 2 * 2\n",
    "    return (soma, subtracao, divisao, multiplicacao)\n",
    "\n",
    "operacao()"
   ]
  },
  {
   "cell_type": "code",
   "execution_count": 76,
   "id": "b89d9e8e",
   "metadata": {},
   "outputs": [],
   "source": [
    "#Forma 3 - Jogando os valores dentro de variáveis\n",
    "somar, subtrair, dividir, multiplicar = operacao()"
   ]
  },
  {
   "cell_type": "code",
   "execution_count": 77,
   "id": "cbfd13c2",
   "metadata": {},
   "outputs": [
    {
     "name": "stdout",
     "output_type": "stream",
     "text": [
      "2\n",
      "0\n",
      "5.0\n",
      "4\n"
     ]
    }
   ],
   "source": [
    "print(somar)\n",
    "print(subtrair)\n",
    "print(dividir)\n",
    "print(multiplicar)"
   ]
  },
  {
   "cell_type": "markdown",
   "id": "1b5fcdb4",
   "metadata": {},
   "source": [
    "## Quantidade indefinida de argumentos\n",
    "\n",
    "Funções podem receber infinitos argumentos.\n",
    "\n",
    "Utilize o * para determinar que a função pode receber n parâmetros\n",
    "\n",
    "utilize o ** para determinar que a função pode receber n parâmetros com retorno em dicionário"
   ]
  },
  {
   "cell_type": "raw",
   "id": "af10a645",
   "metadata": {},
   "source": [
    "*args para positional arguments -> argumentos vêm em formato de tupla\n",
    "\n",
    "def minha_funcao(*args):\n",
    "    ...\n",
    "\n",
    "\n",
    "**kwargs para keyword arguments -> argumentos vêm em formato de dicionário\n",
    "\n",
    "def minha_funcao(**kwargs):\n",
    "    ..."
   ]
  },
  {
   "cell_type": "code",
   "execution_count": 78,
   "id": "99c5e977",
   "metadata": {},
   "outputs": [
    {
     "name": "stdout",
     "output_type": "stream",
     "text": [
      "(1, 2, 3, 4, 5)\n"
     ]
    },
    {
     "data": {
      "text/plain": [
       "15"
      ]
     },
     "execution_count": 78,
     "metadata": {},
     "output_type": "execute_result"
    }
   ],
   "source": [
    "def soma(*numeros):\n",
    "    print(numeros)\n",
    "    soma = 0\n",
    "    for i in numeros:\n",
    "        soma += i\n",
    "    return soma\n",
    "\n",
    "soma(1,2,3,4,5)"
   ]
  },
  {
   "cell_type": "code",
   "execution_count": 79,
   "id": "26c388d1",
   "metadata": {},
   "outputs": [
    {
     "name": "stdout",
     "output_type": "stream",
     "text": [
      "(1, 2, 3, 'eu', 'nós')\n",
      "1\n",
      "2\n",
      "3\n",
      "eu\n",
      "nós\n"
     ]
    }
   ],
   "source": [
    "def qnt_numero(*argumento):\n",
    "    print(argumento)\n",
    "    for i in argumento:\n",
    "        print(i)\n",
    "    \n",
    "\n",
    "qnt_numero(1, 2, 3, \"eu\", \"nós\")"
   ]
  },
  {
   "cell_type": "code",
   "execution_count": 80,
   "id": "e1656a2a",
   "metadata": {},
   "outputs": [
    {
     "name": "stdout",
     "output_type": "stream",
     "text": [
      "Açaí de 300: 13 reais\n",
      "Açaí de 500: 15 reais\n",
      "Açaí de 700: 17 reais\n",
      "O preço é:  15\n",
      "Você escolheu 3 adicionais\n",
      "Com 3 adicionais, o preço do açaí é:  18\n",
      "Granola\n",
      "Banana\n",
      "Leite Condensado\n"
     ]
    }
   ],
   "source": [
    "print(\"Açaí de 300: 13 reais\")\n",
    "print(\"Açaí de 500: 15 reais\")\n",
    "print(\"Açaí de 700: 17 reais\")\n",
    "\n",
    "def acai(preco: int, **adicionais):\n",
    "    print(\"O preço é: \", preco)\n",
    "    \n",
    "    print(\"Você escolheu\", len(adicionais['fruta']), 'adicionais')\n",
    "    if len(adicionais['fruta']) >= 3:\n",
    "        print(\"Com 3 adicionais, o preço do açaí é: \", preco + 3)\n",
    "    else:\n",
    "        print(\"Com mais de 3 adicionais, o preço do açaí é: \", preco + 5)\n",
    "        \n",
    "    for i in adicionais['fruta']:\n",
    "        print(i)\n",
    "    \n",
    "acai(15, fruta={'Banana', 'Granola', 'Leite Condensado'})"
   ]
  },
  {
   "cell_type": "markdown",
   "id": "7dfcfebb",
   "metadata": {},
   "source": [
    "## Ordem dos argumentos\n",
    "\n",
    "### Estrutura:\n",
    "\n",
    "- Sempre os positional arguments vêm antes dos keywords arguments.\n",
    "- Sempre os argumentos individuais vêm antes e depois os \"múltiplos\""
   ]
  },
  {
   "cell_type": "raw",
   "id": "bafa4378",
   "metadata": {},
   "source": [
    "def minha_funcao(arg1, arg2, arg3, arg4, *args, k = kwarg1, k2 = kwarg2, k3 = kwarg3, **kwargs):\n",
    "    ..."
   ]
  },
  {
   "cell_type": "code",
   "execution_count": 81,
   "id": "a3a0a581",
   "metadata": {},
   "outputs": [
    {
     "data": {
      "text/plain": [
       "'A soma é: 10'"
      ]
     },
     "execution_count": 81,
     "metadata": {},
     "output_type": "execute_result"
    }
   ],
   "source": [
    "def somar(num1, *numeros):\n",
    "    soma = 0\n",
    "    for numero in numeros:\n",
    "        soma += numero\n",
    "    soma += num1\n",
    "    return f\"A soma é: {soma}\" \n",
    "\n",
    "somar(1, 2,3,4)"
   ]
  },
  {
   "cell_type": "code",
   "execution_count": 82,
   "id": "a7662045",
   "metadata": {},
   "outputs": [
    {
     "data": {
      "text/plain": [
       "'A soma é: 10'"
      ]
     },
     "execution_count": 82,
     "metadata": {},
     "output_type": "execute_result"
    }
   ],
   "source": [
    "#Invertendo a ordem dos argumentos\n",
    "\n",
    "def somar(*numeros, num1):\n",
    "    soma = 0\n",
    "    for numero in numeros:\n",
    "        soma += numero\n",
    "    soma += num1\n",
    "    return f\"A soma é: {soma}\" \n",
    "\n",
    "somar(1,2,3, num1 = 4)"
   ]
  },
  {
   "cell_type": "markdown",
   "id": "5ab9782e",
   "metadata": {},
   "source": [
    "## Docstring e Annotations\n",
    "\n",
    "Estrutura - São ferramentas \"apenas\" para organização:\n",
    "Quando criamos uma função, normalmente não seremos as únicas pessoas a usarem essa função e também pode ser que a gente precise usar essa mesma função semanas, meses ou até anos depois da sua criação.\n",
    "\n",
    "Por isso é importante usarmos DocStrings e Annotations\n",
    "\n",
    "**Docstring** -> diz o que a função faz, quais valores ela tem como argumento e o que significa cada valor. É o texto explicativo entre as aspas\n",
    "\n",
    "**Annotation** -> diz o que devem ser os (tipos) argumentos e o que a função retorna\n",
    "\n",
    "Em muitas empresas, o time de tecnologia vai ter um padrão que você deve seguir para isso, mas caso não tenha, vamos te mostrar um padrão bom a ser utilizado."
   ]
  },
  {
   "cell_type": "markdown",
   "id": "2604d5cf",
   "metadata": {},
   "source": [
    "### Docstring"
   ]
  },
  {
   "cell_type": "code",
   "execution_count": 83,
   "id": "1a5e2043",
   "metadata": {},
   "outputs": [],
   "source": [
    "def minha_soma(num1, num2, num3):\n",
    "    '''Faz a soma de 3 números inteiros e devolve como resposta um inteiro\n",
    "    \n",
    "    Parameters:\n",
    "        num1 (int): primeiro número a ser somado\n",
    "        num2 (int): segundo número a ser somado\n",
    "        num3 (int): terceiro número a ser somado\n",
    "    \n",
    "    Returns:\n",
    "        soma (int): o valor da soma dos 3 números dados como argumento\n",
    "    '''\n",
    "    return num1 + num2 + num3"
   ]
  },
  {
   "cell_type": "markdown",
   "id": "2b0a78d3",
   "metadata": {},
   "source": [
    "### Anotation"
   ]
  },
  {
   "cell_type": "code",
   "execution_count": 84,
   "id": "81eba34c",
   "metadata": {},
   "outputs": [],
   "source": [
    "def minha_soma(num1: int, num2: int, num3: int) -> int:\n",
    "    return num1 + num2 + num3"
   ]
  },
  {
   "cell_type": "markdown",
   "id": "00b80469",
   "metadata": {},
   "source": [
    "## Exceções e Erros\n",
    "\n",
    "try: (tenta)\n",
    "    \n",
    "    <comando>\n",
    "\n",
    "except: (caso dê erro)\n",
    "    \n",
    "    <retorna_erro>"
   ]
  },
  {
   "cell_type": "code",
   "execution_count": 85,
   "id": "cd58b3a4",
   "metadata": {},
   "outputs": [
    {
     "name": "stdout",
     "output_type": "stream",
     "text": [
      "Digite um número: a\n",
      "Isso não é um número\n"
     ]
    }
   ],
   "source": [
    "def inteiro():\n",
    "    try:\n",
    "        numero = int(input(\"Digite um número: \"))\n",
    "        print(numero)\n",
    "    except:\n",
    "        print(\"Isso não é um número\")\n",
    "        \n",
    "inteiro()"
   ]
  },
  {
   "cell_type": "markdown",
   "id": "68931a6f",
   "metadata": {},
   "source": [
    "### Informando o tipo de erro com o raise"
   ]
  },
  {
   "cell_type": "code",
   "execution_count": 86,
   "id": "678c18de",
   "metadata": {},
   "outputs": [
    {
     "name": "stdout",
     "output_type": "stream",
     "text": [
      "Digite um número: d\n"
     ]
    },
    {
     "ename": "Exception",
     "evalue": "Isso não é um número",
     "output_type": "error",
     "traceback": [
      "\u001b[1;31m---------------------------------------------------------------------------\u001b[0m",
      "\u001b[1;31mValueError\u001b[0m                                Traceback (most recent call last)",
      "Input \u001b[1;32mIn [86]\u001b[0m, in \u001b[0;36minteiro\u001b[1;34m()\u001b[0m\n\u001b[0;32m      2\u001b[0m \u001b[38;5;28;01mtry\u001b[39;00m:\n\u001b[1;32m----> 3\u001b[0m     numero \u001b[38;5;241m=\u001b[39m \u001b[38;5;28;43mint\u001b[39;49m\u001b[43m(\u001b[49m\u001b[38;5;28;43minput\u001b[39;49m\u001b[43m(\u001b[49m\u001b[38;5;124;43m\"\u001b[39;49m\u001b[38;5;124;43mDigite um número: \u001b[39;49m\u001b[38;5;124;43m\"\u001b[39;49m\u001b[43m)\u001b[49m\u001b[43m)\u001b[49m\n\u001b[0;32m      4\u001b[0m     \u001b[38;5;28mprint\u001b[39m(numero)\n",
      "\u001b[1;31mValueError\u001b[0m: invalid literal for int() with base 10: 'd'",
      "\nDuring handling of the above exception, another exception occurred:\n",
      "\u001b[1;31mException\u001b[0m                                 Traceback (most recent call last)",
      "Input \u001b[1;32mIn [86]\u001b[0m, in \u001b[0;36m<cell line: 8>\u001b[1;34m()\u001b[0m\n\u001b[0;32m      5\u001b[0m     \u001b[38;5;28;01mexcept\u001b[39;00m:\n\u001b[0;32m      6\u001b[0m         \u001b[38;5;28;01mraise\u001b[39;00m \u001b[38;5;167;01mException\u001b[39;00m(\u001b[38;5;124m\"\u001b[39m\u001b[38;5;124mIsso não é um número\u001b[39m\u001b[38;5;124m\"\u001b[39m)\n\u001b[1;32m----> 8\u001b[0m \u001b[43minteiro\u001b[49m\u001b[43m(\u001b[49m\u001b[43m)\u001b[49m\n",
      "Input \u001b[1;32mIn [86]\u001b[0m, in \u001b[0;36minteiro\u001b[1;34m()\u001b[0m\n\u001b[0;32m      4\u001b[0m     \u001b[38;5;28mprint\u001b[39m(numero)\n\u001b[0;32m      5\u001b[0m \u001b[38;5;28;01mexcept\u001b[39;00m:\n\u001b[1;32m----> 6\u001b[0m     \u001b[38;5;28;01mraise\u001b[39;00m \u001b[38;5;167;01mException\u001b[39;00m(\u001b[38;5;124m\"\u001b[39m\u001b[38;5;124mIsso não é um número\u001b[39m\u001b[38;5;124m\"\u001b[39m)\n",
      "\u001b[1;31mException\u001b[0m: Isso não é um número"
     ]
    }
   ],
   "source": [
    "def inteiro():\n",
    "    try:\n",
    "        numero = int(input(\"Digite um número: \"))\n",
    "        print(numero)\n",
    "    except:\n",
    "        raise Exception(\"Isso não é um número\")\n",
    "        \n",
    "inteiro()"
   ]
  },
  {
   "cell_type": "code",
   "execution_count": null,
   "id": "7f9d17cb",
   "metadata": {},
   "outputs": [],
   "source": [
    "#Utilizando funções built-ins para retornar erros\n",
    "def inteiro():\n",
    "    try:\n",
    "        numero = int(input(\"Digite um número: \"))\n",
    "        print(numero)\n",
    "    except:\n",
    "        raise TypeError(\"Isso não é um número\")\n",
    "        \n",
    "inteiro()"
   ]
  },
  {
   "cell_type": "markdown",
   "id": "cdcfced9",
   "metadata": {},
   "source": [
    "### Tratamento completo\n"
   ]
  },
  {
   "cell_type": "code",
   "execution_count": null,
   "id": "e00ea17e",
   "metadata": {},
   "outputs": [],
   "source": [
    "def inteiro():\n",
    "    try:\n",
    "        numero = int(input(\"Digite um número: \"))\n",
    "    except:\n",
    "        raise TypeError(\"Isso não é um número\")\n",
    "    else:\n",
    "         print(numero)\n",
    "    finally:\n",
    "        print(\"Nada deu certo, printa isso\")\n",
    "        \n",
    "inteiro()"
   ]
  },
  {
   "cell_type": "markdown",
   "id": "40ade345",
   "metadata": {},
   "source": [
    "## Outros/Extra"
   ]
  },
  {
   "cell_type": "code",
   "execution_count": 87,
   "id": "eca3fcbe",
   "metadata": {},
   "outputs": [
    {
     "name": "stdout",
     "output_type": "stream",
     "text": [
      "10\n",
      "8\n",
      "True\n",
      "[3, 11, 9, 16, 19, 21, 13, 2]\n"
     ]
    }
   ],
   "source": [
    "#Função eval() - Procura uma equação na forma de string dentro de uma variável e retorna o valor dessa equação\n",
    "\n",
    "def busca_sequencial(lista, elemento):\n",
    "    pos = 0 \n",
    "    encontrado = False\n",
    "    \n",
    "    while pos < len(lista) and not encontrado:\n",
    "        if lista[pos] == elemento:\n",
    "            encontrado = True\n",
    "        else:\n",
    "            pos = pos + 1\n",
    "            print(lista[pos])\n",
    "                \n",
    "    return encontrado\n",
    "   \n",
    "testelista = [2, 10, 8, 15, 18, 20, 12, 1]\n",
    "print(busca_sequencial(testelista, 8))\n",
    "\n",
    "\n",
    "testelista = [2, 10, 8, 15, 18, 20, 12, 1]\n",
    "pos = 0\n",
    "while pos < len(testelista):\n",
    "    testelista[pos] += 1\n",
    "    pos += 1\n",
    "    \n",
    "print(testelista)"
   ]
  },
  {
   "cell_type": "code",
   "execution_count": 88,
   "id": "cf21ee6c",
   "metadata": {},
   "outputs": [
    {
     "name": "stdout",
     "output_type": "stream",
     "text": [
      "False\n",
      "True\n"
     ]
    }
   ],
   "source": [
    "#Busca elemento no meio da lista\n",
    "\n",
    "def busca_binaria(lista, elemento):\n",
    "    minimo = 0 \n",
    "    maximo = len(lista)-1\n",
    "    encontrado = False\n",
    "    \n",
    "    while minimo <= maximo and not encontrado:\n",
    "        meio_lista = (minimo + maximo)//2\n",
    "        if lista[meio_lista] == elemento:\n",
    "            encontrado = True\n",
    "        else:\n",
    "            if elemento < lista[meio_lista]:\n",
    "                maximo = meio_lista-1\n",
    "            else:\n",
    "                minimo = meio_lista+1\n",
    "    \n",
    "    return encontrado\n",
    "    \n",
    "testelista = [1, 2, 8, 10, 13, 15, 18, 20]\n",
    "print(busca_binaria(testelista, 5))\n",
    "print(busca_binaria(testelista, 15))"
   ]
  },
  {
   "cell_type": "code",
   "execution_count": 89,
   "id": "382b2c07",
   "metadata": {},
   "outputs": [
    {
     "name": "stdout",
     "output_type": "stream",
     "text": [
      "[1, 2, 3, 7, 8, 10]\n"
     ]
    }
   ],
   "source": [
    "#Ordenando valores\n",
    "def bubble_sort(lista):\n",
    "    #Encontra o tamanho da lista\n",
    "    n = len(lista)\n",
    "    #Percorre a lista\n",
    "    for j in range(n - 1): #não entendi pra que esse loop do j\n",
    "        for i in range(n - 1):\n",
    "            if lista[i] > lista[i+1]:\n",
    "                #auxiliar recebe o valor da posição atual\n",
    "                auxiliar = lista[i]\n",
    "                #posicao atual recebe a posição da frente\n",
    "                lista[i] = lista[i+1]\n",
    "                #posicao da frente recebe o valor da posição atual\n",
    "                lista[i+1] = auxiliar\n",
    "                \n",
    "                \n",
    "lista = [10, 8, 7, 3, 2, 1]\n",
    "bubble_sort(lista)\n",
    "print(lista)"
   ]
  },
  {
   "cell_type": "code",
   "execution_count": 90,
   "id": "da2b8497",
   "metadata": {},
   "outputs": [],
   "source": [
    "def ValorNota():\n",
    "    #Quero armazenar o valor de 2 notas\n",
    "    for i in range(1,4):\n",
    "        #Roda o input dentro da lista\n",
    "        lista.append(int(input(f'Digite o valor da sua nota da prova {i}: ')))"
   ]
  },
  {
   "cell_type": "code",
   "execution_count": 91,
   "id": "72dfe53d",
   "metadata": {},
   "outputs": [
    {
     "name": "stdout",
     "output_type": "stream",
     "text": [
      "Digite o valor da sua nota da prova 1: 10\n",
      "Digite o valor da sua nota da prova 2: 20\n",
      "Digite o valor da sua nota da prova 3: 30\n",
      "A sua média foi:  20.0\n"
     ]
    }
   ],
   "source": [
    "def Media():\n",
    "    s = 0\n",
    "    #Percorre o tamanho da lista e soma os valores\n",
    "    for i in range(len(lista)):\n",
    "        s += lista[i]\n",
    "        m = s/len(lista)\n",
    "        \n",
    "    return m\n",
    "\n",
    "#Cria uma variável que vai armazenar as notas\n",
    "lista = []\n",
    "#Chama a função para o usuário inserir as notas\n",
    "ValorNota()\n",
    "#Mostra o resultado da função média\n",
    "print(\"A sua média foi: \", Media())"
   ]
  },
  {
   "cell_type": "code",
   "execution_count": 93,
   "id": "f27feb1e",
   "metadata": {},
   "outputs": [
    {
     "data": {
      "text/plain": [
       "True"
      ]
     },
     "execution_count": 93,
     "metadata": {},
     "output_type": "execute_result"
    }
   ],
   "source": [
    "def ordenacao_binaria(lista, elemento):\n",
    "    minimo = 0 #define o menor index\n",
    "    maximo = len(lista) - 1 #define o maior index\n",
    "    encontrado = False \n",
    "    \n",
    "    #aqui pecorre do mínimo = 0 até o tamanho final da lista\n",
    "    #and not encontrado = True\n",
    "    while minimo <= maximo and not encontrado:\n",
    "        meio_lista = (maximo+minimo)//2\n",
    "        if lista[meio_lista] == elemento:\n",
    "            encontrado = True\n",
    "        else:\n",
    "            if elemento < lista[meio_lista]:\n",
    "                maximo = meio_lista - 1\n",
    "            else:\n",
    "                minimo = meio_lista + 1\n",
    "                \n",
    "    return encontrado\n",
    "    \n",
    "lista = [1,2,3,4,5,6,7,8,9,10]\n",
    "ordenacao_binaria(lista, 4)"
   ]
  },
  {
   "cell_type": "code",
   "execution_count": null,
   "id": "30a3378f",
   "metadata": {},
   "outputs": [],
   "source": [
    "aluno = dict()\n",
    "\n",
    "n = int(input(\"Digite quantos alunos quer cadastrar: \"))\n",
    "\n",
    "for i in range(n):\n",
    "    aluno['nome'] = str(input(\"Digite o nome do aluno: \"))\n",
    "    aluno['media'] = float(input(\"Digite a média do aluno: \"))\n",
    "\n",
    "    if aluno['media'] >= 7:\n",
    "        aluno['situacao'] = \"Aprovado\"\n",
    "    else:\n",
    "        aluno['situacao'] = \"Reprovado\"\n",
    "        \n",
    "for chave, valor in aluno.items():\n",
    "    print(f\"{chave} é igual a {valor}\")\n",
    "    print(\"\\f\")\n",
    "\n",
    "print(aluno.items())\n",
    "print(aluno.keys())\n",
    "print(aluno.values())"
   ]
  },
  {
   "cell_type": "code",
   "execution_count": null,
   "id": "cc276579",
   "metadata": {},
   "outputs": [],
   "source": [
    "import random\n",
    "\n",
    "def text_randomic(text):\n",
    "    text=list(text.upper())\n",
    "    random.shuffle(text)\n",
    "    print(''.join(text))\n",
    "\n",
    "text=input(\"Insira uma palavra: \")\n",
    "\n",
    "text_randomic(text)"
   ]
  },
  {
   "cell_type": "code",
   "execution_count": null,
   "id": "314e4db0",
   "metadata": {},
   "outputs": [],
   "source": [
    "def converter_mes_para_extenso(data):\n",
    "    mes = '''janeiro fevereiro março\n",
    "      abril maio junho julho agosto\n",
    "      setembro outubro novembro\n",
    "      dezembro'''.split()\n",
    "    d, m, a = data.split('/')\n",
    "    mes_extenso = mes[int(m) - 1] # O mês 1, estará na posição 0!\n",
    "    return f'{d} de {mes_extenso} de {a}'\n",
    "\n",
    "print(converter_mes_para_extenso('10/05/2021'))\n",
    "\n",
    "mes = '''janeiro fevereiro março\n",
    "      abril maio junho julho agosto\n",
    "      setembro outubro novembro\n",
    "      dezembro'''\n",
    "a = mes.split()\n",
    "print(a)\n",
    "\n",
    "# Se quiser extrair cada letra \n",
    "# a = []\n",
    "# for i in mes:\n",
    "#     a.append(i.split())\n",
    "#     print(a)"
   ]
  },
  {
   "cell_type": "code",
   "execution_count": null,
   "id": "b09a4333",
   "metadata": {},
   "outputs": [],
   "source": [
    "#1 - Parâmetro posicional, obrigatório, sem valor default (padrão).\n",
    "\n",
    "def somar(a, b):\n",
    "    return a + b\n",
    "\n",
    "somar(2, 2)"
   ]
  },
  {
   "cell_type": "code",
   "execution_count": null,
   "id": "e96af92f",
   "metadata": {},
   "outputs": [],
   "source": [
    "#2 - Parâmetro posicional, obrigatório, com valor default (padrão).\n",
    "\n",
    "def calcular_desconto(valor, desconto=0): # O parâmetro desconto possui zero valor default\n",
    "    valor_com_desconto = valor - (valor * desconto)\n",
    "    return valor_com_desconto\n",
    "\n",
    "valor1 = calcular_desconto(100) # Não aplicar nenhum desconto\n",
    "valor2 = calcular_desconto(100, 0.25) # Aplicar desconto de 25%\n",
    "\n",
    "print(f\"\\nPrimeiro valor a ser pago = {valor1}\")\n",
    "print(f\"\\nSegundo valor a ser pago = {valor2}\")"
   ]
  },
  {
   "cell_type": "code",
   "execution_count": null,
   "id": "028aa0b2",
   "metadata": {},
   "outputs": [],
   "source": [
    "#3 - Parâmetro nominal, obrigatório, sem valor default (padrão).\n",
    "\n",
    "Perceba que a chamada foi feita de modo nominal, ou seja, atribuindo os valores às variáveis da função e, nesse caso, a atribuição não é feita de modo posicional (linha 9)\n",
    "\n",
    "\n",
    "def converter_maiuscula(texto, flag_maiuscula):\n",
    "    if flag_maiuscula: # Já entende que a flag_maiúscula deve ser true\n",
    "        return texto.upper()\n",
    "    else:\n",
    "        return texto.lower()\n",
    "\n",
    "\n",
    "texto = converter_maiuscula(flag_maiuscula=True, texto=\"José\") # Passagem nominal de parâmetros\n",
    "print(texto)"
   ]
  },
  {
   "cell_type": "code",
   "execution_count": null,
   "id": "59d6aaf0",
   "metadata": {},
   "outputs": [],
   "source": [
    "#4 - Parâmetro nominal, obrigatório, com valor default (padrão).\n",
    "\n",
    "\n",
    "def converter_minuscula(texto, flag_minuscula=True): # O parâmetro flag_minuscula possui True como valor default\n",
    "    if flag_minuscula:\n",
    "        return texto.lower()\n",
    "    else:\n",
    "        return texto.upper()\n",
    "\n",
    "\n",
    "texto1 = converter_minuscula(flag_minuscula=True, texto=\"LINGUAGEM de Programação\")\n",
    "texto2 = converter_minuscula(texto=\"LINGUAGEM de Programação\")\n",
    "\n",
    "print(f\"\\nTexto 1 = {texto1}\")\n",
    "print(f\"\\nTexto 2 = {texto2}\")"
   ]
  },
  {
   "cell_type": "raw",
   "id": "b77aa9b2",
   "metadata": {},
   "source": [
    "5 - Parâmetro posicional e não obrigatório (args).\n",
    "\n",
    "No grupo 5, temos parâmetros posicionais indefinidos, ou seja, a passagem de valores é feita de modo posicional, porém a quantidade não é conhecida. O parâmetro **não precisa ser chamado de args**, mas é uma boa prática. **Já o asterisco antes do parâmetro é obrigatório**\n",
    "\n",
    "Perceba que não é declarada nenhuma variável dentro dos parâmetros"
   ]
  },
  {
   "cell_type": "code",
   "execution_count": null,
   "id": "aeeda12c",
   "metadata": {},
   "outputs": [],
   "source": [
    "def imprimir_parametros(*args):\n",
    "    qtde_parametros = len(args)\n",
    "    print(f\"Quantidade de parâmetros = {qtde_parametros}\")\n",
    "    \n",
    "    for i, valor in enumerate(args):\n",
    "        print(f\"Posição = {i}, valor = {valor}\")\n",
    "\n",
    "        \n",
    "print(\"\\nChamada 1\")        \n",
    "imprimir_parametros(\"São Paulo\", 10, 23.78, \"João\")\n",
    "\n",
    "print(\"\\nChamada 2\")        \n",
    "imprimir_parametros(10, \"São Paulo\")\n",
    "\n",
    "#Duas formas de se conseguir a posição de cada item numa lista\n",
    "texto = ['José Gabriel', 25, 'Neves Bueno', 96]\n",
    "\n",
    "    #Nas variáveis de controle, primeiro vem o número e depois o texto\n",
    "    #Nesse caso, primeiro vem o valor do index(posição do item na lista) e depois o item\n",
    "    \n",
    "for txt, posicao in enumerate(texto):\n",
    "    print(f'{posicao} está na posição {txt}')\n",
    "    \n",
    "numeral = [1, 2, 3, 4, 5, 6]\n",
    "\n",
    "print('\\n')\n",
    "for text in numeral:\n",
    "    print(f'{text} está na posição {numeral.index(text)}')"
   ]
  },
  {
   "cell_type": "code",
   "execution_count": null,
   "id": "ddb8d51f",
   "metadata": {},
   "outputs": [],
   "source": [
    "#6 - Parâmetro nominal e não obrigatório (kwargs).\n",
    "\n",
    "Os parâmetros nominais arbitrários são construídos passando o parâmetro **kwargs**. O parâmetro não precisa ser chamado de kwargs, mas é uma boa prática. Já os dois asteriscos antes do parâmetro é obrigatório\n",
    "\n",
    "def imprimir_parametros(**kwargs):\n",
    "    print(f\"Tipo de objeto recebido = {type(kwargs)}\\n\")\n",
    "    qtde_parametros = len(kwargs)\n",
    "    print(f\"Quantidade de parâmetros = {qtde_parametros}\")\n",
    "    \n",
    "    for chave, valor in kwargs.items():# função items não é built-in, ela pertence aos objetos do tipo dicionário, por isso a chamada é feita como \"kwargs.items\n",
    "        print(f\"variável = {chave}, valor = {valor}\")\n",
    "\n",
    "        \n",
    "print(\"\\nChamada 1\")        \n",
    "imprimir_parametros(cidade=\"São Paulo\", idade=33, nome=\"João\")\n",
    "\n",
    "print(\"\\nChamada 2\")        \n",
    "imprimir_parametros(desconto=10, valor=100)"
   ]
  },
  {
   "cell_type": "raw",
   "id": "7dda8d6e",
   "metadata": {},
   "source": [
    "FUNÇÕES ANÔNIMAS (LAMBDA)\n",
    "Expressões lambda (às vezes chamadas de formas lambda) são usadas para criar funções anônimas \n",
    "Uma função anônima é uma função que não é construída com o \"def\" e, por isso, não possui nome.\n",
    "Esse tipo de construção é útil, quando a função faz somente uma ação e é usada uma única vez\n",
    "\n",
    "https://docs.python.org/3/reference/expressions.html.\n"
   ]
  },
  {
   "cell_type": "code",
   "execution_count": null,
   "id": "575af01f",
   "metadata": {},
   "outputs": [],
   "source": [
    "(lambda x: x + 1)(x=3)\n",
    "\n",
    "(lambda x, y: x + y)(x=3, y=2)\n",
    "\n",
    "somar = lambda x, y: x + y\n",
    "somar(x=5, y=3)"
   ]
  },
  {
   "cell_type": "code",
   "execution_count": null,
   "id": "be284cc4",
   "metadata": {},
   "outputs": [],
   "source": []
  },
  {
   "cell_type": "code",
   "execution_count": null,
   "id": "106a3257",
   "metadata": {},
   "outputs": [],
   "source": []
  }
 ],
 "metadata": {
  "kernelspec": {
   "display_name": "Python 3 (ipykernel)",
   "language": "python",
   "name": "python3"
  },
  "language_info": {
   "codemirror_mode": {
    "name": "ipython",
    "version": 3
   },
   "file_extension": ".py",
   "mimetype": "text/x-python",
   "name": "python",
   "nbconvert_exporter": "python",
   "pygments_lexer": "ipython3",
   "version": "3.10.7"
  }
 },
 "nbformat": 4,
 "nbformat_minor": 5
}
