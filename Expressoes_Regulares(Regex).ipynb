{
 "cells": [
  {
   "cell_type": "markdown",
   "id": "02676143",
   "metadata": {},
   "source": [
    "# Regex\n",
    "\n",
    "RegularExpression (regex) são padrões utilizados para identificar determinadas combinações ou cadeias de caracteres em uma string"
   ]
  },
  {
   "cell_type": "markdown",
   "id": "538ad778",
   "metadata": {},
   "source": [
    "Os colchetes [] são caracteres especiais que definem um range ou um grupo de caracteres, como [0-9], [a-z] ou [abc] por exemplo;\n",
    "\n",
    "Já o * pega uma ou mais ocorrências do padrão definido anteriormente;\n",
    "\n",
    "As chaves {} nos permitem definir uma quantidade específica de vezes que queremos que o padrão se repita ou um intervalo de possibilidades, como [abc]{5} por exemplo;\n",
    "\n",
    "O \\w pode ser qualquer número de zero a nove ou letra de \"A\" a \"Z\";\n",
    "\n",
    "A barra | representa uma coisa ou outra como em @|$ por exemplo;\n",
    "\n",
    "Os parênteses () capturam um grupo, e veremos sua importância mais adiante."
   ]
  },
  {
   "cell_type": "markdown",
   "id": "65c96b27",
   "metadata": {},
   "source": [
    "<img src=\"imagem_regex.png\" width=\"70%\" >"
   ]
  },
  {
   "cell_type": "code",
   "execution_count": 2,
   "id": "41dbc7dd",
   "metadata": {},
   "outputs": [],
   "source": [
    "#Biblioteca de regex\n",
    "import re"
   ]
  },
  {
   "cell_type": "code",
   "execution_count": 5,
   "id": "0c51048a",
   "metadata": {},
   "outputs": [
    {
     "name": "stdout",
     "output_type": "stream",
     "text": [
      "<re.Match object; span=(4, 7), match='1a3'>\n",
      "1a3\n"
     ]
    }
   ],
   "source": [
    "padrao = \"[0-9][a-z][0-9]\"\n",
    "texto = \"abc 1a3 123 ca3 fgz 12c\"\n",
    "pesquisa = re.search(padrao, texto)\n",
    "print(pesquisa) #Parar retornar o index quando encontra o padrão\n",
    "print(pesquisa.group()) #Para retornar o texto encontrado"
   ]
  },
  {
   "cell_type": "markdown",
   "id": "02caa286",
   "metadata": {},
   "source": [
    "## Encontrando um padrão de 2 letras entre números. É representado pelo número entre chaves\n"
   ]
  },
  {
   "cell_type": "code",
   "execution_count": 7,
   "id": "2aee32a1",
   "metadata": {},
   "outputs": [
    {
     "name": "stdout",
     "output_type": "stream",
     "text": [
      "<re.Match object; span=(16, 20), match='1ab9'>\n",
      "1ab9\n"
     ]
    }
   ],
   "source": [
    "padrao = \"[0-9][a-z]{2}[0-9]\"\n",
    "texto = \"123 1a3 abc a2b 1ab9\"\n",
    "pesquisa = re.search(padrao, texto)\n",
    "print(pesquisa)\n",
    "print(pesquisa.group())"
   ]
  },
  {
   "cell_type": "markdown",
   "id": "e42f5518",
   "metadata": {},
   "source": [
    "## Encontrando um padrão de email"
   ]
  },
  {
   "cell_type": "code",
   "execution_count": 9,
   "id": "10a6cfbb",
   "metadata": {},
   "outputs": [
    {
     "name": "stdout",
     "output_type": "stream",
     "text": [
      "<re.Match object; span=(15, 38), match='gabriel@hotmail.com 1a0'>\n",
      "gabriel@hotmail.com 1a0\n"
     ]
    }
   ],
   "source": [
    "padrao = \"\\w{5,50}@\\w{3,10}.\\w{2,5}.\\w{2,3}\"\n",
    "texto = \"123abcd adfslf gabriel@hotmail.com 1a09@fjbiso\"\n",
    "pesquisa = re.search(padrao, texto)\n",
    "print(pesquisa)\n",
    "print(pesquisa.group())"
   ]
  },
  {
   "cell_type": "markdown",
   "id": "26c35e64",
   "metadata": {},
   "source": [
    "### Procura menos generalizada"
   ]
  },
  {
   "cell_type": "code",
   "execution_count": 13,
   "id": "80ff55f2",
   "metadata": {},
   "outputs": [
    {
     "name": "stdout",
     "output_type": "stream",
     "text": [
      "<re.Match object; span=(15, 37), match='gabriel@hotmail.com.br'>\n",
      "gabriel@hotmail.com.br\n"
     ]
    }
   ],
   "source": [
    "padrao = \"\\w{5,50}@[a-z]{3,10}.com.br\"\n",
    "texto = \"123abcd adfslf gabriel@hotmail.com.br 1a09@fjbiso\"\n",
    "pesquisa = re.search(padrao, texto)\n",
    "print(pesquisa)\n",
    "print(pesquisa.group())"
   ]
  },
  {
   "cell_type": "markdown",
   "id": "e096ae73",
   "metadata": {},
   "source": [
    "## Definindo padrão para telefones"
   ]
  },
  {
   "cell_type": "code",
   "execution_count": 15,
   "id": "7e8a4e14",
   "metadata": {},
   "outputs": [
    {
     "name": "stdout",
     "output_type": "stream",
     "text": [
      "<re.Match object; span=(15, 26), match='31912345321'>\n",
      "31912345321\n"
     ]
    }
   ],
   "source": [
    "#molde = (xx)xxxxx-xxxx\n",
    "padrao = \"[0-9]{2}[0-9]{4,5}[0-9]{4}\"\n",
    "texto = \"Meu telefone é 31912345321\"\n",
    "pesquisa = re.search(padrao, texto)\n",
    "print(pesquisa)\n",
    "print(pesquisa.group())\n",
    "\n",
    "#Ou pode usar o .findall() para retornar todas as ocorrências\n",
    "#pesquisa.findall(padrao, texto)"
   ]
  },
  {
   "cell_type": "markdown",
   "id": "e6d33621",
   "metadata": {},
   "source": [
    "## Criando um padrão mais específico utilizando ()\n",
    "\n",
    "O ponto de interrogação(?) demonstra o que padrão antes do ponto de interrogação não é obrigatório."
   ]
  },
  {
   "cell_type": "code",
   "execution_count": 20,
   "id": "a43c5551",
   "metadata": {},
   "outputs": [
    {
     "name": "stdout",
     "output_type": "stream",
     "text": [
      "<re.Match object; span=(15, 26), match='31912345321'>\n",
      "31912345321\n"
     ]
    }
   ],
   "source": [
    "#molde = xx(xx)xxxxx-xxxx\n",
    "padrao = \"([0-9]{2,3})?([0-9]{3})([0-9]{4,5})([0-9]{4})\"\n",
    "texto = \"Meu telefone é 31912345321\"\n",
    "pesquisa = re.search(padrao, texto)\n",
    "print(pesquisa)\n",
    "print(pesquisa.group())"
   ]
  },
  {
   "cell_type": "code",
   "execution_count": null,
   "id": "79ae428d",
   "metadata": {},
   "outputs": [],
   "source": []
  }
 ],
 "metadata": {
  "kernelspec": {
   "display_name": "Python 3 (ipykernel)",
   "language": "python",
   "name": "python3"
  },
  "language_info": {
   "codemirror_mode": {
    "name": "ipython",
    "version": 3
   },
   "file_extension": ".py",
   "mimetype": "text/x-python",
   "name": "python",
   "nbconvert_exporter": "python",
   "pygments_lexer": "ipython3",
   "version": "3.9.12"
  }
 },
 "nbformat": 4,
 "nbformat_minor": 5
}
