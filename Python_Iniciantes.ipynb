{
 "cells": [
  {
   "cell_type": "markdown",
   "id": "0732462e",
   "metadata": {},
   "source": [
    "# Primeiros passos no Python\n",
    "\n",
    "Tutorial para um futuro programador e/ou cientista de dados.\n",
    "\n",
    "Python é uma linguagem dinamicamente tipada, o que significa que não é necessário declarar o tipo de variável ou fazer casting (mudar o tipo de variável), pois o Interpretador se encarrega disso para nós!"
   ]
  },
  {
   "cell_type": "code",
   "execution_count": 1,
   "id": "bd69d999",
   "metadata": {},
   "outputs": [
    {
     "name": "stdout",
     "output_type": "stream",
     "text": [
      "Hello World\n"
     ]
    }
   ],
   "source": [
    "#Primeiro código\n",
    "print(\"Hello World\")\n",
    "\n",
    "#print() é o comando para mostrar algo na tela."
   ]
  },
  {
   "cell_type": "markdown",
   "id": "e9f09e47",
   "metadata": {},
   "source": [
    "# Variáveis\n",
    "\n",
    "Variáveis são lugares reservados na memória de um dispositivo para o armazenamento de dados que posteriormente vão ser usados na execução.\n",
    "\n",
    "Nunca nomeie uma variável começando com um número ou símbolo (5 ou %, por exemplo), mas sim com uma letra minúscula ou underline."
   ]
  },
  {
   "cell_type": "code",
   "execution_count": 2,
   "id": "f484fd3f",
   "metadata": {},
   "outputs": [
    {
     "name": "stdout",
     "output_type": "stream",
     "text": [
      "1\n",
      "2\n",
      "3\n"
     ]
    }
   ],
   "source": [
    "a = 1\n",
    "b = 2\n",
    "c = a + b\n",
    "print(a)\n",
    "print(b)\n",
    "print(c)"
   ]
  },
  {
   "cell_type": "code",
   "execution_count": 3,
   "id": "56c5d1df",
   "metadata": {},
   "outputs": [
    {
     "name": "stdout",
     "output_type": "stream",
     "text": [
      "Esta é minha frase\n"
     ]
    }
   ],
   "source": [
    "frase = \"Esta é minha frase\"\n",
    "print(frase)"
   ]
  },
  {
   "cell_type": "markdown",
   "id": "6045156b",
   "metadata": {},
   "source": [
    "## Tipos de variáveis\n",
    "\n",
    "Tipo Inteiro (int) -> números\n",
    "Ponto Flutuante ou Decimal (float) -> números decimais\n",
    "Complexo (complex) -> números completos\n",
    "String (str) -> palavras\n",
    "Boolean (bool) -> booleano = True ou False\n",
    "Listas (list) -> lista\n",
    "Tuplas (tuple) -> tupla\n",
    "Dicionários (dict)"
   ]
  },
  {
   "cell_type": "code",
   "execution_count": 6,
   "id": "bd16ee6d",
   "metadata": {},
   "outputs": [
    {
     "name": "stdout",
     "output_type": "stream",
     "text": [
      "<class 'int'>\n",
      "<class 'str'>\n"
     ]
    }
   ],
   "source": [
    "#Identificando o tipo das variáveis\n",
    "print(type(a))\n",
    "print(type(frase))"
   ]
  },
  {
   "cell_type": "code",
   "execution_count": 7,
   "id": "e3cf604f",
   "metadata": {},
   "outputs": [],
   "source": [
    "vdd = True\n",
    "falso = False\n",
    "minha_altura = 1.80\n",
    "complexo = 5+2j"
   ]
  },
  {
   "cell_type": "code",
   "execution_count": 8,
   "id": "6aab2126",
   "metadata": {},
   "outputs": [
    {
     "name": "stdout",
     "output_type": "stream",
     "text": [
      "True\n",
      "False\n",
      "1.8\n",
      "(5+2j)\n",
      "<class 'bool'>\n",
      "<class 'bool'>\n",
      "<class 'float'>\n",
      "<class 'complex'>\n"
     ]
    }
   ],
   "source": [
    "print(vdd)\n",
    "print(falso)\n",
    "print(minha_altura)\n",
    "print(complexo)\n",
    "\n",
    "print(type(vdd))\n",
    "print(type(falso))\n",
    "print(type(minha_altura))\n",
    "print(type(complexo))"
   ]
  },
  {
   "cell_type": "markdown",
   "id": "6e60a43b",
   "metadata": {},
   "source": [
    "## Operações básicas usando Python"
   ]
  },
  {
   "cell_type": "code",
   "execution_count": 26,
   "id": "11bf36a4",
   "metadata": {},
   "outputs": [
    {
     "data": {
      "text/plain": [
       "2"
      ]
     },
     "execution_count": 26,
     "metadata": {},
     "output_type": "execute_result"
    }
   ],
   "source": [
    "#Adição \n",
    "1 + 1"
   ]
  },
  {
   "cell_type": "code",
   "execution_count": 27,
   "id": "3bdf4b48",
   "metadata": {},
   "outputs": [
    {
     "data": {
      "text/plain": [
       "0"
      ]
     },
     "execution_count": 27,
     "metadata": {},
     "output_type": "execute_result"
    }
   ],
   "source": [
    "#Subtração\n",
    "1 - 1"
   ]
  },
  {
   "cell_type": "code",
   "execution_count": 28,
   "id": "da5f5e91",
   "metadata": {},
   "outputs": [
    {
     "data": {
      "text/plain": [
       "4"
      ]
     },
     "execution_count": 28,
     "metadata": {},
     "output_type": "execute_result"
    }
   ],
   "source": [
    "#Multiplicação\n",
    "2 * 2"
   ]
  },
  {
   "cell_type": "code",
   "execution_count": 29,
   "id": "27fd2a41",
   "metadata": {},
   "outputs": [
    {
     "data": {
      "text/plain": [
       "2.0"
      ]
     },
     "execution_count": 29,
     "metadata": {},
     "output_type": "execute_result"
    }
   ],
   "source": [
    "#Divisão\n",
    "10 / 5"
   ]
  },
  {
   "cell_type": "code",
   "execution_count": 30,
   "id": "a6092966",
   "metadata": {},
   "outputs": [
    {
     "data": {
      "text/plain": [
       "9"
      ]
     },
     "execution_count": 30,
     "metadata": {},
     "output_type": "execute_result"
    }
   ],
   "source": [
    "#Exponenciação\n",
    "3 ** 2"
   ]
  },
  {
   "cell_type": "code",
   "execution_count": 33,
   "id": "420681ae",
   "metadata": {},
   "outputs": [
    {
     "data": {
      "text/plain": [
       "1"
      ]
     },
     "execution_count": 33,
     "metadata": {},
     "output_type": "execute_result"
    }
   ],
   "source": [
    "#Resto da divisão\n",
    "10 % 3"
   ]
  },
  {
   "cell_type": "code",
   "execution_count": 34,
   "id": "d7335954",
   "metadata": {},
   "outputs": [
    {
     "data": {
      "text/plain": [
       "True"
      ]
     },
     "execution_count": 34,
     "metadata": {},
     "output_type": "execute_result"
    }
   ],
   "source": [
    "#Maior que\n",
    "2 > 1"
   ]
  },
  {
   "cell_type": "code",
   "execution_count": 35,
   "id": "e0d89b12",
   "metadata": {},
   "outputs": [
    {
     "data": {
      "text/plain": [
       "False"
      ]
     },
     "execution_count": 35,
     "metadata": {},
     "output_type": "execute_result"
    }
   ],
   "source": [
    "#Menor que\n",
    "2 < 1"
   ]
  },
  {
   "cell_type": "code",
   "execution_count": 36,
   "id": "2ad396a8",
   "metadata": {},
   "outputs": [
    {
     "data": {
      "text/plain": [
       "False"
      ]
     },
     "execution_count": 36,
     "metadata": {},
     "output_type": "execute_result"
    }
   ],
   "source": [
    "#Igual\n",
    "2 == 1"
   ]
  },
  {
   "cell_type": "code",
   "execution_count": 37,
   "id": "c543e4df",
   "metadata": {},
   "outputs": [
    {
     "data": {
      "text/plain": [
       "True"
      ]
     },
     "execution_count": 37,
     "metadata": {},
     "output_type": "execute_result"
    }
   ],
   "source": [
    "2 == 2"
   ]
  },
  {
   "cell_type": "code",
   "execution_count": 38,
   "id": "dcd8d9bc",
   "metadata": {},
   "outputs": [
    {
     "data": {
      "text/plain": [
       "10"
      ]
     },
     "execution_count": 38,
     "metadata": {},
     "output_type": "execute_result"
    }
   ],
   "source": [
    "#Utilizando variáveis\n",
    "a = 2\n",
    "b = 5\n",
    "a * b"
   ]
  },
  {
   "cell_type": "code",
   "execution_count": 39,
   "id": "29814c88",
   "metadata": {},
   "outputs": [
    {
     "data": {
      "text/plain": [
       "32"
      ]
     },
     "execution_count": 39,
     "metadata": {},
     "output_type": "execute_result"
    }
   ],
   "source": [
    "a ** b"
   ]
  },
  {
   "cell_type": "code",
   "execution_count": 40,
   "id": "e071581a",
   "metadata": {},
   "outputs": [
    {
     "data": {
      "text/plain": [
       "0.4"
      ]
     },
     "execution_count": 40,
     "metadata": {},
     "output_type": "execute_result"
    }
   ],
   "source": [
    "a / b"
   ]
  },
  {
   "cell_type": "code",
   "execution_count": 41,
   "id": "30df9047",
   "metadata": {},
   "outputs": [
    {
     "data": {
      "text/plain": [
       "2"
      ]
     },
     "execution_count": 41,
     "metadata": {},
     "output_type": "execute_result"
    }
   ],
   "source": [
    "a % b"
   ]
  },
  {
   "cell_type": "code",
   "execution_count": null,
   "id": "95a00ebe",
   "metadata": {},
   "outputs": [],
   "source": [
    "a == b"
   ]
  },
  {
   "cell_type": "markdown",
   "id": "c82b28b0",
   "metadata": {},
   "source": [
    "### Lista\n",
    "\n",
    "Listas agrupam um conjunto de elementos variados, podendo conter: inteiros, floats, strings, outras listas e outros tipos.\n",
    "Usa-se colchetes para alocar os elementos e vírgula para separa-los. É indexado, ou seja, você pode acessar os elementos através de seus índices"
   ]
  },
  {
   "cell_type": "code",
   "execution_count": 9,
   "id": "df25a64b",
   "metadata": {},
   "outputs": [
    {
     "data": {
      "text/plain": [
       "[1, 2, 3, 4, 5]"
      ]
     },
     "execution_count": 9,
     "metadata": {},
     "output_type": "execute_result"
    }
   ],
   "source": [
    "minha_lista = [1, 2, 3, 4, 5]\n",
    "minha_lista"
   ]
  },
  {
   "cell_type": "code",
   "execution_count": 10,
   "id": "bd864ae5",
   "metadata": {},
   "outputs": [
    {
     "data": {
      "text/plain": [
       "list"
      ]
     },
     "execution_count": 10,
     "metadata": {},
     "output_type": "execute_result"
    }
   ],
   "source": [
    "type(minha_lista)"
   ]
  },
  {
   "cell_type": "code",
   "execution_count": 12,
   "id": "355a87ee",
   "metadata": {},
   "outputs": [
    {
     "data": {
      "text/plain": [
       "['Leite', 'Ovo', 'Massa de Bolo', 'Açúcar', 'Feijão', 'Arroz', 'Carne']"
      ]
     },
     "execution_count": 12,
     "metadata": {},
     "output_type": "execute_result"
    }
   ],
   "source": [
    "lista_supermercado = ['Leite', 'Ovo', 'Massa de Bolo', 'Açúcar', 'Feijão', 'Arroz', 'Carne']\n",
    "lista_supermercado"
   ]
  },
  {
   "cell_type": "code",
   "execution_count": 13,
   "id": "f6d84b37",
   "metadata": {},
   "outputs": [
    {
     "data": {
      "text/plain": [
       "'Ovo'"
      ]
     },
     "execution_count": 13,
     "metadata": {},
     "output_type": "execute_result"
    }
   ],
   "source": [
    "#Acessando os índices\n",
    "lista_supermercado[1]"
   ]
  },
  {
   "cell_type": "code",
   "execution_count": 14,
   "id": "6ca6a5e2",
   "metadata": {},
   "outputs": [
    {
     "data": {
      "text/plain": [
       "['Leite', 'Ovo', 'Massa de Bolo', 'Açúcar', 'Feijão', 'Arroz', 'Carne']"
      ]
     },
     "execution_count": 14,
     "metadata": {},
     "output_type": "execute_result"
    }
   ],
   "source": [
    "lista_supermercado[:]"
   ]
  },
  {
   "cell_type": "code",
   "execution_count": 17,
   "id": "39f70906",
   "metadata": {},
   "outputs": [
    {
     "data": {
      "text/plain": [
       "'Carne'"
      ]
     },
     "execution_count": 17,
     "metadata": {},
     "output_type": "execute_result"
    }
   ],
   "source": [
    "lista_supermercado[-1]"
   ]
  },
  {
   "cell_type": "markdown",
   "id": "328b5702",
   "metadata": {},
   "source": [
    "## Tuplas\n",
    "\n",
    "Porém sua forma de definição é diferente: utilizamos parênteses e também separado por vírgula. A diferença para Lista é que Tuplas são imutáveis, ou seja, após sua definição, Tuplas não podem ser modificadas.\n"
   ]
  },
  {
   "cell_type": "code",
   "execution_count": 19,
   "id": "85c03468",
   "metadata": {},
   "outputs": [
    {
     "data": {
      "text/plain": [
       "(1, 2, 3, 4, 5)"
      ]
     },
     "execution_count": 19,
     "metadata": {},
     "output_type": "execute_result"
    }
   ],
   "source": [
    "minha_tupla = (1, 2, 3, 4, 5)\n",
    "minha_tupla"
   ]
  },
  {
   "cell_type": "markdown",
   "id": "a72f6349",
   "metadata": {},
   "source": [
    "## Dicionários\n",
    "\n",
    "São usados para agrupar elementos de chave-valor"
   ]
  },
  {
   "cell_type": "code",
   "execution_count": 21,
   "id": "0f1b1d5c",
   "metadata": {},
   "outputs": [
    {
     "data": {
      "text/plain": [
       "{'João': 1, 'Pedro': 2, 'Ana': 3, 'Maria': 4, 'José': 5, 'Gabriel': 6}"
      ]
     },
     "execution_count": 21,
     "metadata": {},
     "output_type": "execute_result"
    }
   ],
   "source": [
    "#Alunos e o número de chamada\n",
    "alunos = {'João':1, 'Pedro': 2, 'Ana': 3, 'Maria': 4, 'José':5, 'Gabriel':6}\n",
    "alunos"
   ]
  },
  {
   "cell_type": "code",
   "execution_count": 22,
   "id": "42c4a0d9",
   "metadata": {},
   "outputs": [
    {
     "data": {
      "text/plain": [
       "{'João': 80, 'Pedro': 87, 'Ana': 63, 'Maria': 58, 'José': 71, 'Gabriel': 69}"
      ]
     },
     "execution_count": 22,
     "metadata": {},
     "output_type": "execute_result"
    }
   ],
   "source": [
    "peso = {'João':80, 'Pedro': 87, 'Ana': 63, 'Maria': 58, 'José':71, 'Gabriel':69}\n",
    "peso"
   ]
  },
  {
   "cell_type": "markdown",
   "id": "2eb69f2a",
   "metadata": {},
   "source": [
    "# Tomada de decisão usando o IF\n",
    "\n",
    "Para conseguir selecione entre um ou mais fatores, utiliza-se o IF para que a lógica de decisão seja corretamente aplicada\n",
    "\n",
    "Para atribuir um valor a uma variável, usa o \"=\"\n",
    "Para comparar um valor, usa o \"==\""
   ]
  },
  {
   "cell_type": "code",
   "execution_count": 24,
   "id": "a7325a78",
   "metadata": {},
   "outputs": [
    {
     "name": "stdout",
     "output_type": "stream",
     "text": [
      "A é igual a 1\n",
      "B é igual a 2\n"
     ]
    }
   ],
   "source": [
    "a = 1\n",
    "b = 2\n",
    "\n",
    "if a == 1:\n",
    "    print(\"A é igual a 1\")\n",
    "\n",
    "if b == 2:\n",
    "    print(\"B é igual a 2\")"
   ]
  },
  {
   "cell_type": "code",
   "execution_count": 25,
   "id": "77ef7478",
   "metadata": {},
   "outputs": [
    {
     "name": "stdout",
     "output_type": "stream",
     "text": [
      "A + b é igual a 3\n"
     ]
    }
   ],
   "source": [
    "if a + b == 3:\n",
    "    print(\"A + b é igual a 3\")\n",
    "else:\n",
    "    print(\"A + B não é igual a 3\")"
   ]
  },
  {
   "cell_type": "markdown",
   "id": "dc68db35",
   "metadata": {},
   "source": [
    "## Repetição (loop) usando o Python\n",
    "\n",
    "For(para) e While(enquanto)\n",
    "\n",
    "for <condição> in <condição>: -> nunca esqueça os \":\" no final do comando principal"
   ]
  },
  {
   "cell_type": "code",
   "execution_count": 45,
   "id": "026009fb",
   "metadata": {},
   "outputs": [
    {
     "name": "stdout",
     "output_type": "stream",
     "text": [
      "0\n",
      "1\n",
      "2\n",
      "3\n",
      "4\n",
      "5\n",
      "6\n",
      "7\n",
      "8\n",
      "9\n"
     ]
    }
   ],
   "source": [
    "for x in range(10):\n",
    "    print(x)"
   ]
  },
  {
   "cell_type": "code",
   "execution_count": 47,
   "id": "c22f5061",
   "metadata": {},
   "outputs": [
    {
     "name": "stdout",
     "output_type": "stream",
     "text": [
      "Leite\n",
      "Ovo\n",
      "Massa de Bolo\n",
      "Açúcar\n",
      "Feijão\n",
      "Arroz\n",
      "Carne\n"
     ]
    }
   ],
   "source": [
    "for item in lista_supermercado:\n",
    "    print(item)"
   ]
  },
  {
   "cell_type": "code",
   "execution_count": 48,
   "id": "c9036bec",
   "metadata": {},
   "outputs": [
    {
     "name": "stdout",
     "output_type": "stream",
     "text": [
      "1\n",
      "2\n",
      "3\n",
      "4\n",
      "5\n",
      "6\n",
      "7\n",
      "8\n",
      "9\n",
      "10\n"
     ]
    }
   ],
   "source": [
    "x = 1\n",
    "while x <= 10:\n",
    "    print(x)\n",
    "    x += 1\n",
    "    \n",
    "\n",
    "#x+=1 é o mesmo que x = x + 1"
   ]
  },
  {
   "cell_type": "code",
   "execution_count": null,
   "id": "151b0d3c",
   "metadata": {},
   "outputs": [],
   "source": []
  }
 ],
 "metadata": {
  "kernelspec": {
   "display_name": "Python 3 (ipykernel)",
   "language": "python",
   "name": "python3"
  },
  "language_info": {
   "codemirror_mode": {
    "name": "ipython",
    "version": 3
   },
   "file_extension": ".py",
   "mimetype": "text/x-python",
   "name": "python",
   "nbconvert_exporter": "python",
   "pygments_lexer": "ipython3",
   "version": "3.9.12"
  }
 },
 "nbformat": 4,
 "nbformat_minor": 5
}
