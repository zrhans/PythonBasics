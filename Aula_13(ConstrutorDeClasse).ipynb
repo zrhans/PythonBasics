{
 "cells": [
  {
   "cell_type": "markdown",
   "id": "b5059865",
   "metadata": {},
   "source": [
    "# Construtores de Classe \n",
    "\n",
    "A função de um construtor de classe é inicializar a instância da classe\n",
    "\n",
    "**Variáveis de instância:** São capazes de receber um valor diferente para cada objeto, \n",
    "sempre precedidade pelo parâmetro self. \n",
    "\n",
    "Ex.: self.nome_atributo\n"
   ]
  },
  {
   "cell_type": "code",
   "execution_count": 11,
   "id": "4a4ebeb1",
   "metadata": {},
   "outputs": [
    {
     "name": "stdout",
     "output_type": "stream",
     "text": [
      "<bound method Televisao.aumentar_volume of <__main__.Televisao object at 0x000002474436D8E0>>\n"
     ]
    }
   ],
   "source": [
    "class Televisao: #não tem parênteses(), exceto se passar argumentos ou herança\n",
    "    def __init__(self): #duas sobrelinhas\n",
    "        self.volume = 10 #indico qual o valor padrão do método\n",
    "    def aumentar_volume(self):\n",
    "        self.volume += 1"
   ]
  },
  {
   "cell_type": "code",
   "execution_count": 19,
   "id": "883cc765",
   "metadata": {},
   "outputs": [
    {
     "data": {
      "text/plain": [
       "11"
      ]
     },
     "execution_count": 19,
     "metadata": {},
     "output_type": "execute_result"
    }
   ],
   "source": [
    "tv = Televisao() #aqui coloca os ()\n",
    "tv.volume \n",
    "tv.aumentar_volume()\n",
    "tv.volume"
   ]
  },
  {
   "cell_type": "code",
   "execution_count": 14,
   "id": "21481e7c",
   "metadata": {},
   "outputs": [],
   "source": [
    "class Televisao:\n",
    "    def __init__(self):\n",
    "        self.volume = 10\n",
    "    \n",
    "    def aumentar_volume(self):\n",
    "        self.volume += 1\n",
    "    \n",
    "    def diminuir_volume(self):\n",
    "        self.volume -= 1"
   ]
  },
  {
   "cell_type": "code",
   "execution_count": 15,
   "id": "e615a394",
   "metadata": {},
   "outputs": [
    {
     "name": "stdout",
     "output_type": "stream",
     "text": [
      "Volume ao ligar a tv =  10\n",
      "Volume atual =  11\n"
     ]
    }
   ],
   "source": [
    "tv = Televisao()\n",
    "print(\"Volume ao ligar a tv = \", tv.volume)\n",
    "tv.aumentar_volume()\n",
    "print(\"Volume atual = \", tv.volume)"
   ]
  },
  {
   "cell_type": "code",
   "execution_count": null,
   "id": "c42e7894",
   "metadata": {},
   "outputs": [],
   "source": []
  }
 ],
 "metadata": {
  "kernelspec": {
   "display_name": "Python 3",
   "language": "python",
   "name": "python3"
  },
  "language_info": {
   "codemirror_mode": {
    "name": "ipython",
    "version": 3
   },
   "file_extension": ".py",
   "mimetype": "text/x-python",
   "name": "python",
   "nbconvert_exporter": "python",
   "pygments_lexer": "ipython3",
   "version": "3.10.7 (tags/v3.10.7:6cc6b13, Sep  5 2022, 14:08:36) [MSC v.1933 64 bit (AMD64)]"
  },
  "vscode": {
   "interpreter": {
    "hash": "b1be5a1e9e85905d3e4e97ef1b769f5caa870a8a58c9f9e0ae488b6f0a0e1baf"
   }
  }
 },
 "nbformat": 4,
 "nbformat_minor": 5
}
