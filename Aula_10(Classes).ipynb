{
 "cells": [
  {
   "cell_type": "markdown",
   "id": "94efa135",
   "metadata": {},
   "source": [
    "# INTRODUÇÃO A ORIENTAÇÃO A OBJETOS\n",
    "\n",
    "Uma linguagem é entendida como orientada a objetos se ela aplica o conceito de abstração e suporta a implementação do encapsulamento, da herança e do polimorfismo."
   ]
  },
  {
   "cell_type": "markdown",
   "id": "eacca098",
   "metadata": {},
   "source": [
    "# ABSTRAÇÃO - CLASSES E OBJETOS\n",
    "\n",
    "**Objetos** são os componentes de um programa OO. Um programa que usa a tecnologia OO é basicamente uma coleção de objetos. \n",
    "\n",
    "**Classe** é um modelo para um objeto. Podemos considerar uma classe uma forma de organizar os dados (de um objeto) e seus comportamentos.\n",
    "\n",
    "Vamos pensar na construção de uma casa: antes do \"objeto casa\" existir, um arquiteto fez a planta, determinando tudo que deveria fazer parte daquele objeto. Portanto, a classe é o modelo e o objeto é uma instância. Entende-se por **instância a existência física, em memória, do objeto.**\n",
    "\n",
    "**ATRIBUTOS** Os dados armazenados em um objeto representam o estado do objeto. Na terminologia de programação OO, esses dados são chamados de atributos. Os atributos contêm as informações que diferenciam os vários objetos.\n",
    "\n",
    "**MÉTODOS** O comportamento de um objeto representa o que este pode fazer. Nas linguagens procedurais, o comportamento é definido por procedimentos, funções e sub-rotinas. Na terminologia de programação OO, esses comportamentos estão contidos nos métodos, aos quais você envia uma mensagem para invocá-los. \n",
    "\n",
    "**ENCAPSULAMENTO** O ato de combinar os atributos e métodos na mesma entidade é, na linguagem OO, chamado de encapsulamento (Weisfeld, 2013), termo que também aparece na prática de tornar atributos privados, quando estes são encapsulados em métodos para guardar e acessar seus valores.\n",
    "\n",
    "**HERANÇA** Por meio desse mecanismo, é possível fazer o reúso de código, criando soluções mais organizadas. A herança permite que uma classe herde os atributos e métodos de outra classe.Em uma hierarquia de herança, todas as subclasses herdam as interfaces de sua superclasse. No entanto, como toda subclasse é uma entidade separada, cada uma delas pode exigir uma resposta separada para a mesma mensagem.\n",
    "\n",
    "**POLIFORMISMO** Polimorfismo é uma palavra grega que, literalmente, significa muitas formas. Embora o polimorfismo esteja fortemente associado à herança, é frequentemente citado separadamente como uma das vantagens mais poderosas das tecnologias orientadas a objetos."
   ]
  },
  {
   "cell_type": "markdown",
   "id": "69753efe",
   "metadata": {},
   "source": [
    "# CLASSES \n",
    "\n",
    "Utiliza-se a palavra reservada class para indicar a criação de uma classe, seguida do nome e dois pontos. No bloco indentado devem ser implementados os atributos e métodos da classe.\n",
    "\n",
    "class ClassName:\n",
    "\n",
    "    <statement 1>\n",
    "    ...\n",
    "    <statement N>\n",
    "    \n",
    "**Todo método em uma classe deve receber como primeiro parâmetro uma variável que indica a referência à classe; por convenção, adota-se o parâmetro self**. O parâmetro **self** será usado para acessar os atributos e métodos dentro da própria classe.\n",
    "\n",
    "Para acessarmos os recursos (atributos e métodos) de um objeto, após instanciá-lo, precisamos usar a seguinte sintaxe: \"objeto.recurso.\""
   ]
  },
  {
   "cell_type": "code",
   "execution_count": 1,
   "id": "91ed39f7",
   "metadata": {},
   "outputs": [],
   "source": [
    "class primeiraClasse: #criando uma classe\n",
    "    \n",
    "    def imprimir_mensagem(self, nome): #criando um método\n",
    "        print(f\"Olá, meu nome é {nome}\")"
   ]
  },
  {
   "cell_type": "code",
   "execution_count": 4,
   "id": "ef85003e",
   "metadata": {},
   "outputs": [
    {
     "name": "stdout",
     "output_type": "stream",
     "text": [
      "Olá, meu nome é Gabriel\n"
     ]
    }
   ],
   "source": [
    "objeto = primeiraClasse() #Referencio a classe numa variável. Agora, a variável objeto é um objeto do tipo primeiraClasse\n",
    "objeto.imprimir_mensagem(\"Gabriel\") #ou, objeto.imprimir_mensagem(\"Gabriel\")"
   ]
  },
  {
   "cell_type": "code",
   "execution_count": 5,
   "id": "ff573b72",
   "metadata": {},
   "outputs": [
    {
     "name": "stdout",
     "output_type": "stream",
     "text": [
      "O nome é: Gabriel Neves\n"
     ]
    }
   ],
   "source": [
    "class segundaClasse:\n",
    "    nome = None\n",
    "    sobrenome = None\n",
    "    \n",
    "    def junta_nome(self, nome, sobrenome): #O parâmetro self é a própria instância da classe e é passado de forma implícita pelo objeto\n",
    "       print(f\"O nome é: {nome} {sobrenome}\")\n",
    "    \n",
    "objeto2 = segundaClasse()\n",
    "objeto2.nome = \"Gabriel\"\n",
    "objeto2.sobrenome = \"Neves\"\n",
    "\n",
    "objeto2.junta_nome(objeto2.nome, objeto2.sobrenome)"
   ]
  },
  {
   "cell_type": "markdown",
   "id": "ca6ba6ee",
   "metadata": {},
   "source": [
    "**Criando uma calculadora**"
   ]
  },
  {
   "cell_type": "code",
   "execution_count": 22,
   "id": "a216f5b7",
   "metadata": {},
   "outputs": [
    {
     "name": "stdout",
     "output_type": "stream",
     "text": [
      "A soma é: 4\n",
      "A subtração é: 0\n",
      "A multiplicação é: 4\n",
      "A divisão é: 1.0\n"
     ]
    }
   ],
   "source": [
    "class calculadora: #cria uma classe e coloca todos os parâmetros dentro (def's)\n",
    "    def soma(self, n1, n2):\n",
    "        return n1 + n2  \n",
    "    def subtrai(self, n1, n2):\n",
    "        return n1 - n2\n",
    "    def multiplica(self, n1, n2):\n",
    "        return n1 * n2\n",
    "    def divide(self, n1, n2):\n",
    "        return n1/n2\n",
    "\n",
    "calcula = calculadora()\n",
    "n1 = 2\n",
    "n2 = 2\n",
    "print(f\"A soma é: {calcula.soma(n1, n2)}\")\n",
    "print(f\"A subtração é: {calcula.subtrai(n1, n2)}\")\n",
    "print(f\"A multiplicação é: {calcula.multiplica(n1, n2)}\")\n",
    "print(f\"A divisão é: {calcula.divide(n1, n2)}\")"
   ]
  },
  {
   "cell_type": "markdown",
   "id": "cfe81193",
   "metadata": {},
   "source": [
    "# CONSTRUTOR DA CLASSE __INIT__()\n",
    "\n",
    "Atributos de instância, também chamadas de variáveis de instâncias é capaz de receber um valor diferente para cada objeto. Um atributo de instância é uma variável precedida com o parâmetro self, ou seja, a sintaxe para criar e utilizar é self.nome_atributo."
   ]
  },
  {
   "cell_type": "code",
   "execution_count": 13,
   "id": "9f393fab",
   "metadata": {},
   "outputs": [],
   "source": [
    "class Televisao:\n",
    "    def __init__(self):\n",
    "        self.volume = 10\n",
    "    \n",
    "    def aumentar_volume(self):\n",
    "        self.volume += 1\n",
    "    \n",
    "    def diminuir_volume(self):\n",
    "        self.volume -= 1"
   ]
  },
  {
   "cell_type": "code",
   "execution_count": 25,
   "id": "9e6a5f79",
   "metadata": {},
   "outputs": [
    {
     "name": "stdout",
     "output_type": "stream",
     "text": [
      "Volume ao ligar a tv:  10\n",
      "Volume atual:  11\n",
      "Volume ao diminuir:  10\n"
     ]
    }
   ],
   "source": [
    "tv = Televisao()\n",
    "print(\"Volume ao ligar a tv: \", tv.volume)\n",
    "tv.aumentar_volume()\n",
    "print(\"Volume atual: \", tv.volume)\n",
    "tv.diminuir_volume()\n",
    "print(\"Volume ao diminuir: \", tv.volume)"
   ]
  },
  {
   "cell_type": "markdown",
   "id": "ecb92b5c",
   "metadata": {},
   "source": [
    "# VARIÁVEIS E MÉTODOS PRIVADOS\n",
    "\n",
    "Em Python, não existem modificadores de acesso e todos os recursos são públicos. Para simbolizar que um atributo ou método é privado, por convenção, usa-se um sublinhado \"_\"  antes do nome; por exemplo, _cpf, _calcular_desconto().Dado que um atributo é privado, ele só pode ser acessado por membros da própria classe."
   ]
  },
  {
   "cell_type": "code",
   "execution_count": 47,
   "id": "9669abad",
   "metadata": {},
   "outputs": [
    {
     "name": "stdout",
     "output_type": "stream",
     "text": [
      "Saldo insuficiente.\n"
     ]
    },
    {
     "data": {
      "text/plain": [
       "15"
      ]
     },
     "execution_count": 47,
     "metadata": {},
     "output_type": "execute_result"
    }
   ],
   "source": [
    "class ContaCorrente:\n",
    "    def __init__(self):\n",
    "        self._saldo = None\n",
    "        \n",
    "    def depositar(self, valor):\n",
    "        if self._saldo is None: #Validação necessária para não retornar erro de \"Unsupported operand NoneType and int\"\n",
    "            self._saldo = valor\n",
    "        else:\n",
    "            self._saldo += valor\n",
    "    def retirar(self, valor):\n",
    "        if self._saldo is None:\n",
    "            return print(\"Saldo insuficiente.\")\n",
    "        elif (self._saldo - valor) < 0:\n",
    "            return print(\"Saldo insuficiente.\")\n",
    "        else:\n",
    "            self._saldo -= valor\n",
    "        \n",
    "    def consultar_saldo(self):\n",
    "        return self._saldo\n",
    "\n",
    "cc = ContaCorrente()\n",
    "cc.depositar(10)\n",
    "cc.consultar_saldo() \n",
    "cc.depositar(20)\n",
    "cc.consultar_saldo()\n",
    "cc.retirar(15)\n",
    "cc.consultar_saldo()\n",
    "cc.retirar(20)\n",
    "cc.consultar_saldo()"
   ]
  },
  {
   "cell_type": "markdown",
   "id": "cf8d470c",
   "metadata": {},
   "source": [
    "# HERANÇA EM PYTHON\n",
    "\n",
    "Um dos pilares da OO é a reutilização de código por meio da herança, que permite que uma classe-filha herde os recursos da classe-pai. Em Python, uma classe aceita múltiplas heranças, ou seja, herda recursos de diversas classes. A sintaxe para criar a herança é feita com parênteses após o nome da classe: class NomeClasseFilha(NomeClassePai). Se for uma herança múltipla, cada superclasse deve ser separada por vírgula."
   ]
  },
  {
   "cell_type": "code",
   "execution_count": 55,
   "id": "d553c4d2",
   "metadata": {},
   "outputs": [
    {
     "name": "stdout",
     "output_type": "stream",
     "text": [
      "Seu nome é:  José Gabriel\n",
      "Sua matrícula é:  123456\n",
      "Ponto batido com sucesso!\n"
     ]
    }
   ],
   "source": [
    "class Pessoa:\n",
    "    def __init__(self): #Aqui define os atributos que mudarão de acordo com as classes\n",
    "        self.cpf = None\n",
    "        self.nome = None\n",
    "        self.endereco = None\n",
    "        \n",
    "class Funcionario(Pessoa):\n",
    "    def __init__(self):\n",
    "        self.matricula = None\n",
    "        self.salario = None\n",
    "    \n",
    "    def bater_ponto(self, identificar):\n",
    "        self.matricula = identificar\n",
    "        print(\"Seu nome é: \", self.nome)\n",
    "        print(\"Sua matrícula é: \", self.matricula)\n",
    "        print(\"Ponto batido com sucesso!\")\n",
    "\n",
    "func = Funcionario()\n",
    "func.nome = \"José Gabriel\"\n",
    "func.bater_ponto(123456)"
   ]
  },
  {
   "cell_type": "markdown",
   "id": "e1d6c78b",
   "metadata": {},
   "source": [
    "# MÉTODOS MÁGICOS EM PYTHON\n",
    "\n",
    "Quando uma classe é criada em Python, ela herda, mesmo que não declarado explicitamente, todos os recursos de uma classe-base chamada object. Veja o resultado da função dir(), que retorna uma lista com os recursos de um objeto"
   ]
  },
  {
   "cell_type": "code",
   "execution_count": 56,
   "id": "1e0ca35b",
   "metadata": {},
   "outputs": [
    {
     "data": {
      "text/plain": [
       "['__class__',\n",
       " '__delattr__',\n",
       " '__dict__',\n",
       " '__dir__',\n",
       " '__doc__',\n",
       " '__eq__',\n",
       " '__format__',\n",
       " '__ge__',\n",
       " '__getattribute__',\n",
       " '__gt__',\n",
       " '__hash__',\n",
       " '__init__',\n",
       " '__init_subclass__',\n",
       " '__le__',\n",
       " '__lt__',\n",
       " '__module__',\n",
       " '__ne__',\n",
       " '__new__',\n",
       " '__reduce__',\n",
       " '__reduce_ex__',\n",
       " '__repr__',\n",
       " '__setattr__',\n",
       " '__sizeof__',\n",
       " '__str__',\n",
       " '__subclasshook__',\n",
       " '__weakref__',\n",
       " 'cpf',\n",
       " 'endereco',\n",
       " 'nome']"
      ]
     },
     "execution_count": 56,
     "metadata": {},
     "output_type": "execute_result"
    }
   ],
   "source": [
    "dir(Pessoa())"
   ]
  },
  {
   "cell_type": "markdown",
   "id": "899387de",
   "metadata": {},
   "source": [
    "# MÉTODO CONSTRUTOR NA HERANÇA E SOBRESCRITA\n",
    "\n",
    "Na herança, quando adicionamos a função __init__(), a classe-filho não herdará o construtor dos pais. Ou seja, o construtor da classe-filho sobrescreve (override) o da classe-pai. Para utilizar o construtor da classe-base, é necessário invocá-lo explicitamente, dentro do construtor-filho, da seguinte forma: ClassePai.__init__()."
   ]
  },
  {
   "cell_type": "code",
   "execution_count": 60,
   "id": "66a564dc",
   "metadata": {},
   "outputs": [
    {
     "name": "stdout",
     "output_type": "stream",
     "text": [
      "42\n",
      "42\n",
      "42\n"
     ]
    }
   ],
   "source": [
    "class int42(int):\n",
    "    \n",
    "    def __init__(self, n):\n",
    "        int.__init__(n)\n",
    "    \n",
    "    def __add__(a, b):\n",
    "        return 42\n",
    "    \n",
    "    def __str__(n):\n",
    "        return '42'\n",
    "\n",
    "a = int42(7)\n",
    "b = int42(13)\n",
    "print(a + b)\n",
    "print(a)\n",
    "print(b)"
   ]
  },
  {
   "cell_type": "markdown",
   "id": "6155e861",
   "metadata": {},
   "source": [
    "Ao sobrescrever os métodos mágicos, utilizamos outra importante técnica da OO, o **polimorfismo**. Essa técnica, vale dizer, pode ser utilizada em qualquer método, não somente nos mágicos. Construir métodos com diferentes comportamentos pode ser feito sobrescrevendo (override) ou sobrecarregando (overload) métodos. No primeiro caso, a classe-filho sobrescreve um método da classe-base, por exemplo, o construtor, ou qualquer outro método. No segundo caso, da sobrecarga, um método é escrito com diferentes assinaturas para suportar diferentes comportamentos."
   ]
  },
  {
   "cell_type": "markdown",
   "id": "0d841fe3",
   "metadata": {},
   "source": [
    "# HERANÇA MÚLTIPLA\n",
    "\n",
    "Python permite que uma classe-filha herde recursos de mais de uma superclasse. Para isso, basta declarar cada classe a ser herdada separada por vírgula."
   ]
  },
  {
   "cell_type": "code",
   "execution_count": 61,
   "id": "5fa76fc6",
   "metadata": {},
   "outputs": [
    {
     "name": "stdout",
     "output_type": "stream",
     "text": [
      "PCIEthernet é uma PCI? True\n",
      "PCIEthernet é uma Ethernet? True\n",
      "PCIEthernet é uma USB? False\n",
      "\n",
      "USBWireless é uma USB? True\n",
      "USBWireless é uma Wireless? True\n",
      "USBWireless é uma Ethernet? True\n",
      "USBWireless é uma PCI? False\n"
     ]
    }
   ],
   "source": [
    "class Ethernet():\n",
    "    def __init__(self, name, mac_address):\n",
    "        self.name = name\n",
    "        self.mac_address = mac_address\n",
    "\n",
    "        \n",
    "class PCI():\n",
    "    def __init__(self, bus, vendor):\n",
    "        self.bus = bus\n",
    "        self.vendor = vendor\n",
    "\n",
    "        \n",
    "class USB():\n",
    "    def __init__(self, device):\n",
    "        self.device = device\n",
    "\n",
    "\n",
    "class Wireless(Ethernet):\n",
    "    def __init__(self, name, mac_address):\n",
    "        Ethernet.__init__(self, name, mac_address)\n",
    "        \n",
    "        \n",
    "class PCIEthernet(PCI, Ethernet):\n",
    "    def __init__(self, bus, vendor, name, mac_address):\n",
    "        PCI.__init__(self, bus, vendor)\n",
    "        Ethernet.__init__(self, name, mac_address)\n",
    "\n",
    "        \n",
    "class USBWireless(USB, Wireless):\n",
    "    def __init__(self, device, name, mac_address):\n",
    "        USB.__init__(self, device)\n",
    "        Wireless.__init__(self, name, mac_address)\n",
    "\n",
    "        \n",
    "eth0 = PCIEthernet('pci :0:0:1', 'realtek', 'eth0', '00:11:22:33:44')\n",
    "wlan0 = USBWireless('usb0', 'wlan0', '00:33:44:55:66')\n",
    "\n",
    "\n",
    "print('PCIEthernet é uma PCI?', isinstance(eth0, PCI))\n",
    "print('PCIEthernet é uma Ethernet?', isinstance(eth0, Ethernet))\n",
    "print('PCIEthernet é uma USB?', isinstance(eth0, USB))\n",
    "\n",
    "print('\\nUSBWireless é uma USB?', isinstance(wlan0, USB))\n",
    "print('USBWireless é uma Wireless?', isinstance(wlan0, Wireless))\n",
    "print('USBWireless é uma Ethernet?', isinstance(wlan0, Ethernet))\n",
    "print('USBWireless é uma PCI?', isinstance(wlan0, PCI))"
   ]
  },
  {
   "cell_type": "code",
   "execution_count": null,
   "id": "8626049e",
   "metadata": {},
   "outputs": [],
   "source": []
  }
 ],
 "metadata": {
  "kernelspec": {
   "display_name": "Python 3 (ipykernel)",
   "language": "python",
   "name": "python3"
  },
  "language_info": {
   "codemirror_mode": {
    "name": "ipython",
    "version": 3
   },
   "file_extension": ".py",
   "mimetype": "text/x-python",
   "name": "python",
   "nbconvert_exporter": "python",
   "pygments_lexer": "ipython3",
   "version": "3.10.7"
  }
 },
 "nbformat": 4,
 "nbformat_minor": 5
}
