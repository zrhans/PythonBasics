{
 "cells": [
  {
   "cell_type": "markdown",
   "id": "edb2ea49",
   "metadata": {},
   "source": [
    "# Function em iterables\n",
    "\n",
    "### Segue a mesma lógica de list comprehension, mas é mais simples\n",
    "\n",
    "Basicamente alguns métodos e funções que já existem no Python podem rodar uma function para cada item, da mesma forma que fizemos com list comprehension.\n",
    "\n",
    "Isso pode ajudar a gente a resolver alguns desafios de forma mais simples\n",
    "\n",
    "Uma função que permite que a gente faça isso é a map function\n",
    "\n",
    "### map function"
   ]
  },
  {
   "cell_type": "raw",
   "id": "653919e7",
   "metadata": {},
   "source": [
    "O built-in map() executa uma função específica para cada item num iterável. O item é enviado como parâmetro para a função\n",
    "\n",
    "lista = list(map(função, iterable_original))\n",
    "\n",
    "Para saber mais: https://www.w3schools.com/python/ref_func_map.asp"
   ]
  },
  {
   "cell_type": "code",
   "execution_count": 2,
   "id": "1e717cc5",
   "metadata": {},
   "outputs": [],
   "source": [
    "def padronizar_texto(texto):\n",
    "    texto = texto.casefold()\n",
    "    texto = texto.replace(\"  \", \" \")\n",
    "    texto = texto.strip()\n",
    "    return texto"
   ]
  },
  {
   "cell_type": "code",
   "execution_count": 3,
   "id": "ae274cd4",
   "metadata": {},
   "outputs": [],
   "source": [
    "produtos = [' ABC12 ', 'abc34', 'AbC37', 'beb12', ' BSA151', 'BEB23']"
   ]
  },
  {
   "cell_type": "code",
   "execution_count": 5,
   "id": "37c86886",
   "metadata": {},
   "outputs": [
    {
     "name": "stdout",
     "output_type": "stream",
     "text": [
      "['abc12', 'abc34', 'abc37', 'beb12', 'bsa151', 'beb23']\n"
     ]
    }
   ],
   "source": [
    "#Executando a função usando o for\n",
    "for i, produto in enumerate(produtos):\n",
    "    produtos[i] = padronizar_texto(produto)\n",
    "    \n",
    "print(produtos)\n",
    "    "
   ]
  },
  {
   "cell_type": "code",
   "execution_count": 8,
   "id": "5584d941",
   "metadata": {},
   "outputs": [
    {
     "data": {
      "text/plain": [
       "[' ABC12 ', 'abc34', 'AbC37', 'beb12', ' BSA151', 'BEB23']"
      ]
     },
     "execution_count": 8,
     "metadata": {},
     "output_type": "execute_result"
    }
   ],
   "source": [
    "#Executando a função usando o map()\n",
    "produtos = [' ABC12 ', 'abc34', 'AbC37', 'beb12', ' BSA151', 'BEB23']\n",
    "produtos"
   ]
  },
  {
   "cell_type": "code",
   "execution_count": 9,
   "id": "59f61ae7",
   "metadata": {},
   "outputs": [
    {
     "data": {
      "text/plain": [
       "['abc12', 'abc34', 'abc37', 'beb12', 'bsa151', 'beb23']"
      ]
     },
     "execution_count": 9,
     "metadata": {},
     "output_type": "execute_result"
    }
   ],
   "source": [
    "produtos_map = list(map(padronizar_texto, produtos))\n",
    "produtos_map"
   ]
  },
  {
   "cell_type": "markdown",
   "id": "f648a263",
   "metadata": {},
   "source": [
    "# Lambda Expressions\n",
    "\n",
    "### Objetivo:\n",
    "\n",
    "- As lambdas expressions são funções anônimas (sem nome mesmo) que tem 1 linha de código e são atribuidas a uma variável, como se a variável virasse uma função.\n",
    "- Elas normalmente são usadas para fazer uma única ação, mas em Python usamos principalmente dentro de métodos como argumento, para não precisarmos criar uma função só para isso\n",
    "- Outra aplicação delas está em criar um \"gerador de funções\"\n",
    "\n",
    "### Obs\n",
    "\n",
    "- Não é \"obrigatório\" usar lambda expression, até porque praticamente tudo o que você faz com elas você consegue fazer com functions normais. Mas, é importante saber entender quando encontrar e saber usar a medida que você for se acostumando e vendo necessidade\n",
    "\n",
    "### Aplicação\n",
    "\n",
    "- Na maioria das vezes, a função lambda é aplicada dentro de outras funções.\n",
    "\n",
    "### Estrutura:"
   ]
  },
  {
   "cell_type": "raw",
   "id": "6434f9f1",
   "metadata": {},
   "source": [
    "minha_funcao = lambda parametro: expressão"
   ]
  },
  {
   "cell_type": "code",
   "execution_count": 10,
   "id": "fb9134f4",
   "metadata": {},
   "outputs": [
    {
     "name": "stdout",
     "output_type": "stream",
     "text": [
      "4\n"
     ]
    }
   ],
   "source": [
    "#Função comum\n",
    "def minha_funcao(num):\n",
    "    return num * 2\n",
    "\n",
    "print(minha_funcao(2))"
   ]
  },
  {
   "cell_type": "code",
   "execution_count": 12,
   "id": "290aa678",
   "metadata": {},
   "outputs": [
    {
     "name": "stdout",
     "output_type": "stream",
     "text": [
      "4\n"
     ]
    }
   ],
   "source": [
    "#Função usando o lambda\n",
    "minha_funcao2 = lambda num: num * 2\n",
    "print(minha_funcao2(2))"
   ]
  },
  {
   "cell_type": "markdown",
   "id": "24050a18",
   "metadata": {},
   "source": [
    "### Utilizando o lambda dentro da função map()"
   ]
  },
  {
   "cell_type": "code",
   "execution_count": 14,
   "id": "0ddd4b0e",
   "metadata": {},
   "outputs": [],
   "source": [
    "preco_tecnologia = {'notebook asus': 2450, 'iphone': 4500, 'samsung galaxy': 3000, 'tv samsung': 1000, 'ps5': 3000, 'tablet': 1000, 'notebook dell': 3000, 'ipad': 3000, 'tv philco': 800, 'notebook hp': 1700}"
   ]
  },
  {
   "cell_type": "code",
   "execution_count": 16,
   "id": "54f2b912",
   "metadata": {},
   "outputs": [
    {
     "data": {
      "text/plain": [
       "[3062.5,\n",
       " 5625.0,\n",
       " 3750.0,\n",
       " 1250.0,\n",
       " 3750.0,\n",
       " 1250.0,\n",
       " 3750.0,\n",
       " 3750.0,\n",
       " 1000.0,\n",
       " 2125.0]"
      ]
     },
     "execution_count": 16,
     "metadata": {},
     "output_type": "execute_result"
    }
   ],
   "source": [
    "#Utilizando o map() com uma função normal\n",
    "#Imposto é roubo!\n",
    "def calcula_imposto(preco):\n",
    "    return preco * 1.25\n",
    "    \n",
    "preco_com_imposto = list(map(calcula_imposto, preco_tecnologia.values()))\n",
    "preco_com_imposto"
   ]
  },
  {
   "cell_type": "code",
   "execution_count": 19,
   "id": "e5bf3681",
   "metadata": {},
   "outputs": [
    {
     "data": {
      "text/plain": [
       "[3062.5,\n",
       " 5625.0,\n",
       " 3750.0,\n",
       " 1250.0,\n",
       " 3750.0,\n",
       " 1250.0,\n",
       " 3750.0,\n",
       " 3750.0,\n",
       " 1000.0,\n",
       " 2125.0]"
      ]
     },
     "execution_count": 19,
     "metadata": {},
     "output_type": "execute_result"
    }
   ],
   "source": [
    "#Utilizando a função lambda\n",
    "preco_com_imposto2 = list(map(lambda preco: preco * 1.25, preco_tecnologia.values()))\n",
    "preco_com_imposto2"
   ]
  },
  {
   "cell_type": "markdown",
   "id": "a24d8215",
   "metadata": {},
   "source": [
    "### Utilizando o lambda dentro da função filter()"
   ]
  },
  {
   "cell_type": "raw",
   "id": "451630f8",
   "metadata": {},
   "source": [
    "filter(função, iterable) -> retorna como resposta todos os itens do iterable onde a função é True\n",
    "\n",
    "\n",
    "Retorne valores acima de 2000 do dicionário preco_tecnologia"
   ]
  },
  {
   "cell_type": "code",
   "execution_count": 23,
   "id": "4b393a50",
   "metadata": {},
   "outputs": [
    {
     "data": {
      "text/plain": [
       "{'notebook asus': 2450,\n",
       " 'iphone': 4500,\n",
       " 'samsung galaxy': 3000,\n",
       " 'ps5': 3000,\n",
       " 'notebook dell': 3000,\n",
       " 'ipad': 3000}"
      ]
     },
     "execution_count": 23,
     "metadata": {},
     "output_type": "execute_result"
    }
   ],
   "source": [
    "#Utilizando função normal\n",
    "def ehmaior(item):\n",
    "    return item[1] > 2000\n",
    "\n",
    "\n",
    "valores = dict(list(filter(ehmaior, preco_tecnologia.items())))\n",
    "valores\n"
   ]
  },
  {
   "cell_type": "code",
   "execution_count": 24,
   "id": "57db8472",
   "metadata": {},
   "outputs": [
    {
     "data": {
      "text/plain": [
       "{'notebook asus': 2450,\n",
       " 'iphone': 4500,\n",
       " 'samsung galaxy': 3000,\n",
       " 'ps5': 3000,\n",
       " 'notebook dell': 3000,\n",
       " 'ipad': 3000}"
      ]
     },
     "execution_count": 24,
     "metadata": {},
     "output_type": "execute_result"
    }
   ],
   "source": [
    "#Utilizando a função lambda\n",
    "valores2 = dict(list(filter(lambda item: item[1] > 2000, preco_tecnologia.items())))\n",
    "valores2"
   ]
  },
  {
   "cell_type": "code",
   "execution_count": null,
   "id": "cb979620",
   "metadata": {},
   "outputs": [],
   "source": []
  }
 ],
 "metadata": {
  "kernelspec": {
   "display_name": "Python 3 (ipykernel)",
   "language": "python",
   "name": "python3"
  },
  "language_info": {
   "codemirror_mode": {
    "name": "ipython",
    "version": 3
   },
   "file_extension": ".py",
   "mimetype": "text/x-python",
   "name": "python",
   "nbconvert_exporter": "python",
   "pygments_lexer": "ipython3",
   "version": "3.10.7"
  }
 },
 "nbformat": 4,
 "nbformat_minor": 5
}
