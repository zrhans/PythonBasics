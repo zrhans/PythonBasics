{
 "cells": [
  {
   "cell_type": "markdown",
   "id": "b41c9751",
   "metadata": {},
   "source": [
    "# Dicionário\n",
    "\n",
    "É um tipo de estrutura de dados representado por {}.\n",
    "\n",
    "dicionario = {}\n",
    "\n",
    "dicionario = {\"chave1\":\"valor1\", \"chave2\":\"valor2\", ..., \"chaveN\":\"valorN\"}\n",
    "\n",
    "São muito úteis para organizar e trabalhar dados por conter chaves únicas(estrutura parecida com JSON).\n",
    "\n",
    "Os valores podem ser acessados ou por chave,  ou pelo próprio valor. dicionario['chave']\n",
    "\n",
    "Sempre use as chaves para pegar um valor.\n",
    "\n",
    "Pode ser adicionado valores apenas criando uma nova chave. dicionario['nova_chave'] = novo_valor\n",
    "\n",
    "Chave, valor e item(que é a chave e o valor)\n",
    "\n",
    "Para saber mai: https://docs.python.org/3/tutorial/datastructures.html#dictionaries\n",
    "\n"
   ]
  },
  {
   "cell_type": "code",
   "execution_count": 5,
   "id": "adc719f1",
   "metadata": {},
   "outputs": [],
   "source": [
    "mais_vendidos = {\"tecnologia\":\"Iphone\", \"musica\":\"Guitarra\", \"livros\":\"O poder do Hábito\"}\n",
    "qnt_vendas = {\"tecnologia\":100, \"musica\":300, \"livros\":1500}"
   ]
  },
  {
   "cell_type": "code",
   "execution_count": 6,
   "id": "7f2c46ce",
   "metadata": {},
   "outputs": [
    {
     "data": {
      "text/plain": [
       "{'tecnologia': 'Iphone', 'musica': 'Guitarra', 'livros': 'O poder do Hábito'}"
      ]
     },
     "execution_count": 6,
     "metadata": {},
     "output_type": "execute_result"
    }
   ],
   "source": [
    "mais_vendidos"
   ]
  },
  {
   "cell_type": "code",
   "execution_count": 7,
   "id": "a467f54d",
   "metadata": {},
   "outputs": [
    {
     "data": {
      "text/plain": [
       "{'tecnologia': 100, 'musica': 300, 'livros': 1500}"
      ]
     },
     "execution_count": 7,
     "metadata": {},
     "output_type": "execute_result"
    }
   ],
   "source": [
    "qnt_vendas"
   ]
  },
  {
   "cell_type": "code",
   "execution_count": 8,
   "id": "bcb25db6",
   "metadata": {},
   "outputs": [
    {
     "data": {
      "text/plain": [
       "'Iphone'"
      ]
     },
     "execution_count": 8,
     "metadata": {},
     "output_type": "execute_result"
    }
   ],
   "source": [
    "mais_vendidos['tecnologia']"
   ]
  },
  {
   "cell_type": "code",
   "execution_count": 9,
   "id": "0cf51ea6",
   "metadata": {},
   "outputs": [
    {
     "data": {
      "text/plain": [
       "100"
      ]
     },
     "execution_count": 9,
     "metadata": {},
     "output_type": "execute_result"
    }
   ],
   "source": [
    "qnt_vendas['tecnologia']"
   ]
  },
  {
   "cell_type": "markdown",
   "id": "c2cc65bf",
   "metadata": {},
   "source": [
    "## Métodos de dicionário"
   ]
  },
  {
   "cell_type": "markdown",
   "id": "1eca6aa9",
   "metadata": {},
   "source": [
    "### Items\n",
    "\n",
    "Retorna chave e valor do dicionário dentro de uma tupla"
   ]
  },
  {
   "cell_type": "code",
   "execution_count": 37,
   "id": "1a0a3b12",
   "metadata": {},
   "outputs": [
    {
     "data": {
      "text/plain": [
       "dict_items([('tecnologia', 'Iphone'), ('musica', 'Guitarra'), ('livros', 'O poder do Hábito')])"
      ]
     },
     "execution_count": 37,
     "metadata": {},
     "output_type": "execute_result"
    }
   ],
   "source": [
    "mais_vendidos.items()"
   ]
  },
  {
   "cell_type": "code",
   "execution_count": 38,
   "id": "5b8b4999",
   "metadata": {},
   "outputs": [
    {
     "data": {
      "text/plain": [
       "dict_items([('tecnologia', 100), ('musica', 300), ('livros', 1500)])"
      ]
     },
     "execution_count": 38,
     "metadata": {},
     "output_type": "execute_result"
    }
   ],
   "source": [
    "qnt_vendas.items()"
   ]
  },
  {
   "cell_type": "markdown",
   "id": "7e6d2fdc",
   "metadata": {},
   "source": [
    "### Keys e Values\n",
    "\n",
    ".keys() -> Retorna uma \"lista\" com as chaves\n",
    "\n",
    ".values() -> Retorna uma \"lista\" com os valores"
   ]
  },
  {
   "cell_type": "code",
   "execution_count": 41,
   "id": "33c1e9b8",
   "metadata": {},
   "outputs": [
    {
     "data": {
      "text/plain": [
       "dict_keys(['tecnologia', 'musica', 'livros'])"
      ]
     },
     "execution_count": 41,
     "metadata": {},
     "output_type": "execute_result"
    }
   ],
   "source": [
    "mais_vendidos.keys()"
   ]
  },
  {
   "cell_type": "code",
   "execution_count": 42,
   "id": "9adb884f",
   "metadata": {},
   "outputs": [
    {
     "data": {
      "text/plain": [
       "dict_values(['Iphone', 'Guitarra', 'O poder do Hábito'])"
      ]
     },
     "execution_count": 42,
     "metadata": {},
     "output_type": "execute_result"
    }
   ],
   "source": [
    "mais_vendidos.values()"
   ]
  },
  {
   "cell_type": "code",
   "execution_count": 43,
   "id": "e0d01c84",
   "metadata": {},
   "outputs": [
    {
     "data": {
      "text/plain": [
       "dict_keys(['tecnologia', 'musica', 'livros'])"
      ]
     },
     "execution_count": 43,
     "metadata": {},
     "output_type": "execute_result"
    }
   ],
   "source": [
    "qnt_vendas.keys()"
   ]
  },
  {
   "cell_type": "code",
   "execution_count": 45,
   "id": "23ca21be",
   "metadata": {},
   "outputs": [
    {
     "data": {
      "text/plain": [
       "dict_values([100, 300, 1500])"
      ]
     },
     "execution_count": 45,
     "metadata": {},
     "output_type": "execute_result"
    }
   ],
   "source": [
    "qnt_vendas.values()"
   ]
  },
  {
   "cell_type": "code",
   "execution_count": 46,
   "id": "ee6edd47",
   "metadata": {},
   "outputs": [
    {
     "data": {
      "text/plain": [
       "['tecnologia', 'musica', 'livros']"
      ]
     },
     "execution_count": 46,
     "metadata": {},
     "output_type": "execute_result"
    }
   ],
   "source": [
    "#Utilzando o método list\n",
    "list(mais_vendidos.keys())"
   ]
  },
  {
   "cell_type": "code",
   "execution_count": 47,
   "id": "5d71d3cb",
   "metadata": {},
   "outputs": [
    {
     "data": {
      "text/plain": [
       "['Iphone', 'Guitarra', 'O poder do Hábito']"
      ]
     },
     "execution_count": 47,
     "metadata": {},
     "output_type": "execute_result"
    }
   ],
   "source": [
    "list(mais_vendidos.values())"
   ]
  },
  {
   "cell_type": "markdown",
   "id": "ae8d9fe6",
   "metadata": {},
   "source": [
    "### Utilizando o GET para acessar o valor"
   ]
  },
  {
   "cell_type": "code",
   "execution_count": 10,
   "id": "f294fcc0",
   "metadata": {},
   "outputs": [
    {
     "data": {
      "text/plain": [
       "300"
      ]
     },
     "execution_count": 10,
     "metadata": {},
     "output_type": "execute_result"
    }
   ],
   "source": [
    "qnt_vendas.get(\"musica\")"
   ]
  },
  {
   "cell_type": "code",
   "execution_count": 11,
   "id": "44fa1570",
   "metadata": {},
   "outputs": [
    {
     "data": {
      "text/plain": [
       "100"
      ]
     },
     "execution_count": 11,
     "metadata": {},
     "output_type": "execute_result"
    }
   ],
   "source": [
    "qnt_vendas.get(\"tecnologia\")"
   ]
  },
  {
   "cell_type": "code",
   "execution_count": 12,
   "id": "b5a3fb18",
   "metadata": {},
   "outputs": [
    {
     "data": {
      "text/plain": [
       "'Guitarra'"
      ]
     },
     "execution_count": 12,
     "metadata": {},
     "output_type": "execute_result"
    }
   ],
   "source": [
    "mais_vendidos.get(\"musica\")"
   ]
  },
  {
   "cell_type": "code",
   "execution_count": 13,
   "id": "514e5e45",
   "metadata": {},
   "outputs": [
    {
     "data": {
      "text/plain": [
       "'Iphone'"
      ]
     },
     "execution_count": 13,
     "metadata": {},
     "output_type": "execute_result"
    }
   ],
   "source": [
    "mais_vendidos.get(\"tecnologia\")"
   ]
  },
  {
   "cell_type": "markdown",
   "id": "77d8f0ad",
   "metadata": {},
   "source": [
    "### Iterando sobre o dicionário"
   ]
  },
  {
   "cell_type": "raw",
   "id": "809bf0c6",
   "metadata": {},
   "source": [
    "if item in dicionário:\n",
    "    <código>\n",
    "    \n",
    "o iterador sempre vai percorrer as chaves do dicionário"
   ]
  },
  {
   "cell_type": "code",
   "execution_count": 14,
   "id": "05fc4f4d",
   "metadata": {},
   "outputs": [
    {
     "name": "stdout",
     "output_type": "stream",
     "text": [
      "Existe\n"
     ]
    }
   ],
   "source": [
    "if 'musica' in qnt_vendas:\n",
    "    print(\"Existe\")\n",
    "else:\n",
    "    print(\"Não existe\")"
   ]
  },
  {
   "cell_type": "code",
   "execution_count": 15,
   "id": "cc395ef7",
   "metadata": {},
   "outputs": [
    {
     "name": "stdout",
     "output_type": "stream",
     "text": [
      "Não existe\n"
     ]
    }
   ],
   "source": [
    "if 'geladeira' in qnt_vendas:\n",
    "    print(\"Existe\")\n",
    "else:\n",
    "    print(\"Não existe\")"
   ]
  },
  {
   "cell_type": "code",
   "execution_count": 16,
   "id": "28cd6791",
   "metadata": {},
   "outputs": [
    {
     "name": "stdout",
     "output_type": "stream",
     "text": [
      "Existe\n"
     ]
    }
   ],
   "source": [
    "if qnt_vendas['musica'] == None:\n",
    "    print(\"Não existe\")\n",
    "else:\n",
    "    print(\"Existe\")"
   ]
  },
  {
   "cell_type": "code",
   "execution_count": 20,
   "id": "65778420",
   "metadata": {},
   "outputs": [
    {
     "name": "stdout",
     "output_type": "stream",
     "text": [
      "Não existe\n"
     ]
    }
   ],
   "source": [
    "if qnt_vendas.get('geladeira') == None:\n",
    "    print(\"Não existe\")\n",
    "else:\n",
    "    print(\"Existe\")"
   ]
  },
  {
   "cell_type": "markdown",
   "id": "ce165aae",
   "metadata": {},
   "source": [
    "## Adicionar, Removar e Modificar dicionários"
   ]
  },
  {
   "cell_type": "code",
   "execution_count": 23,
   "id": "08c989fe",
   "metadata": {},
   "outputs": [
    {
     "data": {
      "text/plain": [
       "{'Janeiro': 5000, 'Fevereiro': 8000, 'Março': 2000}"
      ]
     },
     "execution_count": 23,
     "metadata": {},
     "output_type": "execute_result"
    }
   ],
   "source": [
    "#criando\n",
    "lucro_robo = {'Janeiro': 5000, 'Fevereiro': 8000, 'Março': 2000}\n",
    "lucro_robo"
   ]
  },
  {
   "cell_type": "code",
   "execution_count": 24,
   "id": "e52fd90a",
   "metadata": {},
   "outputs": [
    {
     "data": {
      "text/plain": [
       "{'Janeiro': 3000, 'Fevereiro': 8000, 'Março': 2000}"
      ]
     },
     "execution_count": 24,
     "metadata": {},
     "output_type": "execute_result"
    }
   ],
   "source": [
    "#modificando\n",
    "lucro_robo['Janeiro'] = 3000\n",
    "lucro_robo"
   ]
  },
  {
   "cell_type": "markdown",
   "id": "3d1d876c",
   "metadata": {},
   "source": [
    "### Adicionando"
   ]
  },
  {
   "cell_type": "code",
   "execution_count": 25,
   "id": "e8659ed1",
   "metadata": {},
   "outputs": [
    {
     "data": {
      "text/plain": [
       "{'Janeiro': 3000, 'Fevereiro': 8000, 'Março': 2000, 'Abril': 2500}"
      ]
     },
     "execution_count": 25,
     "metadata": {},
     "output_type": "execute_result"
    }
   ],
   "source": [
    "#adicionando\n",
    "lucro_robo['Abril'] = 2500\n",
    "lucro_robo"
   ]
  },
  {
   "cell_type": "code",
   "execution_count": 26,
   "id": "8fb33cf4",
   "metadata": {},
   "outputs": [
    {
     "data": {
      "text/plain": [
       "{'Maio': 1000, 'Junho': 8000, 'Julho': 1800, 'Agosto': 7000}"
      ]
     },
     "execution_count": 26,
     "metadata": {},
     "output_type": "execute_result"
    }
   ],
   "source": [
    "lucro_robo2 = {'Maio': 1000, 'Junho': 8000, 'Julho': 1800, 'Agosto': 7000}\n",
    "lucro_robo2"
   ]
  },
  {
   "cell_type": "code",
   "execution_count": 27,
   "id": "57244a3b",
   "metadata": {},
   "outputs": [
    {
     "data": {
      "text/plain": [
       "{'Janeiro': 3000,\n",
       " 'Fevereiro': 8000,\n",
       " 'Março': 2000,\n",
       " 'Abril': 2500,\n",
       " 'Maio': 1000,\n",
       " 'Junho': 8000,\n",
       " 'Julho': 1800,\n",
       " 'Agosto': 7000}"
      ]
     },
     "execution_count": 27,
     "metadata": {},
     "output_type": "execute_result"
    }
   ],
   "source": [
    "#Adicionando com o método update()\n",
    "lucro_robo.update(lucro_robo2)\n",
    "lucro_robo"
   ]
  },
  {
   "cell_type": "markdown",
   "id": "aa6739ec",
   "metadata": {},
   "source": [
    "### Deletando\n"
   ]
  },
  {
   "cell_type": "raw",
   "id": "a741a521",
   "metadata": {},
   "source": [
    "O método del vai deletar um item do dicionário\n",
    "O método pop vai remover um item, tendo a possibilidade de salvar em outra variável"
   ]
  },
  {
   "cell_type": "code",
   "execution_count": 28,
   "id": "5a3a8d90",
   "metadata": {},
   "outputs": [
    {
     "data": {
      "text/plain": [
       "{'Janeiro': 3000,\n",
       " 'Fevereiro': 8000,\n",
       " 'Março': 2000,\n",
       " 'Abril': 2500,\n",
       " 'Maio': 1000,\n",
       " 'Junho': 8000,\n",
       " 'Julho': 1800}"
      ]
     },
     "execution_count": 28,
     "metadata": {},
     "output_type": "execute_result"
    }
   ],
   "source": [
    "del lucro_robo['Agosto']\n",
    "lucro_robo"
   ]
  },
  {
   "cell_type": "code",
   "execution_count": 29,
   "id": "67baa36a",
   "metadata": {},
   "outputs": [
    {
     "data": {
      "text/plain": [
       "1800"
      ]
     },
     "execution_count": 29,
     "metadata": {},
     "output_type": "execute_result"
    }
   ],
   "source": [
    "variavel_excluida = lucro_robo.pop('Julho')\n",
    "variavel_excluida"
   ]
  },
  {
   "cell_type": "markdown",
   "id": "efeaab64",
   "metadata": {},
   "source": [
    "## Iterando sobre o dicionário utilizando o FOR\n",
    "\n",
    "for chave in dicionario\n",
    "\n",
    "    ou\n",
    "    \n",
    "for chave, valor in dicionario.items()\n"
   ]
  },
  {
   "cell_type": "code",
   "execution_count": 30,
   "id": "5bece102",
   "metadata": {},
   "outputs": [
    {
     "name": "stdout",
     "output_type": "stream",
     "text": [
      "Janeiro\n",
      "Fevereiro\n",
      "Março\n",
      "Abril\n",
      "Maio\n",
      "Junho\n"
     ]
    }
   ],
   "source": [
    "for chave in lucro_robo:\n",
    "    print(chave)"
   ]
  },
  {
   "cell_type": "code",
   "execution_count": 32,
   "id": "4c42236a",
   "metadata": {},
   "outputs": [
    {
     "name": "stdout",
     "output_type": "stream",
     "text": [
      "Lucro do mês de Janeiro: US$3000\n",
      "Lucro do mês de Fevereiro: US$8000\n",
      "Lucro do mês de Março: US$2000\n",
      "Lucro do mês de Abril: US$2500\n",
      "Lucro do mês de Maio: US$1000\n",
      "Lucro do mês de Junho: US$8000\n"
     ]
    }
   ],
   "source": [
    "for chave in lucro_robo:\n",
    "    print(f\"Lucro do mês de {chave}: US${lucro_robo[chave]}\")"
   ]
  },
  {
   "cell_type": "code",
   "execution_count": 34,
   "id": "7a719396",
   "metadata": {},
   "outputs": [
    {
     "name": "stdout",
     "output_type": "stream",
     "text": [
      "O lucro total foi de: US$24500\n"
     ]
    }
   ],
   "source": [
    "lucro_total = 0\n",
    "for chave in lucro_robo:\n",
    "    lucro_total += lucro_robo[chave]\n",
    "\n",
    "print(f\"O lucro total foi de: US${lucro_total}\")"
   ]
  },
  {
   "cell_type": "code",
   "execution_count": 36,
   "id": "d0b598f7",
   "metadata": {},
   "outputs": [
    {
     "name": "stdout",
     "output_type": "stream",
     "text": [
      "O lucro foi de: US$2000\n"
     ]
    }
   ],
   "source": [
    "#Lucro apenas de um mês específico\n",
    "for chave in lucro_robo:\n",
    "    if chave == \"Março\":\n",
    "        lucro_mes = lucro_robo[chave]\n",
    "\n",
    "print(f\"O lucro foi de: US${lucro_mes}\")\n"
   ]
  },
  {
   "cell_type": "code",
   "execution_count": 40,
   "id": "cb6bde85",
   "metadata": {},
   "outputs": [
    {
     "name": "stdout",
     "output_type": "stream",
     "text": [
      "No mês de Janeiro o lucro foi de US$ 3000\n",
      "No mês de Fevereiro o lucro foi de US$ 8000\n",
      "No mês de Março o lucro foi de US$ 2000\n",
      "No mês de Abril o lucro foi de US$ 2500\n",
      "No mês de Maio o lucro foi de US$ 1000\n",
      "No mês de Junho o lucro foi de US$ 8000\n"
     ]
    }
   ],
   "source": [
    "for chave, valor in lucro_robo.items():\n",
    "    print(f\"No mês de {chave} o lucro foi de US$ {valor}\")"
   ]
  },
  {
   "cell_type": "markdown",
   "id": "2e479807",
   "metadata": {},
   "source": [
    "## Transformando listas em dicionários\n",
    "\n",
    "dicionario = dict.fromKeys(lista_chave, valor_padrão)\n",
    "\n",
    "ou\n",
    "\n",
    "dicionario = dict.fromkeys(lista_tupla)\n",
    "\n",
    "o método zip() agrega tuplas."
   ]
  },
  {
   "cell_type": "code",
   "execution_count": 62,
   "id": "7b8eaf91",
   "metadata": {},
   "outputs": [],
   "source": [
    "produtos = ['PS5', 'Iphone', 'Notebook', 'Guitarra']\n",
    "preco = [3000, 2000, 5000, 1500]"
   ]
  },
  {
   "cell_type": "code",
   "execution_count": 63,
   "id": "d18cdb9b",
   "metadata": {},
   "outputs": [
    {
     "data": {
      "text/plain": [
       "{'PS5': 0, 'Iphone': 0, 'Notebook': 0, 'Guitarra': 0}"
      ]
     },
     "execution_count": 63,
     "metadata": {},
     "output_type": "execute_result"
    }
   ],
   "source": [
    "dic_prod = dict.fromkeys(produtos, 0)\n",
    "dic_prod"
   ]
  },
  {
   "cell_type": "code",
   "execution_count": 64,
   "id": "f1628b6e",
   "metadata": {},
   "outputs": [
    {
     "name": "stdout",
     "output_type": "stream",
     "text": [
      "('PS5', 3000)\n",
      "('Iphone', 2000)\n",
      "('Notebook', 5000)\n",
      "('Guitarra', 1500)\n"
     ]
    }
   ],
   "source": [
    "lista_tuplas = zip(produtos, preco)\n",
    "for item in lista_tuplas:\n",
    "    print(item)"
   ]
  },
  {
   "cell_type": "code",
   "execution_count": 65,
   "id": "8443820a",
   "metadata": {},
   "outputs": [
    {
     "data": {
      "text/plain": [
       "{}"
      ]
     },
     "execution_count": 65,
     "metadata": {},
     "output_type": "execute_result"
    }
   ],
   "source": [
    "dic_vendas = dict(lista_tuplas)\n",
    "dic_vendas"
   ]
  },
  {
   "cell_type": "code",
   "execution_count": null,
   "id": "77d8cc63",
   "metadata": {},
   "outputs": [],
   "source": []
  }
 ],
 "metadata": {
  "kernelspec": {
   "display_name": "Python 3 (ipykernel)",
   "language": "python",
   "name": "python3"
  },
  "language_info": {
   "codemirror_mode": {
    "name": "ipython",
    "version": 3
   },
   "file_extension": ".py",
   "mimetype": "text/x-python",
   "name": "python",
   "nbconvert_exporter": "python",
   "pygments_lexer": "ipython3",
   "version": "3.10.7"
  }
 },
 "nbformat": 4,
 "nbformat_minor": 5
}
