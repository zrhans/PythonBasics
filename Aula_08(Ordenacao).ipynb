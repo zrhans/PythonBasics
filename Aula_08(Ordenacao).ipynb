{
 "cells": [
  {
   "cell_type": "code",
   "execution_count": 4,
   "id": "3323dad8",
   "metadata": {},
   "outputs": [
    {
     "name": "stdout",
     "output_type": "stream",
     "text": [
      "lista =  [-3, 1, 4, 10, 15] \n",
      "\n",
      "lista_ordenada1 =  [-3, 1, 4, 10, 15]\n",
      "lista_ordenada2 =  None\n",
      "Lista =  [-3, 1, 4, 10, 15]\n"
     ]
    }
   ],
   "source": [
    "lista = [10, 4, 1, 15, -3]\n",
    "\n",
    "lista_ordenada1 = sorted(lista)#sorted() - Built-in que cria uma nova lista para ordenar e a retorna\n",
    "lista_ordenada2 = lista.sort()#sort() - Built-in não cria uma nova lista, uma vez que faz a ordenação \"inplace\" \n",
    "#(ou seja, dentro da própria lista passada como parâmetro)\n",
    "\n",
    "print('lista = ', lista, '\\n')\n",
    "print('lista_ordenada1 = ', lista_ordenada1)\n",
    "print('lista_ordenada2 = ', lista_ordenada2)\n",
    "print('Lista = ', lista)"
   ]
  },
  {
   "cell_type": "code",
   "execution_count": 5,
   "id": "d2983b54",
   "metadata": {},
   "outputs": [
    {
     "name": "stdout",
     "output_type": "stream",
     "text": [
      "[4, 7]\n"
     ]
    }
   ],
   "source": [
    "lista = [7, 4]\n",
    "\n",
    "if lista[0] > lista[1]:\n",
    "    aux = lista[1] #aux recebe o menor item\n",
    "    lista[1] = lista[0] #Posição 2 da lista recebe o maior item\n",
    "    lista[0] = aux #Posição 1 da lista recebe o menor item\n",
    "    \n",
    "print(lista)"
   ]
  },
  {
   "cell_type": "code",
   "execution_count": null,
   "id": "39da3810",
   "metadata": {},
   "outputs": [],
   "source": [
    "#atribuição feita de maneira posicional: \n",
    "#o primeiro valor após o sinal de igualdade vai para a primeira variável, e assim por diante.\n",
    "\n",
    "lista = [5, -1]\n",
    "\n",
    "if lista[0] > lista[1]:\n",
    "    lista[0], lista[1] = lista[1], lista[0]\n",
    "\n",
    "print(lista)"
   ]
  },
  {
   "cell_type": "markdown",
   "id": "4aec7bb9",
   "metadata": {},
   "source": [
    "# Complexidade O(N2)\n",
    "\n",
    "Neste grupo estão os algoritmos **selection sort, bubble sort e insertion sort**. Esses algoritmos são lentos para ordenação de grandes listas, porém são mais intuitivos de entender e possuem uma codificação mais simples."
   ]
  },
  {
   "cell_type": "markdown",
   "id": "09131cdb",
   "metadata": {},
   "source": [
    "# SELECTION SORT (ORDENAÇÃO POR SELEÇÃO)\n",
    "\n",
    "Recebe esse nome, porque faz a ordenação sempre escolhendo o menor valor para ocupar uma determinada posição\n",
    "\n",
    "Iteração 1: percorre toda a lista, procurando o menor valor para ocupar a posição 0.\n",
    "\n",
    "Iteração 2: a partir da posição 1, percorre toda a lista, procurando o menor valor para ocupar a posição 1.\n",
    "\n",
    "Iteração 3: a partir da posição 2, percorre toda a lista, procurando o menor valor para ocupar a posição 2.\n",
    "\n",
    "Esse processo é repetido N-1 vezes, sendo N o tamanho da lista.\n"
   ]
  },
  {
   "cell_type": "code",
   "execution_count": 6,
   "id": "73a94264",
   "metadata": {},
   "outputs": [
    {
     "data": {
      "text/plain": [
       "[-1, 3, 5, 8, 9, 10, 11]"
      ]
     },
     "execution_count": 6,
     "metadata": {},
     "output_type": "execute_result"
    }
   ],
   "source": [
    "def executar_selection_sort(lista):\n",
    "    n = len(lista)\n",
    "    \n",
    "    for i in range(0, n): #i é a posição onde quero inserir o menor valor ()\n",
    "        index_menor = i\n",
    "        for j in range(i+1, n): #j é usado para encontrar o elemento a ser inserido \n",
    "            if lista[j] < lista[index_menor]:\n",
    "                index_menor = j\n",
    "        lista[i], lista[index_menor] = lista[index_menor], lista[i]\n",
    "    return lista\n",
    "\n",
    "\n",
    "lista = [10, 9, 5, 8, 11, -1, 3]\n",
    "executar_selection_sort(lista)"
   ]
  },
  {
   "cell_type": "code",
   "execution_count": 12,
   "id": "0b6f0c94",
   "metadata": {},
   "outputs": [
    {
     "data": {
      "text/plain": [
       "[-1, 3, 5, 8, 9, 10, 11]"
      ]
     },
     "execution_count": 12,
     "metadata": {},
     "output_type": "execute_result"
    }
   ],
   "source": [
    "def executar_selection_sort_2(lista):\n",
    "    lista_ordenada = []\n",
    "    while lista:\n",
    "        minimo = min(lista)\n",
    "        lista_ordenada.append(minimo)\n",
    "        lista.remove(minimo)\n",
    "    return lista_ordenada\n",
    "\n",
    "\n",
    "lista = [10, 9, 5, 8, 11, -1, 3]\n",
    "executar_selection_sort_2(lista)"
   ]
  },
  {
   "cell_type": "markdown",
   "id": "a55a7f8b",
   "metadata": {},
   "source": [
    "# BUBBLE SORT (ORDENAÇÃO POR \"BOLHA\")\n",
    "\n",
    "O algoritmo bubble sort (algoritmo da bolha) recebe esse nome porque faz a ordenação sempre a partir do ínicio da lista, comparando um valor com seu vizinho.\n",
    "\n",
    "Iteração 1: seleciona o valor na posição 0 e o compara com seu vizinho – se for menor, há troca; se não for, seleciona o próximo e compara, repentindo o processo.\n",
    "\n",
    "Iteração 2: seleciona o valor na posição 0 e compara ele com seu vizinho, se for menor troca, senão seleciona o próximo e compara, repentindo o processo.\n",
    "\n",
    "Iteração N - 1: seleciona o valor na posição 0 e o compara com seu vizinho – se for menor, há troca; se não for, seleciona o próximo e compara, repentindo o processo\n"
   ]
  },
  {
   "cell_type": "code",
   "execution_count": 13,
   "id": "1d2c92a9",
   "metadata": {},
   "outputs": [
    {
     "data": {
      "text/plain": [
       "[-1, 3, 5, 8, 9, 10, 11]"
      ]
     },
     "execution_count": 13,
     "metadata": {},
     "output_type": "execute_result"
    }
   ],
   "source": [
    "def executar_bubble_sort(lista):\n",
    "    n = len(lista)\n",
    "    for i in range(n-1):\n",
    "        for j in range(n-1):\n",
    "            if lista[j] > lista[j + 1]:\n",
    "                lista[j], lista[j + 1] = lista[j + 1], lista[j]\n",
    "    return lista\n",
    "\n",
    "lista = [10, 9, 5, 8, 11, -1, 3]\n",
    "executar_bubble_sort(lista)"
   ]
  },
  {
   "cell_type": "markdown",
   "id": "04ced7c3",
   "metadata": {},
   "source": [
    "# INSERTION SORT (ORDENAÇÃO POR INSERÇÃO)\n",
    "\n",
    "O algoritmo insertion sort (algoritmo de inserção) recebe esse nome porque faz a ordenação pela simulação da inserção de novos valores na lista.\n",
    "\n",
    "Início: parte-se do princípio de que a lista possui um único valor e, consequentemente, está ordenada.\n",
    "\n",
    "Iteração 1: parte-se do princípio de que um novo valor precisa ser inserido na lista; nesse caso, ele é comparado com o valor já existente para saber se precisa ser feita uma troca de posição.\n",
    "\n",
    "Iteração 2: parte-se do princípio de que um novo valor precisa ser inserido na lista; nesse caso, ele é comparado com os valores já existentes para saber se precisam ser feitas trocas de posição.\n",
    "\n",
    "Iteração N: parte-se do princípio de que um novo valor precisa ser inserido na lista; nesse caso, ele é comparado com todos os valores já existentes (desde o início) para saber se precisam ser feitas trocas de posição.\n"
   ]
  },
  {
   "cell_type": "code",
   "execution_count": 14,
   "id": "0f104529",
   "metadata": {},
   "outputs": [
    {
     "data": {
      "text/plain": [
       "[-1, 3, 5, 8, 9, 10, 11]"
      ]
     },
     "execution_count": 14,
     "metadata": {},
     "output_type": "execute_result"
    }
   ],
   "source": [
    "def executar_insertion_sort(lista):\n",
    "    n = len(lista)\n",
    "    for i in range(1, n):\n",
    "        valor_inserir = lista[i] \n",
    "        j = i - 1\n",
    "        \n",
    "        while j >= 0 and lista[j] > valor_inserir:\n",
    "            lista[j + 1] = lista[j]\n",
    "            j -= 1\n",
    "        lista[j + 1] = valor_inserir\n",
    "    \n",
    "    return lista\n",
    "\n",
    "\n",
    "lista = [10, 9, 5, 8, 11, -1, 3]\n",
    "executar_insertion_sort(lista)"
   ]
  },
  {
   "cell_type": "markdown",
   "id": "f9aabc44",
   "metadata": {},
   "source": [
    "# Complexidade O(N log N): \n",
    "\n",
    "Deste grupo, vamos estudar os algoritmos merge sort e quick sort. Tais algoritmos possuem performance superior, porém são um pouco mais complexos de serem implementados."
   ]
  },
  {
   "cell_type": "markdown",
   "id": "6b2645bc",
   "metadata": {},
   "source": [
    "# MERGE SORT (ORDENAÇÃO POR JUNÇÃO)\n",
    "\n",
    "O algoritmo merge sort recebe esse nome porque faz a ordenação em duas etapa: (i) divide a lista em sublistas; e (ii) junta (merge) as sublistas já ordenadas. Esse algoritmo é conhecido por usar a estratégia \"dividir para conquistar\". Essa estratégia é usada por algoritmos de estrutura recursiva: para resolver um determinado problema, eles se chamam recursivamente uma ou mais vezes para lidar com subproblemas intimamente relacionados\n",
    "\n",
    "Etapa de divisão:\n",
    "Com base na lista original, encontre o meio e separe-a em duas listas: esquerda_1 e direita_2.\n",
    "\n",
    "Com base na sublista esquerda_1, se a quantidade de elementos for maior que 1, encontre o meio e separe-a em duas listas: esquerda_1_1 e direta_1_1.\n",
    "\n",
    "Com base na sublista esquerda_1_1, se a quantidade de elementos for maior que 1, encontre o meio e separe-a em duas listas: esquerda_1_2 e direta_1_2.\n",
    "\n",
    "Repita o processo até encontrar uma lista com tamanho 1.\n",
    "\n",
    "Chame a etapa de merge.\n",
    "\n",
    "Repita o processo para todas as sublistas."
   ]
  },
  {
   "cell_type": "code",
   "execution_count": 15,
   "id": "f591bfa0",
   "metadata": {},
   "outputs": [
    {
     "data": {
      "text/plain": [
       "[-1, 3, 5, 8, 9, 10, 11]"
      ]
     },
     "execution_count": 15,
     "metadata": {},
     "output_type": "execute_result"
    }
   ],
   "source": [
    "def executar_merge_sort(lista):\n",
    "    if len(lista) <= 1: return lista\n",
    "    else:\n",
    "        meio = len(lista) // 2\n",
    "        esquerda = executar_merge_sort(lista[:meio])\n",
    "        direita = executar_merge_sort(lista[meio:])\n",
    "        return executar_merge(esquerda, direita)\n",
    "\n",
    "    \n",
    "def executar_merge(esquerda, direita):\n",
    "    sub_lista_ordenada = []\n",
    "    topo_esquerda, topo_direita = 0, 0\n",
    "    while topo_esquerda < len(esquerda) and topo_direita < len(direita):\n",
    "        if esquerda[topo_esquerda] <= direita[topo_direita]:\n",
    "            sub_lista_ordenada.append(esquerda[topo_esquerda])\n",
    "            topo_esquerda += 1\n",
    "        else:\n",
    "            sub_lista_ordenada.append(direita[topo_direita])\n",
    "            topo_direita += 1\n",
    "    sub_lista_ordenada += esquerda[topo_esquerda:]\n",
    "    sub_lista_ordenada += direita[topo_direita:]\n",
    "    return sub_lista_ordenada\n",
    "\n",
    "\n",
    "lista = [10, 9, 5, 8, 11, -1, 3]\n",
    "executar_merge_sort(lista)"
   ]
  },
  {
   "cell_type": "markdown",
   "id": "c83a9bfb",
   "metadata": {},
   "source": [
    "# QUICKSORT (ORDENAÇÃO RÁPIDA)\n",
    "\n",
    "Dado um valor em uma lista ordenada, à direita desse número existem somente números maiores que ele; e à esquerda, somente os menores. Esse valor, chamado de pivô, é a estratégia central no algoritmo quicksort. O algoritmo quicksort também trabalha com a estratégia de dividir para conquistar, pois, a partir do pivô, quebrará uma lista em sublistas (direita e esquerda) – a cada escolha do pivô e a cada quebra da lista, o processo de ordenação vai acontecendo.\n",
    "\n",
    "Primeira iteração: a lista original será quebrada através de um valor chamado de pivô. Após a quebra, os valores que são menores que o pivô devem ficar à sua esquerda e os maiores à sua direita. O pivô é inserido no local adequado, trocando a posição com o valor atual.\n",
    "\n",
    "Segunda iteração: agora há duas listas, a da direita e a da esquerda do pivô. Novamente são escolhidos dois novos pivôs e é feito o mesmo processo, de colocar à direita os menores e à esquerda os maiores. Ao final os novos pivôs ocupam suas posições corretas.\n",
    "\n",
    "Terceira iteração: olhando para as duas novas sublistas (direita e esquerda), repete-se o processo de escolha dos pivôs e separação.\n",
    "\n",
    "Na última iteração, a lista estará ordenada, como resultado dos passos anteriores."
   ]
  },
  {
   "cell_type": "code",
   "execution_count": 16,
   "id": "0321552a",
   "metadata": {},
   "outputs": [
    {
     "data": {
      "text/plain": [
       "[-1, 3, 5, 8, 9, 10, 11]"
      ]
     },
     "execution_count": 16,
     "metadata": {},
     "output_type": "execute_result"
    }
   ],
   "source": [
    "def executar_quicksort(lista, inicio, fim):\n",
    "    if inicio < fim:\n",
    "        pivo = executar_particao(lista, inicio, fim)\n",
    "        executar_quicksort(lista, inicio, pivo-1)\n",
    "        executar_quicksort(lista, pivo+1, fim)\n",
    "    return lista\n",
    "\n",
    "        \n",
    "def executar_particao(lista, inicio, fim):\n",
    "    pivo = lista[fim]\n",
    "    esquerda = inicio\n",
    "    for direita in range(inicio, fim):\n",
    "        if lista[direita] <= pivo:\n",
    "            lista[direita], lista[esquerda] = lista[esquerda], lista[direita]\n",
    "            esquerda += 1\n",
    "    lista[esquerda], lista[fim] = lista[fim], lista[esquerda]\n",
    "    return esquerda\n",
    "\n",
    "lista = [10, 9, 5, 8, 11, -1, 3]\n",
    "executar_quicksort(lista, inicio=0, fim=len(lista)-1)"
   ]
  },
  {
   "cell_type": "code",
   "execution_count": 17,
   "id": "9ef38622",
   "metadata": {},
   "outputs": [
    {
     "data": {
      "text/plain": [
       "[-1, 3, 5, 8, 9, 10, 11]"
      ]
     },
     "execution_count": 17,
     "metadata": {},
     "output_type": "execute_result"
    }
   ],
   "source": [
    "def executar_quicksort_2(lista):\n",
    "    if len(lista) <= 1: return lista    \n",
    "    pivo = lista[0]\n",
    "    iguais  = [valor for valor in lista if valor == pivo]\n",
    "    menores = [valor for valor in lista if valor <  pivo]\n",
    "    maiores = [valor for valor in lista if valor >  pivo]\n",
    "    return executar_quicksort_2(menores) + iguais + executar_quicksort_2(maiores)\n",
    "\n",
    "\n",
    "lista = [10, 9, 5, 8, 11, -1, 3]\n",
    "executar_quicksort_2(lista)"
   ]
  },
  {
   "cell_type": "code",
   "execution_count": null,
   "id": "d29f3b6d",
   "metadata": {},
   "outputs": [],
   "source": []
  }
 ],
 "metadata": {
  "kernelspec": {
   "display_name": "Python 3 (ipykernel)",
   "language": "python",
   "name": "python3"
  },
  "language_info": {
   "codemirror_mode": {
    "name": "ipython",
    "version": 3
   },
   "file_extension": ".py",
   "mimetype": "text/x-python",
   "name": "python",
   "nbconvert_exporter": "python",
   "pygments_lexer": "ipython3",
   "version": "3.10.7"
  }
 },
 "nbformat": 4,
 "nbformat_minor": 5
}
